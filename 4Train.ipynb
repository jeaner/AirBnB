{
 "cells": [
  {
   "cell_type": "code",
   "execution_count": 1,
   "metadata": {
    "scrolled": true
   },
   "outputs": [
    {
     "data": {
      "text/html": [
       "<table>\n",
       "<thead><tr><th></th><th scope=col>used</th><th scope=col>(Mb)</th><th scope=col>gc trigger</th><th scope=col>(Mb)</th><th scope=col>max used</th><th scope=col>(Mb)</th></tr></thead>\n",
       "<tbody>\n",
       "\t<tr><th scope=row>Ncells</th><td>509150 </td><td>27.2   </td><td>1095217</td><td>58.5   </td><td> 619098</td><td>33.1   </td></tr>\n",
       "\t<tr><th scope=row>Vcells</th><td>974209 </td><td> 7.5   </td><td>8388608</td><td>64.0   </td><td>1606620</td><td>12.3   </td></tr>\n",
       "</tbody>\n",
       "</table>\n"
      ],
      "text/latex": [
       "\\begin{tabular}{r|llllll}\n",
       "  & used & (Mb) & gc trigger & (Mb) & max used & (Mb)\\\\\n",
       "\\hline\n",
       "\tNcells & 509150  & 27.2    & 1095217 & 58.5    &  619098 & 33.1   \\\\\n",
       "\tVcells & 974209  &  7.5    & 8388608 & 64.0    & 1606620 & 12.3   \\\\\n",
       "\\end{tabular}\n"
      ],
      "text/markdown": [
       "\n",
       "| <!--/--> | used | (Mb) | gc trigger | (Mb) | max used | (Mb) | \n",
       "|---|---|\n",
       "| Ncells | 509150  | 27.2    | 1095217 | 58.5    |  619098 | 33.1    | \n",
       "| Vcells | 974209  |  7.5    | 8388608 | 64.0    | 1606620 | 12.3    | \n",
       "\n",
       "\n"
      ],
      "text/plain": [
       "       used   (Mb) gc trigger (Mb) max used (Mb)\n",
       "Ncells 509150 27.2 1095217    58.5  619098  33.1\n",
       "Vcells 974209  7.5 8388608    64.0 1606620  12.3"
      ]
     },
     "metadata": {},
     "output_type": "display_data"
    }
   ],
   "source": [
    "options(warn=-1)\n",
    "gc()\n",
    "folder <- \"analysis1201\""
   ]
  },
  {
   "cell_type": "code",
   "execution_count": 2,
   "metadata": {
    "collapsed": true
   },
   "outputs": [
    {
     "name": "stderr",
     "output_type": "stream",
     "text": [
      "Loading required package: lattice\n",
      "Loading required package: ggplot2\n",
      "Loading required package: carData\n",
      "Loading required package: grid\n",
      "Loading required package: survival\n",
      "\n",
      "Attaching package: 'survival'\n",
      "\n",
      "The following object is masked from 'package:caret':\n",
      "\n",
      "    cluster\n",
      "\n",
      "Loading required package: Formula\n",
      "\n",
      "Attaching package: 'Hmisc'\n",
      "\n",
      "The following objects are masked from 'package:base':\n",
      "\n",
      "    format.pval, units\n",
      "\n",
      "\n",
      "Attaching package: 'plyr'\n",
      "\n",
      "The following objects are masked from 'package:Hmisc':\n",
      "\n",
      "    is.discrete, summarize\n",
      "\n",
      "The following object is masked from 'package:DMwR':\n",
      "\n",
      "    join\n",
      "\n",
      "\n",
      "Attaching package: 'dplyr'\n",
      "\n",
      "The following objects are masked from 'package:plyr':\n",
      "\n",
      "    arrange, count, desc, failwith, id, mutate, rename, summarise,\n",
      "    summarize\n",
      "\n",
      "The following objects are masked from 'package:Hmisc':\n",
      "\n",
      "    src, summarize\n",
      "\n",
      "The following object is masked from 'package:car':\n",
      "\n",
      "    recode\n",
      "\n",
      "The following object is masked from 'package:xgboost':\n",
      "\n",
      "    slice\n",
      "\n",
      "The following objects are masked from 'package:stats':\n",
      "\n",
      "    filter, lag\n",
      "\n",
      "The following objects are masked from 'package:base':\n",
      "\n",
      "    intersect, setdiff, setequal, union\n",
      "\n",
      "\n",
      "Attaching package: 'data.table'\n",
      "\n",
      "The following objects are masked from 'package:dplyr':\n",
      "\n",
      "    between, first, last\n",
      "\n",
      "\n",
      "Attaching package: 'DescTools'\n",
      "\n",
      "The following object is masked from 'package:data.table':\n",
      "\n",
      "    %like%\n",
      "\n",
      "The following objects are masked from 'package:Hmisc':\n",
      "\n",
      "    %nin%, Label, Mean, Quantile\n",
      "\n",
      "The following object is masked from 'package:car':\n",
      "\n",
      "    Recode\n",
      "\n",
      "The following objects are masked from 'package:caret':\n",
      "\n",
      "    MAE, RMSE\n",
      "\n",
      "\n",
      "Attaching package: 'Matrix'\n",
      "\n",
      "The following object is masked from 'package:tidyr':\n",
      "\n",
      "    expand\n",
      "\n",
      "Loading required package: foreach\n",
      "Loaded glmnet 2.0-16\n",
      "\n"
     ]
    }
   ],
   "source": [
    "library(xgboost)\n",
    "library(readr)\n",
    "library(stringr)\n",
    "library(caret)\n",
    "library(car)\n",
    "library(DMwR)\n",
    "library(Hmisc)\n",
    "library(plyr)\n",
    "library(dplyr)\n",
    "library(tidyr)\n",
    "library(data.table)\n",
    "library(DescTools)\n",
    "library(Matrix)\n",
    "library(glmnet)\n",
    "library(plotrix)\n",
    "library(Ckmeans.1d.dp)\n",
    "\n",
    "set.seed(0)\n",
    "setwd(\"C:/Users/Jeane/MSDS/Proj2\")"
   ]
  },
  {
   "cell_type": "code",
   "execution_count": 3,
   "metadata": {
    "collapsed": true
   },
   "outputs": [
    {
     "name": "stdout",
     "output_type": "stream",
     "text": [
      "[16:24:09] 213451x269 matrix with 57418319 entries loaded from cache/analysis1201/dX.xgb.DMatrix.data\n",
      "[16:24:09] 62096x269 matrix with 16703824 entries loaded from cache/analysis1201/dX_test.xgb.DMatrix.data\n",
      "[16:24:11] 193116x269 matrix with 51948204 entries loaded from cache/analysis1201/dX_train.xgb.DMatrix.data\n",
      "[16:24:11] 62096x269 matrix with 16703824 entries loaded from cache/analysis1201/dX_test.xgb.DMatrix.data\n"
     ]
    }
   ],
   "source": [
    "X_all_feature <- readRDS(paste0(\"cache/\",folder,\"/X_all_feature.RData\"))\n",
    "X_id <- readRDS(paste0(\"cache/\",folder,\"/X_id.RData\"))\n",
    "X_test_id <- readRDS(paste0(\"cache/\",folder,\"/X_test_id.RData\"))\n",
    "X_train_id <- readRDS(paste0(\"cache/\",folder,\"/X_train_id.RData\"))\n",
    "X_valid_id <- readRDS(paste0(\"cache/\",folder,\"/X_valid_id.RData\"))\n",
    "\n",
    "y <- readRDS(paste0(\"cache/\",folder,\"/y.RData\"))\n",
    "y_test <- readRDS(paste0(\"cache/\",folder,\"/y_test.RData\"))\n",
    "y_train <- readRDS(paste0(\"cache/\",folder,\"/y_train.RData\"))\n",
    "y_valid <- readRDS(paste0(\"cache/\",folder,\"/y_valid.RData\"))\n",
    "\n",
    "X_sp <- readRDS(paste0(\"cache/\",folder,\"/X_sp.RData\"))\n",
    "X_test_sp <- readRDS(paste0(\"cache/\",folder,\"/X_test_sp.RData\"))\n",
    "X_train_sp <- readRDS(paste0(\"cache/\",folder,\"/X_train_sp.RData\"))\n",
    "X_valid_sp <- readRDS(paste0(\"cache/\",folder,\"/X_valid_sp.RData\"))\n",
    "\n",
    "dX <- xgb.DMatrix(paste0(\"cache/\",folder,\"/dX.xgb.DMatrix.data\"))\n",
    "dX_test <- xgb.DMatrix(paste0(\"cache/\",folder,\"/dX_test.xgb.DMatrix.data\"))\n",
    "dX_train <- xgb.DMatrix(paste0(\"cache/\",folder,\"/dX_train.xgb.DMatrix.data\"))\n",
    "dX_test <- xgb.DMatrix(paste0(\"cache/\",folder,\"/dX_test.xgb.DMatrix.data\"))\n"
   ]
  },
  {
   "cell_type": "markdown",
   "metadata": {},
   "source": [
    "# Make the Normalized Discounted Cummulative Gains evaluation metric"
   ]
  },
  {
   "cell_type": "code",
   "execution_count": 4,
   "metadata": {},
   "outputs": [],
   "source": [
    "dcg_at_k <- function (r, k=min(5, length(r)) ) {\n",
    "  #only coded alternative formulation of DCG (used by kaggle)\n",
    "  r <- as.vector(r)[1:k]\n",
    "  sum(( 2^r - 1 )/ log2( 2:(length(r)+1)) )\n",
    "} \n",
    "\n",
    "ndcg_at_k <- function(r, k=min(5, length(r)) ) {\n",
    "  r <- as.vector(r)[1:k]\n",
    "  if (sum(r) <= 0) return (0)     # no hits (dcg_max = 0)\n",
    "  dcg_max = dcg_at_k(sort(r, decreasing=TRUE)[1:k], k)\n",
    "  return ( dcg_at_k(r, k) / dcg_max )\n",
    "}\n",
    "\n",
    "score_predictions <- function(preds, truth) {\n",
    "  # preds: matrix or data.frame\n",
    "  # one row for each observation, one column for each prediction.\n",
    "  # Columns are sorted from left to right descending in order of likelihood.\n",
    "  # truth: vector\n",
    "  # one row for each observation.\n",
    "  preds <- as.matrix(preds)\n",
    "  truth <- as.vector(truth)\n",
    "  \n",
    "  stopifnot( length(truth) == nrow(preds))\n",
    "  r <- apply( cbind( truth, preds), 1\n",
    "              , function(x) ifelse( x == x[1], 1, 0))[ -1, ]\n",
    "  if ( ncol(preds) == 1) r <-  rbind( r, r)  #workaround for 1d matrices\n",
    "  as.vector( apply(r, 2, ndcg_at_k) )\n",
    "}\n",
    "\n",
    "ndcg5 <- function(preds, dtrain) {\n",
    "  \n",
    "  labels <- getinfo(dtrain,\"label\")\n",
    "  num.class = length(unique(labels))\n",
    "  pred <- matrix(preds, nrow = num.class)\n",
    "  top <- t(apply(pred, 2, function(y) order(y)[num.class:(num.class-4)]-1))\n",
    "  \n",
    "  x <- ifelse(top==labels,1,0)\n",
    "  dcg <- function(y) sum((2^y - 1)/log(2:(length(y)+1), base = 2))\n",
    "  ndcg <- mean(apply(x,1,dcg))\n",
    "  return(list(metric = \"ndcg5\", value = ndcg))\n",
    "}"
   ]
  },
  {
   "cell_type": "code",
   "execution_count": 5,
   "metadata": {},
   "outputs": [],
   "source": [
    "Mean <- function(x) mean(x, na.rm=TRUE)\n",
    "Median <- function(x) median(x, na.rm=TRUE)\n",
    "Sd <- function(x) sd(x, na.rm=TRUE)\n",
    "Sum <- function(x) sum(x, na.rm=TRUE)\n",
    "Max <- function(x) max(x, na.rm=TRUE)\n",
    "Min <- function(x) min(x, na.rm=TRUE)\n",
    "Mean_value <- function(x) ifelse(is.nan(mean(x, na.rm=TRUE))==T, NA, mean(x, na.rm=TRUE))\n",
    "Sum_value <- function(x) ifelse(sum(!is.na(x))==0, NA, sum(x, na.rm=TRUE))\n",
    "Max_value <- function(x) ifelse(is.infinite(max(x, na.rm=TRUE))==T, NA, max(x, na.rm=TRUE))\n",
    "Min_value <- function(x) ifelse(is.infinite(min(x, na.rm=TRUE))==T, NA, min(x, na.rm=TRUE))\n"
   ]
  },
  {
   "cell_type": "markdown",
   "metadata": {},
   "source": [
    "# Hyperparatmenters Exploration"
   ]
  },
  {
   "cell_type": "markdown",
   "metadata": {},
   "source": [
    "### ETA"
   ]
  },
  {
   "cell_type": "code",
   "execution_count": 7,
   "metadata": {
    "collapsed": true
   },
   "outputs": [
    {
     "name": "stdout",
     "output_type": "stream",
     "text": [
      "[1]\ttrain-ndcg5:0.861170+0.037563\ttest-ndcg5:0.860050+0.038637 \n",
      "Multiple eval metrics are present. Will use test_ndcg5 for early stopping.\n",
      "Will train until test_ndcg5 hasn't improved in 10 rounds.\n",
      "\n"
     ]
    }
   ],
   "source": [
    "#Eta 0.05\n",
    "param2 <- list(\"objective\" = \"multi:softprob\",\n",
    "                \"num_class\" = 12,\n",
    "                \"eta\" = 0.05,\n",
    "                \"max_depth\" = 6,\n",
    "                \"subsample\" = 0.5,\n",
    "                \"colsample_bytree\" = 0.3,\n",
    "                \"alpha\" = 1.0,\n",
    "                \"nthread\" = 24)\n",
    "cv_model = xgb.cv(param = param2,\n",
    "                  data = dX_train, \n",
    "                  nfold = 10,\n",
    "                  nrounds = 10,\n",
    "                  maximize = TRUE,\n",
    "                  feval = ndcg5,\n",
    "                  early.stop.round = 10\n",
    "  )"
   ]
  },
  {
   "cell_type": "code",
   "execution_count": 9,
   "metadata": {
    "collapsed": true
   },
   "outputs": [
    {
     "name": "stdout",
     "output_type": "stream",
     "text": [
      "[1]\ttrain-ndcg5:0.841801+0.029293\ttest-ndcg5:0.840173+0.028222 \n",
      "Multiple eval metrics are present. Will use test_ndcg5 for early stopping.\n",
      "Will train until test_ndcg5 hasn't improved in 10 rounds.\n",
      "\n"
     ]
    }
   ],
   "source": [
    "#Eta 0.1\n",
    "param3 <- list(\"objective\" = \"multi:softprob\",\n",
    "                \"num_class\" = 12,\n",
    "                \"eta\" = 0.1,\n",
    "                \"max_depth\" = 6,\n",
    "                \"subsample\" = 0.5,\n",
    "                \"colsample_bytree\" = 0.3,\n",
    "                \"alpha\" = 1.0,\n",
    "                \"nthread\" = 24)\n",
    "cv_model3 = xgb.cv(param = param3,\n",
    "                  data = dX_train, \n",
    "                  nfold = 2,\n",
    "                  nrounds = 1,\n",
    "                  maximize = TRUE,\n",
    "                  feval = ndcg5,\n",
    "                  early.stop.round = 10\n",
    "  )"
   ]
  },
  {
   "cell_type": "markdown",
   "metadata": {},
   "source": [
    "### Max Depth"
   ]
  },
  {
   "cell_type": "code",
   "execution_count": 12,
   "metadata": {
    "collapsed": true
   },
   "outputs": [
    {
     "name": "stdout",
     "output_type": "stream",
     "text": [
      "[1]\ttrain-ndcg5:0.855574+0.039057\ttest-ndcg5:0.855206+0.039286 \n",
      "Multiple eval metrics are present. Will use test_ndcg5 for early stopping.\n",
      "Will train until test_ndcg5 hasn't improved in 10 rounds.\n",
      "\n"
     ]
    }
   ],
   "source": [
    "#MD 3\n",
    "param4 <- list(\"objective\" = \"multi:softprob\",\n",
    "                \"num_class\" = 12,\n",
    "                \"eta\" = 0.05,\n",
    "                \"max_depth\" = 3,\n",
    "                \"subsample\" = 0.5,\n",
    "                \"colsample_bytree\" = 0.3,\n",
    "                \"alpha\" = 1.0,\n",
    "                \"nthread\" = 24)\n",
    "cv_model4 = xgb.cv(param = param4,\n",
    "                  data = dX_train, \n",
    "                  nfold = 10,\n",
    "                  nrounds = 10,\n",
    "                  maximize = TRUE,\n",
    "                  feval = ndcg5,\n",
    "                  early.stop.round = 10)"
   ]
  },
  {
   "cell_type": "code",
   "execution_count": 13,
   "metadata": {
    "collapsed": true
   },
   "outputs": [
    {
     "name": "stdout",
     "output_type": "stream",
     "text": [
      "[1]\ttrain-ndcg5:0.895707+0.000241\ttest-ndcg5:0.894410+0.000578 \n",
      "Multiple eval metrics are present. Will use test_ndcg5 for early stopping.\n",
      "Will train until test_ndcg5 hasn't improved in 10 rounds.\n",
      "\n"
     ]
    }
   ],
   "source": [
    "#MD 6\n",
    "param5 <- list(\"objective\" = \"multi:softprob\",\n",
    "                \"num_class\" = 12,\n",
    "                \"eta\" = 0.05,\n",
    "                \"max_depth\" = 6,\n",
    "                \"subsample\" = 0.5,\n",
    "                \"colsample_bytree\" = 0.3,\n",
    "                \"alpha\" = 1.0,\n",
    "                \"nthread\" = 24)\n",
    "cv_model5 = xgb.cv(param = param5,\n",
    "                  data = dX_train, \n",
    "                  nfold = 10,\n",
    "                  nrounds = 10,\n",
    "                  maximize = TRUE,\n",
    "                  feval = ndcg5,\n",
    "                  early.stop.round = 10)"
   ]
  },
  {
   "cell_type": "code",
   "execution_count": 14,
   "metadata": {
    "collapsed": true
   },
   "outputs": [
    {
     "name": "stdout",
     "output_type": "stream",
     "text": [
      "[1]\ttrain-ndcg5:0.883576+0.010525\ttest-ndcg5:0.877263+0.011081 \n",
      "Multiple eval metrics are present. Will use test_ndcg5 for early stopping.\n",
      "Will train until test_ndcg5 hasn't improved in 10 rounds.\n",
      "\n"
     ]
    }
   ],
   "source": [
    "#MD 12\n",
    "param5 <- list(\"objective\" = \"multi:softprob\",\n",
    "                \"num_class\" = 12,\n",
    "                \"eta\" = 0.05,\n",
    "                \"max_depth\" = 12,\n",
    "                \"subsample\" = 0.5,\n",
    "                \"colsample_bytree\" = 0.3,\n",
    "                \"alpha\" = 1.0,\n",
    "                \"nthread\" = 24)\n",
    "cv_model5 = xgb.cv(param = param5,\n",
    "                  data = dX_train, \n",
    "                  nfold = 10,\n",
    "                  nrounds = 10,\n",
    "                  maximize = TRUE,\n",
    "                  feval = ndcg5,\n",
    "                  early.stop.round = 10)"
   ]
  },
  {
   "cell_type": "markdown",
   "metadata": {},
   "source": [
    "#### xgb.cv is a cross-validation feature in xgboost to estimate error\n",
    "#### https://rpubs.com/mharris/multiclass_xgboost"
   ]
  },
  {
   "cell_type": "code",
   "execution_count": 25,
   "metadata": {
    "collapsed": true
   },
   "outputs": [
    {
     "name": "stdout",
     "output_type": "stream",
     "text": [
      "[1]\ttrain-ndcg5:0.852630+0.026891\ttest-ndcg5:0.851593+0.026451 \n",
      "Multiple eval metrics are present. Will use test_ndcg5 for early stopping.\n",
      "Will train until test_ndcg5 hasn't improved in 10 rounds.\n",
      "\n",
      "[2]\ttrain-ndcg5:0.857707+0.022058\ttest-ndcg5:0.856642+0.021962 \n",
      "[1]\ttrain-ndcg5:0.852630+0.026891\ttest-ndcg5:0.851593+0.026451 \n",
      "Multiple eval metrics are present. Will use test_ndcg5 for early stopping.\n",
      "Will train until test_ndcg5 hasn't improved in 10 rounds.\n",
      "\n",
      "[2]\ttrain-ndcg5:0.857707+0.022058\ttest-ndcg5:0.856642+0.021962 \n",
      "[1]\ttrain-ndcg5:0.852630+0.026891\ttest-ndcg5:0.851593+0.026451 \n",
      "Multiple eval metrics are present. Will use test_ndcg5 for early stopping.\n",
      "Will train until test_ndcg5 hasn't improved in 10 rounds.\n",
      "\n",
      "[2]\ttrain-ndcg5:0.857707+0.022058\ttest-ndcg5:0.856642+0.021962 \n",
      "[1]\ttrain-ndcg5:0.852630+0.026891\ttest-ndcg5:0.851593+0.026451 \n",
      "Multiple eval metrics are present. Will use test_ndcg5 for early stopping.\n",
      "Will train until test_ndcg5 hasn't improved in 10 rounds.\n",
      "\n",
      "[2]\ttrain-ndcg5:0.857707+0.022058\ttest-ndcg5:0.856642+0.021962 \n",
      "[1]\ttrain-ndcg5:0.852630+0.026891\ttest-ndcg5:0.851593+0.026451 \n",
      "Multiple eval metrics are present. Will use test_ndcg5 for early stopping.\n",
      "Will train until test_ndcg5 hasn't improved in 10 rounds.\n",
      "\n",
      "[2]\ttrain-ndcg5:0.857707+0.022058\ttest-ndcg5:0.856642+0.021962 \n",
      "[1]\ttrain-ndcg5:0.852630+0.026891\ttest-ndcg5:0.851593+0.026451 \n",
      "Multiple eval metrics are present. Will use test_ndcg5 for early stopping.\n",
      "Will train until test_ndcg5 hasn't improved in 10 rounds.\n",
      "\n",
      "[2]\ttrain-ndcg5:0.857707+0.022058\ttest-ndcg5:0.856642+0.021962 \n",
      "[1]\ttrain-ndcg5:0.852630+0.026891\ttest-ndcg5:0.851593+0.026451 \n",
      "Multiple eval metrics are present. Will use test_ndcg5 for early stopping.\n",
      "Will train until test_ndcg5 hasn't improved in 10 rounds.\n",
      "\n",
      "[2]\ttrain-ndcg5:0.857707+0.022058\ttest-ndcg5:0.856642+0.021962 \n",
      "[1]\ttrain-ndcg5:0.852630+0.026891\ttest-ndcg5:0.851593+0.026451 \n",
      "Multiple eval metrics are present. Will use test_ndcg5 for early stopping.\n",
      "Will train until test_ndcg5 hasn't improved in 10 rounds.\n",
      "\n",
      "[2]\ttrain-ndcg5:0.857707+0.022058\ttest-ndcg5:0.856642+0.021962 \n",
      "[1]\ttrain-ndcg5:0.852630+0.026891\ttest-ndcg5:0.851593+0.026451 \n",
      "Multiple eval metrics are present. Will use test_ndcg5 for early stopping.\n",
      "Will train until test_ndcg5 hasn't improved in 10 rounds.\n",
      "\n",
      "[2]\ttrain-ndcg5:0.857707+0.022058\ttest-ndcg5:0.856642+0.021962 \n",
      "[1]\ttrain-ndcg5:0.852630+0.026891\ttest-ndcg5:0.851593+0.026451 \n",
      "Multiple eval metrics are present. Will use test_ndcg5 for early stopping.\n",
      "Will train until test_ndcg5 hasn't improved in 10 rounds.\n",
      "\n",
      "[2]\ttrain-ndcg5:0.857707+0.022058\ttest-ndcg5:0.856642+0.021962 \n"
     ]
    }
   ],
   "source": [
    "nDCG_score_df <- data.frame()\n",
    "for(i in 1:10){\n",
    "  i <- 1\n",
    "  start_time <- proc.time()\n",
    "  set.seed(123 * i)\n",
    "  rate <- 0.9\n",
    "  \n",
    "  feature_set_index <- createDataPartition(1:ncol(X_sp), p = rate,\n",
    "                                           list = FALSE,\n",
    "                                           times = 1)\n",
    "  feature_set_index <- feature_set_index[,1]\n",
    "  X_sp_ <- X_sp[, feature_set_index]\n",
    "  X_test_sp_ <- X_test_sp[, feature_set_index]\n",
    "  X_all_feature_ <- subset(X_all_feature, feature %in% feature_set_index)\n",
    "  \n",
    "  dX_ <- xgb.DMatrix(X_sp_, label = y, missing = -99999)\n",
    "  \n",
    "  param <- list(\"objective\" = \"multi:softprob\",\n",
    "                \"num_class\" = 12,\n",
    "                \"eta\" = 0.05,\n",
    "                \"max_depth\" = 6,\n",
    "                \"subsample\" = 0.5,\n",
    "                \"colsample_bytree\" = 0.3,\n",
    "                \"alpha\" = 1.0,\n",
    "                \"nthread\" = 24)\n",
    "  \n",
    "  # Run Cross Valication\n",
    "  cv.nround = 2\n",
    "  #cv.nround = 30\n",
    "  bst.cv = xgb.cv(param = param,\n",
    "                  data = dX_, \n",
    "                  nfold = 5,\n",
    "                  nrounds = cv.nround,\n",
    "                  maximize = TRUE,\n",
    "                  feval = ndcg5,\n",
    "                  early.stop.round = 10\n",
    "  )\n",
    "\n",
    "  elapse_time <- proc.time() - start_time\n",
    "  nDCG_score_df_ <- data.frame(\n",
    "    feature_set = i,\n",
    "    nDCG = max(bst.cv$evaluation_log$test_ndcg5_mean),\n",
    "    elapse_time = elapse_time[[3]],\n",
    "    n = which.max(bst.cv$evaluation_log$test_ndcg5_mean)\n",
    "  )\n",
    "  nDCG_score_df <- bind_rows(\n",
    "    nDCG_score_df,\n",
    "    nDCG_score_df_\n",
    "  )\n",
    "  saveRDS(X_all_feature_, paste0(\"cache/\",folder,\"/test/X_all_feature\",i,\".RData\"))\n",
    "  saveRDS(nDCG_score_df, paste0(\"cache/\",folder,\"/test/nDCG_score_df.RData\"))\n",
    "}\n"
   ]
  },
  {
   "cell_type": "code",
   "execution_count": 43,
   "metadata": {},
   "outputs": [],
   "source": [
    "nDCG_score_df <- readRDS(paste0(\"cache/\",folder,\"/test/nDCG_score_df.RData\"))\n",
    "\n",
    "i <- which.max(nDCG_score_df$nDCG)\n",
    "n <- nDCG_score_df$n[which.max(nDCG_score_df$n)]\n",
    "X_all_feature <- readRDS(paste0(\"cache/\",folder,\"/X_all_feature.RData\"))\n",
    "X_all_feature_ <- readRDS(paste0(\"cache/\",folder,\"/test/X_all_feature\",i,\".RData\"))"
   ]
  },
  {
   "cell_type": "code",
   "execution_count": 40,
   "metadata": {},
   "outputs": [],
   "source": [
    "nDCG_score_df <- readRDS(paste0(\"cache/\",folder,\"/test/nDCG_score_df.RData\"))\n",
    "\n",
    "i <- which.max(nDCG_score_df$nDCG)\n",
    "n <- nDCG_score_df$n[which.max(nDCG_score_df$n)]\n",
    "X_all_feature <- readRDS(paste0(\"cache/\",folder,\"/X_all_feature.RData\"))\n",
    "X_all_feature_ <- readRDS(paste0(\"cache/\",folder,\"/test/X_all_feature\",\n",
    "                                 i,\".RData\"))\n",
    "\n",
    "X_all_feature_select <- subset(X_all_feature,\n",
    "                               feature_name %in% X_all_feature_$feature_name)"
   ]
  },
  {
   "cell_type": "markdown",
   "metadata": {},
   "source": [
    "# Final Training"
   ]
  },
  {
   "cell_type": "code",
   "execution_count": 49,
   "metadata": {
    "scrolled": true
   },
   "outputs": [
    {
     "name": "stdout",
     "output_type": "stream",
     "text": [
      "[1]\ttrain-ndcg5:0.823590 \n",
      "[2]\ttrain-ndcg5:0.864986 \n",
      "[3]\ttrain-ndcg5:0.874783 \n",
      "[4]\ttrain-ndcg5:0.868293 \n",
      "[5]\ttrain-ndcg5:0.873097 \n",
      "[6]\ttrain-ndcg5:0.885656 \n",
      "[7]\ttrain-ndcg5:0.875659 \n",
      "[8]\ttrain-ndcg5:0.873228 \n",
      "[9]\ttrain-ndcg5:0.877974 \n",
      "[10]\ttrain-ndcg5:0.886876 \n",
      "[11]\ttrain-ndcg5:0.886172 \n",
      "[12]\ttrain-ndcg5:0.886695 \n",
      "[13]\ttrain-ndcg5:0.886213 \n",
      "[14]\ttrain-ndcg5:0.887108 \n",
      "[15]\ttrain-ndcg5:0.888606 \n",
      "[16]\ttrain-ndcg5:0.889093 \n",
      "[17]\ttrain-ndcg5:0.891906 \n",
      "[18]\ttrain-ndcg5:0.892788 \n",
      "[19]\ttrain-ndcg5:0.892889 \n",
      "[20]\ttrain-ndcg5:0.892643 \n",
      "[21]\ttrain-ndcg5:0.892975 \n",
      "[22]\ttrain-ndcg5:0.892797 \n",
      "[23]\ttrain-ndcg5:0.893186 \n",
      "[24]\ttrain-ndcg5:0.893271 \n",
      "[25]\ttrain-ndcg5:0.893313 \n",
      "[26]\ttrain-ndcg5:0.893342 \n",
      "[27]\ttrain-ndcg5:0.893212 \n",
      "[28]\ttrain-ndcg5:0.893332 \n",
      "[29]\ttrain-ndcg5:0.893414 \n",
      "[30]\ttrain-ndcg5:0.893508 \n",
      "[31]\ttrain-ndcg5:0.893591 \n",
      "[32]\ttrain-ndcg5:0.893599 \n",
      "[33]\ttrain-ndcg5:0.893795 \n",
      "[34]\ttrain-ndcg5:0.893984 \n",
      "[35]\ttrain-ndcg5:0.894166 \n",
      "[36]\ttrain-ndcg5:0.894266 \n",
      "[37]\ttrain-ndcg5:0.894552 \n",
      "[38]\ttrain-ndcg5:0.894711 \n",
      "[39]\ttrain-ndcg5:0.894663 \n",
      "[40]\ttrain-ndcg5:0.894825 \n",
      "[41]\ttrain-ndcg5:0.894694 \n",
      "[42]\ttrain-ndcg5:0.894934 \n",
      "[43]\ttrain-ndcg5:0.895138 \n",
      "[44]\ttrain-ndcg5:0.895080 \n",
      "[45]\ttrain-ndcg5:0.895320 \n",
      "[46]\ttrain-ndcg5:0.895233 \n",
      "[47]\ttrain-ndcg5:0.895382 \n",
      "[48]\ttrain-ndcg5:0.895323 \n",
      "[49]\ttrain-ndcg5:0.895309 \n",
      "[50]\ttrain-ndcg5:0.895513 \n",
      "[51]\ttrain-ndcg5:0.895831 \n",
      "[52]\ttrain-ndcg5:0.895827 \n",
      "[53]\ttrain-ndcg5:0.896097 \n",
      "[54]\ttrain-ndcg5:0.896118 \n",
      "[55]\ttrain-ndcg5:0.896172 \n",
      "[56]\ttrain-ndcg5:0.896326 \n",
      "[57]\ttrain-ndcg5:0.896299 \n",
      "[58]\ttrain-ndcg5:0.896349 \n",
      "[59]\ttrain-ndcg5:0.896614 \n",
      "[60]\ttrain-ndcg5:0.896639 \n",
      "[61]\ttrain-ndcg5:0.896695 \n",
      "[62]\ttrain-ndcg5:0.896785 \n",
      "[63]\ttrain-ndcg5:0.896978 \n",
      "[64]\ttrain-ndcg5:0.896961 \n",
      "[65]\ttrain-ndcg5:0.897279 \n",
      "[66]\ttrain-ndcg5:0.897293 \n",
      "[67]\ttrain-ndcg5:0.897570 \n",
      "[68]\ttrain-ndcg5:0.897826 \n",
      "[69]\ttrain-ndcg5:0.897919 \n",
      "[70]\ttrain-ndcg5:0.897945 \n",
      "[71]\ttrain-ndcg5:0.898230 \n",
      "[72]\ttrain-ndcg5:0.898250 \n",
      "[73]\ttrain-ndcg5:0.898249 \n",
      "[74]\ttrain-ndcg5:0.898216 \n",
      "[75]\ttrain-ndcg5:0.898265 \n",
      "[76]\ttrain-ndcg5:0.898247 \n",
      "[77]\ttrain-ndcg5:0.898264 \n",
      "[78]\ttrain-ndcg5:0.898295 \n",
      "[79]\ttrain-ndcg5:0.898495 \n",
      "[80]\ttrain-ndcg5:0.898672 \n",
      "[81]\ttrain-ndcg5:0.898759 \n",
      "[82]\ttrain-ndcg5:0.898914 \n",
      "[83]\ttrain-ndcg5:0.898996 \n",
      "[84]\ttrain-ndcg5:0.899179 \n",
      "[85]\ttrain-ndcg5:0.899291 \n",
      "[86]\ttrain-ndcg5:0.899534 \n",
      "[87]\ttrain-ndcg5:0.899543 \n",
      "[88]\ttrain-ndcg5:0.899707 \n",
      "[89]\ttrain-ndcg5:0.899731 \n",
      "[90]\ttrain-ndcg5:0.899824 \n",
      "[91]\ttrain-ndcg5:0.899861 \n",
      "[92]\ttrain-ndcg5:0.899934 \n",
      "[93]\ttrain-ndcg5:0.900111 \n",
      "[94]\ttrain-ndcg5:0.900241 \n",
      "[95]\ttrain-ndcg5:0.900397 \n",
      "[96]\ttrain-ndcg5:0.900550 \n",
      "[97]\ttrain-ndcg5:0.900706 \n",
      "[98]\ttrain-ndcg5:0.900792 \n",
      "[99]\ttrain-ndcg5:0.900902 \n",
      "[100]\ttrain-ndcg5:0.900911 \n"
     ]
    }
   ],
   "source": [
    "dX_test_ <- xgb.DMatrix(X_test_sp_, missing = -99999)\n",
    "    \n",
    "    xgb <- xgboost(data = dX_, \n",
    "                   eta = 0.05,\n",
    "                   max_depth = 6,  \n",
    "                   nround = 100, \n",
    "                   subsample = 0.5,\n",
    "                   colsample_bytree = 0.3,\n",
    "                   alpha = 1.0,\n",
    "                   eval_metric = ndcg5,\n",
    "                   prediction = TRUE,\n",
    "                   maximize = TRUE,\n",
    "                   objective = \"multi:softprob\",\n",
    "                   num_class = 12,\n",
    "                   nthread = 24)"
   ]
  },
  {
   "cell_type": "code",
   "execution_count": null,
   "metadata": {},
   "outputs": [],
   "source": [
    "X_all_imp <- xgb.importance(X_all_feature$feature_name, model=xgb)\n",
    "saveRDS(X_all_imp, paste0(\"cache/\",folder,\"test/X_all_imp\",i,\".RData\"))"
   ]
  },
  {
   "cell_type": "code",
   "execution_count": 52,
   "metadata": {},
   "outputs": [],
   "source": [
    "y_pred <- predict(xgb, dX_test_)\n",
    "    "
   ]
  },
  {
   "cell_type": "code",
   "execution_count": 53,
   "metadata": {},
   "outputs": [],
   "source": [
    "predictions <- as.data.frame(t(matrix(y_pred, nrow=12)))\n",
    "colnames(predictions) <- c('NDF','US','other','FR','CA','GB','ES','IT','PT','NL','DE','AU')\n",
    "\n",
    "X_test_predictions <- bind_cols(\n",
    "  X_test_id,\n",
    "  predictions \n",
    ")\n",
    "saveRDS(X_test_predictions, paste0(\"cache/\",folder,\"/test/X_test_predictions_part2_\",i,\".RData\"))"
   ]
  },
  {
   "cell_type": "code",
   "execution_count": null,
   "metadata": {},
   "outputs": [],
   "source": [
    "test_prediction <- matrix(test_pred, nrow = numberOfClasses,\n",
    "                          ncol=length(test_pred)/numberOfClasses) %>%\n",
    "  t() %>%\n",
    "  data.frame() %>%\n",
    "  mutate(label = test_label + 1,\n",
    "         max_prob = max.col(., \"last\"))\n",
    "# confusion matrix of test set\n",
    "confusionMatrix(factor(test_prediction$max_prob),\n",
    "                factor(test_prediction$label),\n",
    "                mode = \"everything\")"
   ]
  },
  {
   "cell_type": "code",
   "execution_count": 63,
   "metadata": {},
   "outputs": [
    {
     "data": {
      "text/html": [
       "<table>\n",
       "<thead><tr><th scope=col>Feature</th><th scope=col>Gain</th><th scope=col>Cover</th><th scope=col>Frequency</th></tr></thead>\n",
       "<tbody>\n",
       "\t<tr><td>dfb_tfa_lag                        </td><td>0.41723141                         </td><td>0.06125200                         </td><td>0.027901496                        </td></tr>\n",
       "\t<tr><td>dfb_dac_lag                        </td><td>0.33088981                         </td><td>0.06775236                         </td><td>0.036667845                        </td></tr>\n",
       "\t<tr><td>action_type_flg_sum_booking_request</td><td>0.04441529                         </td><td>0.04230923                         </td><td>0.010250972                        </td></tr>\n",
       "\t<tr><td>population_in_thousands.AU         </td><td>0.02120187                         </td><td>0.02862204                         </td><td>0.020219159                        </td></tr>\n",
       "\t<tr><td>age_pred                           </td><td>0.01510186                         </td><td>0.06464245                         </td><td>0.057523271                        </td></tr>\n",
       "\t<tr><td>signup_method_facebook             </td><td>0.01082172                         </td><td>0.01517188                         </td><td>0.006621892                        </td></tr>\n",
       "</tbody>\n",
       "</table>\n"
      ],
      "text/latex": [
       "\\begin{tabular}{r|llll}\n",
       " Feature & Gain & Cover & Frequency\\\\\n",
       "\\hline\n",
       "\t dfb\\_tfa\\_lag                         & 0.41723141                              & 0.06125200                              & 0.027901496                            \\\\\n",
       "\t dfb\\_dac\\_lag                         & 0.33088981                              & 0.06775236                              & 0.036667845                            \\\\\n",
       "\t action\\_type\\_flg\\_sum\\_booking\\_request & 0.04441529                                    & 0.04230923                                    & 0.010250972                                  \\\\\n",
       "\t population\\_in\\_thousands.AU          & 0.02120187                              & 0.02862204                              & 0.020219159                            \\\\\n",
       "\t age\\_pred                            & 0.01510186                            & 0.06464245                            & 0.057523271                          \\\\\n",
       "\t signup\\_method\\_facebook              & 0.01082172                              & 0.01517188                              & 0.006621892                            \\\\\n",
       "\\end{tabular}\n"
      ],
      "text/markdown": [
       "\n",
       "Feature | Gain | Cover | Frequency | \n",
       "|---|---|---|---|---|---|\n",
       "| dfb_tfa_lag                         | 0.41723141                          | 0.06125200                          | 0.027901496                         | \n",
       "| dfb_dac_lag                         | 0.33088981                          | 0.06775236                          | 0.036667845                         | \n",
       "| action_type_flg_sum_booking_request | 0.04441529                          | 0.04230923                          | 0.010250972                         | \n",
       "| population_in_thousands.AU          | 0.02120187                          | 0.02862204                          | 0.020219159                         | \n",
       "| age_pred                            | 0.01510186                          | 0.06464245                          | 0.057523271                         | \n",
       "| signup_method_facebook              | 0.01082172                          | 0.01517188                          | 0.006621892                         | \n",
       "\n",
       "\n"
      ],
      "text/plain": [
       "  Feature                             Gain       Cover      Frequency  \n",
       "1 dfb_tfa_lag                         0.41723141 0.06125200 0.027901496\n",
       "2 dfb_dac_lag                         0.33088981 0.06775236 0.036667845\n",
       "3 action_type_flg_sum_booking_request 0.04441529 0.04230923 0.010250972\n",
       "4 population_in_thousands.AU          0.02120187 0.02862204 0.020219159\n",
       "5 age_pred                            0.01510186 0.06464245 0.057523271\n",
       "6 signup_method_facebook              0.01082172 0.01517188 0.006621892"
      ]
     },
     "metadata": {},
     "output_type": "display_data"
    }
   ],
   "source": [
    "#names <-  colnames(X_sp[,-1])\n",
    "# compute feature importance matrix\n",
    "importance_matrix = xgb.importance( model = xgb)\n",
    "\n",
    "head(importance_matrix)\n"
   ]
  },
  {
   "cell_type": "code",
   "execution_count": 67,
   "metadata": {},
   "outputs": [],
   "source": [
    "saveRDS(importance_matrix, 'importance_matrix.RData' )"
   ]
  },
  {
   "cell_type": "code",
   "execution_count": 55,
   "metadata": {
    "collapsed": true
   },
   "outputs": [
    {
     "data": {
      "text/html": [
       "<table>\n",
       "<thead><tr><th scope=col>id</th><th scope=col>id_num</th><th scope=col>country_destination</th><th scope=col>country_destination_num</th><th scope=col>NDF</th><th scope=col>US</th><th scope=col>other</th><th scope=col>FR</th><th scope=col>CA</th><th scope=col>GB</th><th scope=col>ES</th><th scope=col>IT</th><th scope=col>PT</th><th scope=col>NL</th><th scope=col>DE</th><th scope=col>AU</th></tr></thead>\n",
       "<tbody>\n",
       "\t<tr><td>0010k6l0om </td><td> 5         </td><td>NA         </td><td>NA         </td><td>0.9184868  </td><td>0.03087600 </td><td>0.011163361</td><td>0.007745469</td><td>0.003995106</td><td>0.004744736</td><td>0.005490213</td><td>0.004908819</td><td>0.002677951</td><td>0.003515013</td><td>0.003351222</td><td>0.003045295</td></tr>\n",
       "\t<tr><td>0031awlkjq </td><td>15         </td><td>NA         </td><td>NA         </td><td>0.9224661  </td><td>0.02995232 </td><td>0.008223944</td><td>0.008339519</td><td>0.003578790</td><td>0.004995737</td><td>0.005411032</td><td>0.004625581</td><td>0.002441026</td><td>0.003750966</td><td>0.003247468</td><td>0.002967548</td></tr>\n",
       "\t<tr><td>00378ocvlh </td><td>17         </td><td>NA         </td><td>NA         </td><td>0.7292290  </td><td>0.16250139 </td><td>0.027847139</td><td>0.018173544</td><td>0.008699981</td><td>0.010556992</td><td>0.011082540</td><td>0.009261982</td><td>0.004798527</td><td>0.006465542</td><td>0.005970321</td><td>0.005413023</td></tr>\n",
       "\t<tr><td>0048rkdgb1 </td><td>24         </td><td>NA         </td><td>NA         </td><td>0.9601074  </td><td>0.01236672 </td><td>0.005195642</td><td>0.003204134</td><td>0.002458523</td><td>0.002699940</td><td>0.002759703</td><td>0.002711839</td><td>0.001859983</td><td>0.002266153</td><td>0.002270945</td><td>0.002099045</td></tr>\n",
       "\t<tr><td>0057snrdpu </td><td>26         </td><td>NA         </td><td>NA         </td><td>0.9001185  </td><td>0.04500182 </td><td>0.012842843</td><td>0.008533031</td><td>0.004529670</td><td>0.005127040</td><td>0.005242714</td><td>0.004882999</td><td>0.002763306</td><td>0.003748629</td><td>0.004007328</td><td>0.003202155</td></tr>\n",
       "\t<tr><td>005v5uf4dh </td><td>28         </td><td>NA         </td><td>NA         </td><td>0.9587571  </td><td>0.01312525 </td><td>0.005802835</td><td>0.003313197</td><td>0.002383424</td><td>0.002682557</td><td>0.002777684</td><td>0.002726512</td><td>0.001820496</td><td>0.002230286</td><td>0.002241236</td><td>0.002139409</td></tr>\n",
       "</tbody>\n",
       "</table>\n"
      ],
      "text/latex": [
       "\\begin{tabular}{r|llllllllllllllll}\n",
       " id & id\\_num & country\\_destination & country\\_destination\\_num & NDF & US & other & FR & CA & GB & ES & IT & PT & NL & DE & AU\\\\\n",
       "\\hline\n",
       "\t 0010k6l0om  &  5          & NA          & NA          & 0.9184868   & 0.03087600  & 0.011163361 & 0.007745469 & 0.003995106 & 0.004744736 & 0.005490213 & 0.004908819 & 0.002677951 & 0.003515013 & 0.003351222 & 0.003045295\\\\\n",
       "\t 0031awlkjq  & 15          & NA          & NA          & 0.9224661   & 0.02995232  & 0.008223944 & 0.008339519 & 0.003578790 & 0.004995737 & 0.005411032 & 0.004625581 & 0.002441026 & 0.003750966 & 0.003247468 & 0.002967548\\\\\n",
       "\t 00378ocvlh  & 17          & NA          & NA          & 0.7292290   & 0.16250139  & 0.027847139 & 0.018173544 & 0.008699981 & 0.010556992 & 0.011082540 & 0.009261982 & 0.004798527 & 0.006465542 & 0.005970321 & 0.005413023\\\\\n",
       "\t 0048rkdgb1  & 24          & NA          & NA          & 0.9601074   & 0.01236672  & 0.005195642 & 0.003204134 & 0.002458523 & 0.002699940 & 0.002759703 & 0.002711839 & 0.001859983 & 0.002266153 & 0.002270945 & 0.002099045\\\\\n",
       "\t 0057snrdpu  & 26          & NA          & NA          & 0.9001185   & 0.04500182  & 0.012842843 & 0.008533031 & 0.004529670 & 0.005127040 & 0.005242714 & 0.004882999 & 0.002763306 & 0.003748629 & 0.004007328 & 0.003202155\\\\\n",
       "\t 005v5uf4dh  & 28          & NA          & NA          & 0.9587571   & 0.01312525  & 0.005802835 & 0.003313197 & 0.002383424 & 0.002682557 & 0.002777684 & 0.002726512 & 0.001820496 & 0.002230286 & 0.002241236 & 0.002139409\\\\\n",
       "\\end{tabular}\n"
      ],
      "text/markdown": [
       "\n",
       "id | id_num | country_destination | country_destination_num | NDF | US | other | FR | CA | GB | ES | IT | PT | NL | DE | AU | \n",
       "|---|---|---|---|---|---|\n",
       "| 0010k6l0om  |  5          | NA          | NA          | 0.9184868   | 0.03087600  | 0.011163361 | 0.007745469 | 0.003995106 | 0.004744736 | 0.005490213 | 0.004908819 | 0.002677951 | 0.003515013 | 0.003351222 | 0.003045295 | \n",
       "| 0031awlkjq  | 15          | NA          | NA          | 0.9224661   | 0.02995232  | 0.008223944 | 0.008339519 | 0.003578790 | 0.004995737 | 0.005411032 | 0.004625581 | 0.002441026 | 0.003750966 | 0.003247468 | 0.002967548 | \n",
       "| 00378ocvlh  | 17          | NA          | NA          | 0.7292290   | 0.16250139  | 0.027847139 | 0.018173544 | 0.008699981 | 0.010556992 | 0.011082540 | 0.009261982 | 0.004798527 | 0.006465542 | 0.005970321 | 0.005413023 | \n",
       "| 0048rkdgb1  | 24          | NA          | NA          | 0.9601074   | 0.01236672  | 0.005195642 | 0.003204134 | 0.002458523 | 0.002699940 | 0.002759703 | 0.002711839 | 0.001859983 | 0.002266153 | 0.002270945 | 0.002099045 | \n",
       "| 0057snrdpu  | 26          | NA          | NA          | 0.9001185   | 0.04500182  | 0.012842843 | 0.008533031 | 0.004529670 | 0.005127040 | 0.005242714 | 0.004882999 | 0.002763306 | 0.003748629 | 0.004007328 | 0.003202155 | \n",
       "| 005v5uf4dh  | 28          | NA          | NA          | 0.9587571   | 0.01312525  | 0.005802835 | 0.003313197 | 0.002383424 | 0.002682557 | 0.002777684 | 0.002726512 | 0.001820496 | 0.002230286 | 0.002241236 | 0.002139409 | \n",
       "\n",
       "\n"
      ],
      "text/plain": [
       "  id         id_num country_destination country_destination_num NDF      \n",
       "1 0010k6l0om  5     NA                  NA                      0.9184868\n",
       "2 0031awlkjq 15     NA                  NA                      0.9224661\n",
       "3 00378ocvlh 17     NA                  NA                      0.7292290\n",
       "4 0048rkdgb1 24     NA                  NA                      0.9601074\n",
       "5 0057snrdpu 26     NA                  NA                      0.9001185\n",
       "6 005v5uf4dh 28     NA                  NA                      0.9587571\n",
       "  US         other       FR          CA          GB          ES         \n",
       "1 0.03087600 0.011163361 0.007745469 0.003995106 0.004744736 0.005490213\n",
       "2 0.02995232 0.008223944 0.008339519 0.003578790 0.004995737 0.005411032\n",
       "3 0.16250139 0.027847139 0.018173544 0.008699981 0.010556992 0.011082540\n",
       "4 0.01236672 0.005195642 0.003204134 0.002458523 0.002699940 0.002759703\n",
       "5 0.04500182 0.012842843 0.008533031 0.004529670 0.005127040 0.005242714\n",
       "6 0.01312525 0.005802835 0.003313197 0.002383424 0.002682557 0.002777684\n",
       "  IT          PT          NL          DE          AU         \n",
       "1 0.004908819 0.002677951 0.003515013 0.003351222 0.003045295\n",
       "2 0.004625581 0.002441026 0.003750966 0.003247468 0.002967548\n",
       "3 0.009261982 0.004798527 0.006465542 0.005970321 0.005413023\n",
       "4 0.002711839 0.001859983 0.002266153 0.002270945 0.002099045\n",
       "5 0.004882999 0.002763306 0.003748629 0.004007328 0.003202155\n",
       "6 0.002726512 0.001820496 0.002230286 0.002241236 0.002139409"
      ]
     },
     "metadata": {},
     "output_type": "display_data"
    }
   ],
   "source": [
    "#head(X_test_predictions)"
   ]
  },
  {
   "cell_type": "code",
   "execution_count": 68,
   "metadata": {},
   "outputs": [],
   "source": [
    "saveRDS(X_test_predictions, 'X_test_predictions.RData')"
   ]
  },
  {
   "cell_type": "code",
   "execution_count": 56,
   "metadata": {},
   "outputs": [
    {
     "data": {
      "text/plain": [
       "               Length  Class              Mode       \n",
       "handle               1 xgb.Booster.handle externalptr\n",
       "raw            3281283 -none-             raw        \n",
       "niter                1 -none-             numeric    \n",
       "evaluation_log       2 data.table         list       \n",
       "call                23 -none-             call       \n",
       "params              10 -none-             list       \n",
       "callbacks            2 -none-             list       \n",
       "feature_names      245 -none-             character  \n",
       "nfeatures            1 -none-             numeric    "
      ]
     },
     "metadata": {},
     "output_type": "display_data"
    }
   ],
   "source": [
    "summary(xgb)"
   ]
  },
  {
   "cell_type": "code",
   "execution_count": 71,
   "metadata": {},
   "outputs": [
    {
     "ename": "ERROR",
     "evalue": "Error in png(tf, width, height, \"in\", pointsize, bg, res, antialias = antialias): unable to start png() device\n",
     "output_type": "error",
     "traceback": [
      "Error in png(tf, width, height, \"in\", pointsize, bg, res, antialias = antialias): unable to start png() device\nTraceback:\n"
     ]
    },
    {
     "data": {
      "text/plain": [
       "plot without title"
      ]
     },
     "metadata": {},
     "output_type": "display_data"
    }
   ],
   "source": [
    "plot(xgb$evaluation_log)\n"
   ]
  },
  {
   "cell_type": "markdown",
   "metadata": {},
   "source": [
    "## png error in jupyter, pending solution. Switching to R Studio markdown files\n",
    "###  https://stackoverflow.com/questions/50944878/r-graphs-in-jupyter-unable-to-start-png-device?newreg=2965792ff0954d63b02cc005701a8c1a"
   ]
  },
  {
   "cell_type": "code",
   "execution_count": 59,
   "metadata": {},
   "outputs": [
    {
     "data": {
      "text/html": [
       "TRUE"
      ],
      "text/latex": [
       "TRUE"
      ],
      "text/markdown": [
       "TRUE"
      ],
      "text/plain": [
       "[1] TRUE"
      ]
     },
     "metadata": {},
     "output_type": "display_data"
    }
   ],
   "source": [
    "xgb.save(xgb, '1201xgb.model')"
   ]
  },
  {
   "cell_type": "code",
   "execution_count": 61,
   "metadata": {},
   "outputs": [],
   "source": [
    "saveRDS(xgb$evaluation_log, 'elog.RData' )"
   ]
  },
  {
   "cell_type": "code",
   "execution_count": 69,
   "metadata": {},
   "outputs": [],
   "source": [
    "save.image(file = \"trn_wrkspc.RData\")"
   ]
  }
 ],
 "metadata": {
  "kernelspec": {
   "display_name": "R",
   "language": "R",
   "name": "ir"
  },
  "language_info": {
   "codemirror_mode": "r",
   "file_extension": ".r",
   "mimetype": "text/x-r-source",
   "name": "R",
   "pygments_lexer": "r",
   "version": "3.5.1"
  }
 },
 "nbformat": 4,
 "nbformat_minor": 2
}
