{
 "cells": [
  {
   "cell_type": "code",
   "execution_count": 1,
   "metadata": {},
   "outputs": [
    {
     "data": {
      "text/html": [
       "<table>\n",
       "<thead><tr><th></th><th scope=col>used</th><th scope=col>(Mb)</th><th scope=col>gc trigger</th><th scope=col>(Mb)</th><th scope=col>max used</th><th scope=col>(Mb)</th></tr></thead>\n",
       "<tbody>\n",
       "\t<tr><th scope=row>Ncells</th><td>509065 </td><td>27.2   </td><td>1095180</td><td>58.5   </td><td> 608525</td><td>32.5   </td></tr>\n",
       "\t<tr><th scope=row>Vcells</th><td>974035 </td><td> 7.5   </td><td>8388608</td><td>64.0   </td><td>1606620</td><td>12.3   </td></tr>\n",
       "</tbody>\n",
       "</table>\n"
      ],
      "text/latex": [
       "\\begin{tabular}{r|llllll}\n",
       "  & used & (Mb) & gc trigger & (Mb) & max used & (Mb)\\\\\n",
       "\\hline\n",
       "\tNcells & 509065  & 27.2    & 1095180 & 58.5    &  608525 & 32.5   \\\\\n",
       "\tVcells & 974035  &  7.5    & 8388608 & 64.0    & 1606620 & 12.3   \\\\\n",
       "\\end{tabular}\n"
      ],
      "text/markdown": [
       "\n",
       "| <!--/--> | used | (Mb) | gc trigger | (Mb) | max used | (Mb) | \n",
       "|---|---|\n",
       "| Ncells | 509065  | 27.2    | 1095180 | 58.5    |  608525 | 32.5    | \n",
       "| Vcells | 974035  |  7.5    | 8388608 | 64.0    | 1606620 | 12.3    | \n",
       "\n",
       "\n"
      ],
      "text/plain": [
       "       used   (Mb) gc trigger (Mb) max used (Mb)\n",
       "Ncells 509065 27.2 1095180    58.5  608525  32.5\n",
       "Vcells 974035  7.5 8388608    64.0 1606620  12.3"
      ]
     },
     "metadata": {},
     "output_type": "display_data"
    }
   ],
   "source": [
    "options(warn=-1)\n",
    "gc()"
   ]
  },
  {
   "cell_type": "code",
   "execution_count": 49,
   "metadata": {},
   "outputs": [],
   "source": [
    "folder <- \"analysis1201\""
   ]
  },
  {
   "cell_type": "code",
   "execution_count": 38,
   "metadata": {
    "scrolled": true
   },
   "outputs": [],
   "source": [
    "library(xgboost)\n",
    "library(readr)\n",
    "library(stringr)\n",
    "library(caret)\n",
    "library(car)\n",
    "library(DMwR)\n",
    "library(Hmisc)\n",
    "library(plyr)\n",
    "library(dplyr)\n",
    "library(tidyr)\n",
    "library(data.table)\n",
    "library(DescTools)\n",
    "library(Matrix)\n",
    "library(glmnet)\n",
    "library(plotrix)\n",
    "library(Ckmeans.1d.dp)\n",
    "\n",
    "set.seed(0)\n",
    "setwd(\"C:/Users/Jeane/MSDS/Proj2\")"
   ]
  },
  {
   "cell_type": "markdown",
   "metadata": {},
   "source": [
    "# load data\n",
    "df_train = read_csv(\"C:/Users/Jeane/MSDS/Proj2/airbnb/train_users_2.csv\")\n",
    "df_test = read_csv(\"C:/Users/Jeane/MSDS/Proj2/airbnb/test_users.csv\")\n",
    "age_gender_bkts <- fread(\"C:/Users/Jeane/MSDS/Proj2/airbnb/age_gender_bkts.csv\", data.table=F)\n",
    "countries <- fread(\"C:/Users/Jeane/MSDS/Proj2/airbnb/countries.csv\", data.table=F)\n",
    "sample_submission_NDF <- fread(\"C:/Users/Jeane/MSDS/Proj2/airbnb/sample_submission_NDF.csv\", data.table=F)\n",
    "sessions <- fread(\"C:/Users/Jeane/MSDS/Proj2/airbnb/sessions.csv\", data.table=F)"
   ]
  },
  {
   "cell_type": "markdown",
   "metadata": {},
   "source": [
    "dir.create(paste0(\"submit\"))\n",
    "\n",
    "\n",
    "dir.create(paste0(\"cache/\", folder))\n",
    "dir.create(paste0(\"cache/\", folder, \"/valid\"))\n",
    "dir.create(paste0(\"cache/\", folder, \"/test\"))\n",
    "dir.create(paste0(\"submit/\", folder))"
   ]
  },
  {
   "cell_type": "markdown",
   "metadata": {},
   "source": [
    "# Load workspace from data engineering"
   ]
  },
  {
   "cell_type": "code",
   "execution_count": null,
   "metadata": {},
   "outputs": [],
   "source": [
    "#load(\"dataengineering_wrkspc.RData\")\n",
    "#Takes up a lot of memor space\n",
    "#Load RDS files as needed"
   ]
  },
  {
   "cell_type": "code",
   "execution_count": 3,
   "metadata": {},
   "outputs": [],
   "source": [
    "df_all_feats<-readRDS(\"cache/df_all_feats.RData\")\n",
    "df_all<-readRDS(\"cache/df_all.RData\")"
   ]
  },
  {
   "cell_type": "code",
   "execution_count": 4,
   "metadata": {
    "scrolled": false
   },
   "outputs": [
    {
     "data": {
      "text/plain": [
       "      id            date_account_created   dac_year          dac_month        \n",
       " Length:275547      Min.   :2010-01-01   Length:275547      Length:275547     \n",
       " Class :character   1st Qu.:2013-04-03   Class :character   Class :character  \n",
       " Mode  :character   Median :2014-01-03   Mode  :character   Mode  :character  \n",
       "                    Mean   :2013-09-26                                        \n",
       "                    3rd Qu.:2014-06-18                                        \n",
       "                    Max.   :2014-09-30                                        \n",
       "                                                                              \n",
       "   dac_day          timestamp_first_active date_first_booking  \n",
       " Length:275547      Min.   :2.009e+13      Min.   :2010-01-02  \n",
       " Class :character   1st Qu.:2.013e+13      1st Qu.:2012-12-02  \n",
       " Mode  :character   Median :2.014e+13      Median :2013-09-11  \n",
       "                    Mean   :2.013e+13      Mean   :2013-07-04  \n",
       "                    3rd Qu.:2.014e+13      3rd Qu.:2014-04-04  \n",
       "                    Max.   :2.014e+13      Max.   :2015-06-29  \n",
       "                                           NA's   :186639      \n",
       "    gender               age          signup_method       signup_flow    \n",
       " Length:275547      Min.   :   1.00   Length:275547      Min.   : 0.000  \n",
       " Class :character   1st Qu.:  28.00   Class :character   1st Qu.: 0.000  \n",
       " Mode  :character   Median :  33.00   Mode  :character   Median : 0.000  \n",
       "                    Mean   :  47.15                      Mean   : 4.292  \n",
       "                    3rd Qu.:  42.00                      3rd Qu.: 1.000  \n",
       "                    Max.   :2014.00                      Max.   :25.000  \n",
       "                    NA's   :116866                                       \n",
       "   language         affiliate_channel  affiliate_provider\n",
       " Length:275547      Length:275547      Length:275547     \n",
       " Class :character   Class :character   Class :character  \n",
       " Mode  :character   Mode  :character   Mode  :character  \n",
       "                                                         \n",
       "                                                         \n",
       "                                                         \n",
       "                                                         \n",
       " first_affiliate_tracked  signup_app        first_device_type \n",
       " Length:275547           Length:275547      Length:275547     \n",
       " Class :character        Class :character   Class :character  \n",
       " Mode  :character        Mode  :character   Mode  :character  \n",
       "                                                              \n",
       "                                                              \n",
       "                                                              \n",
       "                                                              \n",
       " first_browser      country_destination   dataset             age_cln      \n",
       " Length:275547      Length:275547       Length:275547      Min.   :  1.00  \n",
       " Class :character   Class :character    Class :character   1st Qu.: 28.00  \n",
       " Mode  :character   Mode  :character    Mode  :character   Median : 33.00  \n",
       "                                                           Mean   : 36.71  \n",
       "                                                           3rd Qu.: 42.00  \n",
       "                                                           Max.   :150.00  \n",
       "                                                           NA's   :116866  \n",
       "    age_cln2        age_bucket     dac_yearmonth      dac_yearmonthday  \n",
       " Min.   : -1.00   25-29  : 35690   Length:275547      Min.   :20100101  \n",
       " 1st Qu.: 28.00   30-34  : 35410   Class :character   1st Qu.:20130403  \n",
       " Median : 33.00   35-39  : 23188   Mode  :character   Median :20140103  \n",
       " Mean   : 35.45   40-44  : 14226                      Mean   :20133100  \n",
       " 3rd Qu.: 41.00   20-24  : 13086                      3rd Qu.:20140618  \n",
       " Max.   :100.00   (Other): 36249                      Max.   :20140930  \n",
       " NA's   :116866   NA's   :117698                                        \n",
       "    dac_week     dac_yearmonthweek    tfa_year          tfa_month        \n",
       " Min.   : 0.00   Min.   :20100101   Length:275547      Length:275547     \n",
       " 1st Qu.:16.00   1st Qu.:20130413   Class :character   Class :character  \n",
       " Median :27.00   Median :20140101   Mode  :character   Mode  :character  \n",
       " Mean   :25.96   Mean   :20133110                                        \n",
       " 3rd Qu.:36.00   3rd Qu.:20140624                                        \n",
       " Max.   :53.00   Max.   :20140939                                        \n",
       "                                                                         \n",
       "   tfa_day          tfa_yearmonth      tfa_yearmonthday      tfa_date         \n",
       " Length:275547      Length:275547      Min.   :20090319   Min.   :2009-03-19  \n",
       " Class :character   Class :character   1st Qu.:20130403   1st Qu.:2013-04-03  \n",
       " Mode  :character   Mode  :character   Median :20140103   Median :2014-01-03  \n",
       "                                       Mean   :20133095   Mean   :2013-09-26  \n",
       "                                       3rd Qu.:20140618   3rd Qu.:2014-06-18  \n",
       "                                       Max.   :20140930   Max.   :2014-09-30  \n",
       "                                                                              \n",
       "    tfa_week     tfa_yearmonthweek     dac_lag           dfb_dac_lag     \n",
       " Min.   : 0.00   Min.   :20090312   Min.   :   0.0000   Min.   :-349.00  \n",
       " 1st Qu.:16.00   1st Qu.:20130413   1st Qu.:   0.0000   1st Qu.:   1.00  \n",
       " Median :27.00   Median :20140101   Median :   0.0000   Median :   3.00  \n",
       " Mean   :25.96   Mean   :20133105   Mean   :   0.1796   Mean   :  44.36  \n",
       " 3rd Qu.:36.00   3rd Qu.:20140624   3rd Qu.:   0.0000   3rd Qu.:  29.00  \n",
       " Max.   :53.00   Max.   :20140939   Max.   :1456.0000   Max.   : 365.00  \n",
       "                                                        NA's   :186639   \n",
       " dfb_dac_lag_cut    dfb_dac_lag_flg  dfb_tfa_lag      dfb_tfa_lag_cut   \n",
       " Length:275547      Min.   :0.000   Min.   :   0.00   Length:275547     \n",
       " Class :character   1st Qu.:2.000   1st Qu.:   1.00   Class :character  \n",
       " Mode  :character   Median :3.000   Median :   3.00   Mode  :character  \n",
       "                    Mean   :2.522   Mean   :  44.69                     \n",
       "                    3rd Qu.:3.000   3rd Qu.:  29.00                     \n",
       "                    Max.   :3.000   Max.   :1369.00                     \n",
       "                                    NA's   :186639                      \n",
       " dfb_tfa_lag_flg  distance_km      destination_km2  \n",
       " Min.   :0.0     Min.   :    0.0   Min.   :  41543  \n",
       " 1st Qu.:1.0     1st Qu.:    0.0   1st Qu.:9826675  \n",
       " Median :2.0     Median :    0.0   Median :9826675  \n",
       " Mean   :1.6     Mean   :  441.1   Mean   :9460764  \n",
       " 3rd Qu.:2.0     3rd Qu.:    0.0   3rd Qu.:9826675  \n",
       " Max.   :2.0     Max.   :15297.7   Max.   :9984670  \n",
       "                 NA's   :210359    NA's   :210359   \n",
       " language_levenshtein_distance\n",
       " Min.   : 0.00                \n",
       " 1st Qu.: 0.00                \n",
       " Median : 0.00                \n",
       " Mean   : 0.15                \n",
       " 3rd Qu.: 0.00                \n",
       " Max.   :92.06                \n",
       " NA's   :210359               "
      ]
     },
     "metadata": {},
     "output_type": "display_data"
    }
   ],
   "source": [
    "summary(df_all)"
   ]
  },
  {
   "cell_type": "code",
   "execution_count": 5,
   "metadata": {},
   "outputs": [
    {
     "data": {
      "text/plain": [
       "      id              feature              value          \n",
       " Length:50545479    Length:50545479    Min.   :     -349  \n",
       " Class :character   Class :character   1st Qu.:        0  \n",
       " Mode  :character   Mode  :character   Median :       98  \n",
       "                                       Mean   :   687072  \n",
       "                                       3rd Qu.:    10559  \n",
       "                                       Max.   :192860976  \n",
       "                                       NA's   :5382783    "
      ]
     },
     "metadata": {},
     "output_type": "display_data"
    }
   ],
   "source": [
    "summary(df_all_feats)"
   ]
  },
  {
   "cell_type": "markdown",
   "metadata": {},
   "source": [
    "# Remove age NA's "
   ]
  },
  {
   "cell_type": "code",
   "execution_count": 6,
   "metadata": {},
   "outputs": [],
   "source": [
    "Xage_all <- subset(df_all_feats, is.na(value)==F)"
   ]
  },
  {
   "cell_type": "code",
   "execution_count": 7,
   "metadata": {},
   "outputs": [],
   "source": [
    "Xage_all <- subset(Xage_all, feature %nin% c(\"age\"))\n",
    "Xage_all <- subset(Xage_all, feature %nin% c(\"age_cln\"))\n",
    "Xage_all <- subset(Xage_all, feature %nin% c(\"age_cln2\"))"
   ]
  },
  {
   "cell_type": "code",
   "execution_count": 8,
   "metadata": {},
   "outputs": [],
   "source": [
    "Xage_all$feature_name <- Xage_all$feature\n",
    "Xage_all$feature <- as.numeric(as.factor(Xage_all$feature))"
   ]
  },
  {
   "cell_type": "code",
   "execution_count": 9,
   "metadata": {},
   "outputs": [],
   "source": [
    "Xage <- subset(Xage_all, id %in% subset(df_all, is.na(age)==F)$id)\n",
    "Xage_test <- subset(Xage_all, id %in% subset(df_all, is.na(age)==T)$id)\n",
    "Xage_all <- rbind(Xage, Xage_test)"
   ]
  },
  {
   "cell_type": "code",
   "execution_count": 13,
   "metadata": {
    "scrolled": false
   },
   "outputs": [
    {
     "data": {
      "text/html": [
       "<ol class=list-inline>\n",
       "\t<li>27232327</li>\n",
       "\t<li>5</li>\n",
       "</ol>\n"
      ],
      "text/latex": [
       "\\begin{enumerate*}\n",
       "\\item 27232327\n",
       "\\item 5\n",
       "\\end{enumerate*}\n"
      ],
      "text/markdown": [
       "1. 27232327\n",
       "2. 5\n",
       "\n",
       "\n"
      ],
      "text/plain": [
       "[1] 27232327        5"
      ]
     },
     "metadata": {},
     "output_type": "display_data"
    },
    {
     "data": {
      "text/html": [
       "<ol class=list-inline>\n",
       "\t<li>17611227</li>\n",
       "\t<li>5</li>\n",
       "</ol>\n"
      ],
      "text/latex": [
       "\\begin{enumerate*}\n",
       "\\item 17611227\n",
       "\\item 5\n",
       "\\end{enumerate*}\n"
      ],
      "text/markdown": [
       "1. 17611227\n",
       "2. 5\n",
       "\n",
       "\n"
      ],
      "text/plain": [
       "[1] 17611227        5"
      ]
     },
     "metadata": {},
     "output_type": "display_data"
    },
    {
     "data": {
      "text/html": [
       "<ol class=list-inline>\n",
       "\t<li>44843554</li>\n",
       "\t<li>4</li>\n",
       "</ol>\n"
      ],
      "text/latex": [
       "\\begin{enumerate*}\n",
       "\\item 44843554\n",
       "\\item 4\n",
       "\\end{enumerate*}\n"
      ],
      "text/markdown": [
       "1. 44843554\n",
       "2. 4\n",
       "\n",
       "\n"
      ],
      "text/plain": [
       "[1] 44843554        4"
      ]
     },
     "metadata": {},
     "output_type": "display_data"
    }
   ],
   "source": [
    "dim(Xage)\n",
    "dim(Xage_test)\n",
    "dim(Xage_all)"
   ]
  },
  {
   "cell_type": "code",
   "execution_count": 61,
   "metadata": {},
   "outputs": [
    {
     "data": {
      "text/html": [
       "<table>\n",
       "<thead><tr><th scope=col>id</th><th scope=col>feature</th><th scope=col>value</th><th scope=col>feature_name</th><th scope=col>id_num</th></tr></thead>\n",
       "<tbody>\n",
       "\t<tr><td>gpusl6ppgf                      </td><td>3365                            </td><td>0                               </td><td>language_levenshtein_distance.US</td><td>54413                           </td></tr>\n",
       "\t<tr><td>kofaz2kh70                      </td><td>3365                            </td><td>0                               </td><td>language_levenshtein_distance.US</td><td>67282                           </td></tr>\n",
       "\t<tr><td>u7lv3glv6y                      </td><td>3365                            </td><td>0                               </td><td>language_levenshtein_distance.US</td><td>98304                           </td></tr>\n",
       "\t<tr><td>8yvhec201j                      </td><td>3365                            </td><td>0                               </td><td>language_levenshtein_distance.US</td><td>29324                           </td></tr>\n",
       "\t<tr><td>fa6260ziny                      </td><td>3365                            </td><td>0                               </td><td>language_levenshtein_distance.US</td><td>49717                           </td></tr>\n",
       "\t<tr><td>87k0fy4ugm                      </td><td>3365                            </td><td>0                               </td><td>language_levenshtein_distance.US</td><td>26853                           </td></tr>\n",
       "</tbody>\n",
       "</table>\n"
      ],
      "text/latex": [
       "\\begin{tabular}{r|lllll}\n",
       " id & feature & value & feature\\_name & id\\_num\\\\\n",
       "\\hline\n",
       "\t gpusl6ppgf                           & 3365                                 & 0                                    & language\\_levenshtein\\_distance.US & 54413                               \\\\\n",
       "\t kofaz2kh70                           & 3365                                 & 0                                    & language\\_levenshtein\\_distance.US & 67282                               \\\\\n",
       "\t u7lv3glv6y                           & 3365                                 & 0                                    & language\\_levenshtein\\_distance.US & 98304                               \\\\\n",
       "\t 8yvhec201j                           & 3365                                 & 0                                    & language\\_levenshtein\\_distance.US & 29324                               \\\\\n",
       "\t fa6260ziny                           & 3365                                 & 0                                    & language\\_levenshtein\\_distance.US & 49717                               \\\\\n",
       "\t 87k0fy4ugm                           & 3365                                 & 0                                    & language\\_levenshtein\\_distance.US & 26853                               \\\\\n",
       "\\end{tabular}\n"
      ],
      "text/markdown": [
       "\n",
       "id | feature | value | feature_name | id_num | \n",
       "|---|---|---|---|---|---|\n",
       "| gpusl6ppgf                       | 3365                             | 0                                | language_levenshtein_distance.US | 54413                            | \n",
       "| kofaz2kh70                       | 3365                             | 0                                | language_levenshtein_distance.US | 67282                            | \n",
       "| u7lv3glv6y                       | 3365                             | 0                                | language_levenshtein_distance.US | 98304                            | \n",
       "| 8yvhec201j                       | 3365                             | 0                                | language_levenshtein_distance.US | 29324                            | \n",
       "| fa6260ziny                       | 3365                             | 0                                | language_levenshtein_distance.US | 49717                            | \n",
       "| 87k0fy4ugm                       | 3365                             | 0                                | language_levenshtein_distance.US | 26853                            | \n",
       "\n",
       "\n"
      ],
      "text/plain": [
       "  id         feature value feature_name                     id_num\n",
       "1 gpusl6ppgf 3365    0     language_levenshtein_distance.US 54413 \n",
       "2 kofaz2kh70 3365    0     language_levenshtein_distance.US 67282 \n",
       "3 u7lv3glv6y 3365    0     language_levenshtein_distance.US 98304 \n",
       "4 8yvhec201j 3365    0     language_levenshtein_distance.US 29324 \n",
       "5 fa6260ziny 3365    0     language_levenshtein_distance.US 49717 \n",
       "6 87k0fy4ugm 3365    0     language_levenshtein_distance.US 26853 "
      ]
     },
     "metadata": {},
     "output_type": "display_data"
    }
   ],
   "source": [
    "tail(Xage_test)"
   ]
  },
  {
   "cell_type": "code",
   "execution_count": 10,
   "metadata": {},
   "outputs": [],
   "source": [
    "Xage_all_feature <- Xage_all[!duplicated(Xage_all$feature), c(\"feature\", \"feature_name\")]\n",
    "Xage_all_feature <- Xage_all_feature[order(Xage_all_feature$feature),]"
   ]
  },
  {
   "cell_type": "code",
   "execution_count": 11,
   "metadata": {},
   "outputs": [],
   "source": [
    "Xage$id_num <- as.numeric(as.factor(Xage$id))\n",
    "Xage_test$id_num <- as.numeric(as.factor(Xage_test$id))"
   ]
  },
  {
   "cell_type": "code",
   "execution_count": 12,
   "metadata": {},
   "outputs": [],
   "source": [
    "Xage_id <- Xage %>% distinct(id_num)"
   ]
  },
  {
   "cell_type": "code",
   "execution_count": 20,
   "metadata": {
    "scrolled": true
   },
   "outputs": [
    {
     "data": {
      "text/html": [
       "<ol class=list-inline>\n",
       "\t<li>158681</li>\n",
       "\t<li>1</li>\n",
       "</ol>\n"
      ],
      "text/latex": [
       "\\begin{enumerate*}\n",
       "\\item 158681\n",
       "\\item 1\n",
       "\\end{enumerate*}\n"
      ],
      "text/markdown": [
       "1. 158681\n",
       "2. 1\n",
       "\n",
       "\n"
      ],
      "text/plain": [
       "[1] 158681      1"
      ]
     },
     "metadata": {},
     "output_type": "display_data"
    },
    {
     "data": {
      "text/html": [
       "<table>\n",
       "<thead><tr><th scope=col>id_num</th></tr></thead>\n",
       "<tbody>\n",
       "\t<tr><td>35494</td></tr>\n",
       "\t<tr><td>19664</td></tr>\n",
       "\t<tr><td>50772</td></tr>\n",
       "\t<tr><td>36178</td></tr>\n",
       "\t<tr><td>96310</td></tr>\n",
       "\t<tr><td> 1597</td></tr>\n",
       "</tbody>\n",
       "</table>\n"
      ],
      "text/latex": [
       "\\begin{tabular}{r|l}\n",
       " id\\_num\\\\\n",
       "\\hline\n",
       "\t 35494\\\\\n",
       "\t 19664\\\\\n",
       "\t 50772\\\\\n",
       "\t 36178\\\\\n",
       "\t 96310\\\\\n",
       "\t  1597\\\\\n",
       "\\end{tabular}\n"
      ],
      "text/markdown": [
       "\n",
       "id_num | \n",
       "|---|---|---|---|---|---|\n",
       "| 35494 | \n",
       "| 19664 | \n",
       "| 50772 | \n",
       "| 36178 | \n",
       "| 96310 | \n",
       "|  1597 | \n",
       "\n",
       "\n"
      ],
      "text/plain": [
       "  id_num\n",
       "1 35494 \n",
       "2 19664 \n",
       "3 50772 \n",
       "4 36178 \n",
       "5 96310 \n",
       "6  1597 "
      ]
     },
     "metadata": {},
     "output_type": "display_data"
    }
   ],
   "source": [
    "dim(Xage_id)\n",
    "head(Xage_id)"
   ]
  },
  {
   "cell_type": "code",
   "execution_count": 23,
   "metadata": {},
   "outputs": [],
   "source": [
    "Xage_id <- data.frame(id = as.character(Xage_id$id_num), id_num = Xage_id$id_num)"
   ]
  },
  {
   "cell_type": "code",
   "execution_count": 24,
   "metadata": {},
   "outputs": [],
   "source": [
    "Xage_id <- dplyr::left_join(Xage_id, df_all[c(\"id\", \"age\")], by = \"id\")"
   ]
  },
  {
   "cell_type": "code",
   "execution_count": 25,
   "metadata": {},
   "outputs": [],
   "source": [
    "Xage_id <- Xage_id %>%\n",
    "  dplyr::arrange(id_num)"
   ]
  },
  {
   "cell_type": "code",
   "execution_count": 27,
   "metadata": {
    "scrolled": true
   },
   "outputs": [
    {
     "data": {
      "text/html": [
       "<ol class=list-inline>\n",
       "\t<li>158681</li>\n",
       "\t<li>3</li>\n",
       "</ol>\n"
      ],
      "text/latex": [
       "\\begin{enumerate*}\n",
       "\\item 158681\n",
       "\\item 3\n",
       "\\end{enumerate*}\n"
      ],
      "text/markdown": [
       "1. 158681\n",
       "2. 3\n",
       "\n",
       "\n"
      ],
      "text/plain": [
       "[1] 158681      3"
      ]
     },
     "metadata": {},
     "output_type": "display_data"
    },
    {
     "data": {
      "text/html": [
       "<table>\n",
       "<thead><tr><th scope=col>id</th><th scope=col>id_num</th><th scope=col>age</th></tr></thead>\n",
       "<tbody>\n",
       "\t<tr><td>1 </td><td>1 </td><td>NA</td></tr>\n",
       "\t<tr><td>2 </td><td>2 </td><td>NA</td></tr>\n",
       "\t<tr><td>3 </td><td>3 </td><td>NA</td></tr>\n",
       "\t<tr><td>4 </td><td>4 </td><td>NA</td></tr>\n",
       "\t<tr><td>5 </td><td>5 </td><td>NA</td></tr>\n",
       "\t<tr><td>6 </td><td>6 </td><td>NA</td></tr>\n",
       "</tbody>\n",
       "</table>\n"
      ],
      "text/latex": [
       "\\begin{tabular}{r|lll}\n",
       " id & id\\_num & age\\\\\n",
       "\\hline\n",
       "\t 1  & 1  & NA\\\\\n",
       "\t 2  & 2  & NA\\\\\n",
       "\t 3  & 3  & NA\\\\\n",
       "\t 4  & 4  & NA\\\\\n",
       "\t 5  & 5  & NA\\\\\n",
       "\t 6  & 6  & NA\\\\\n",
       "\\end{tabular}\n"
      ],
      "text/markdown": [
       "\n",
       "id | id_num | age | \n",
       "|---|---|---|---|---|---|\n",
       "| 1  | 1  | NA | \n",
       "| 2  | 2  | NA | \n",
       "| 3  | 3  | NA | \n",
       "| 4  | 4  | NA | \n",
       "| 5  | 5  | NA | \n",
       "| 6  | 6  | NA | \n",
       "\n",
       "\n"
      ],
      "text/plain": [
       "  id id_num age\n",
       "1 1  1      NA \n",
       "2 2  2      NA \n",
       "3 3  3      NA \n",
       "4 4  4      NA \n",
       "5 5  5      NA \n",
       "6 6  6      NA "
      ]
     },
     "metadata": {},
     "output_type": "display_data"
    },
    {
     "data": {
      "text/plain": [
       "      id                id_num            age        \n",
       " Length:158681      Min.   :     1   Min.   : NA     \n",
       " Class :character   1st Qu.: 39671   1st Qu.: NA     \n",
       " Mode  :character   Median : 79341   Median : NA     \n",
       "                    Mean   : 79341   Mean   :NaN     \n",
       "                    3rd Qu.:119011   3rd Qu.: NA     \n",
       "                    Max.   :158681   Max.   : NA     \n",
       "                                     NA's   :158681  "
      ]
     },
     "metadata": {},
     "output_type": "display_data"
    }
   ],
   "source": [
    "dim(Xage_id)\n",
    "head(Xage_id)\n",
    "summary(Xage_id)"
   ]
  },
  {
   "cell_type": "code",
   "execution_count": 30,
   "metadata": {},
   "outputs": [
    {
     "data": {
      "text/plain": [
       "      id               feature         value          feature_name      \n",
       " Length:17611227    Min.   :   1   Min.   :    -167   Length:17611227   \n",
       " Class :character   1st Qu.:1505   1st Qu.:       0   Class :character  \n",
       " Mode  :character   Median :3135   Median :      62   Mode  :character  \n",
       "                    Mean   :2475   Mean   :  743681                     \n",
       "                    3rd Qu.:3357   3rd Qu.:   10115                     \n",
       "                    Max.   :3437   Max.   :26944728                     \n",
       "     id_num      \n",
       " Min.   :     1  \n",
       " 1st Qu.: 29176  \n",
       " Median : 58482  \n",
       " Mean   : 58466  \n",
       " 3rd Qu.: 87754  \n",
       " Max.   :116866  "
      ]
     },
     "metadata": {},
     "output_type": "display_data"
    }
   ],
   "source": [
    "summary(Xage_test)"
   ]
  },
  {
   "cell_type": "code",
   "execution_count": 32,
   "metadata": {},
   "outputs": [],
   "source": [
    "y_age <- Xage_id$age"
   ]
  },
  {
   "cell_type": "code",
   "execution_count": 34,
   "metadata": {},
   "outputs": [],
   "source": [
    "Xage_test_id <- Xage_test %>% distinct(id_num)"
   ]
  },
  {
   "cell_type": "code",
   "execution_count": 35,
   "metadata": {},
   "outputs": [
    {
     "data": {
      "text/plain": [
       "     id_num      \n",
       " Min.   :     1  \n",
       " 1st Qu.: 29217  \n",
       " Median : 58434  \n",
       " Mean   : 58434  \n",
       " 3rd Qu.: 87650  \n",
       " Max.   :116866  "
      ]
     },
     "metadata": {},
     "output_type": "display_data"
    }
   ],
   "source": [
    "summary(Xage_test_id)"
   ]
  },
  {
   "cell_type": "code",
   "execution_count": 36,
   "metadata": {},
   "outputs": [],
   "source": [
    "Xage_test_id <- data.frame(id = as.character(Xage_test_id$id_num), id_num = Xage_test_id$id_num)\n",
    "Xage_test_id <- Xage_test_id %>%\n",
    "  dplyr::arrange(id_num)\n",
    "y_age_test <- rep(NA, nrow(Xage_test_id))"
   ]
  },
  {
   "cell_type": "code",
   "execution_count": 37,
   "metadata": {},
   "outputs": [],
   "source": [
    "common_feature <- dplyr::intersect(unique(Xage$feature), unique(Xage_test$feature))"
   ]
  },
  {
   "cell_type": "code",
   "execution_count": 38,
   "metadata": {},
   "outputs": [
    {
     "data": {
      "text/html": [
       "<ol class=list-inline>\n",
       "\t<li>158681</li>\n",
       "\t<li>3437</li>\n",
       "</ol>\n"
      ],
      "text/latex": [
       "\\begin{enumerate*}\n",
       "\\item 158681\n",
       "\\item 3437\n",
       "\\end{enumerate*}\n"
      ],
      "text/markdown": [
       "1. 158681\n",
       "2. 3437\n",
       "\n",
       "\n"
      ],
      "text/plain": [
       "[1] 158681   3437"
      ]
     },
     "metadata": {},
     "output_type": "display_data"
    }
   ],
   "source": [
    "Xage <- na.omit(Xage)\n",
    "Xage <- subset(Xage, feature %in% common_feature)\n",
    "Xage_sp <- sparseMatrix(i = Xage$id_num,\n",
    "                      j = Xage$feature,\n",
    "                      x = Xage$value)\n",
    "dim(Xage_sp)"
   ]
  },
  {
   "cell_type": "code",
   "execution_count": 58,
   "metadata": {},
   "outputs": [
    {
     "data": {
      "text/plain": [
       "   Min. 1st Qu.  Median    Mean 3rd Qu.    Max.    NA's \n",
       "     NA      NA      NA     NaN      NA      NA  158681 "
      ]
     },
     "metadata": {},
     "output_type": "display_data"
    }
   ],
   "source": [
    "summary(y_age)"
   ]
  },
  {
   "cell_type": "code",
   "execution_count": 39,
   "metadata": {},
   "outputs": [
    {
     "data": {
      "text/html": [
       "<ol class=list-inline>\n",
       "\t<li>116866</li>\n",
       "\t<li>3437</li>\n",
       "</ol>\n"
      ],
      "text/latex": [
       "\\begin{enumerate*}\n",
       "\\item 116866\n",
       "\\item 3437\n",
       "\\end{enumerate*}\n"
      ],
      "text/markdown": [
       "1. 116866\n",
       "2. 3437\n",
       "\n",
       "\n"
      ],
      "text/plain": [
       "[1] 116866   3437"
      ]
     },
     "metadata": {},
     "output_type": "display_data"
    }
   ],
   "source": [
    "Xage_test <- na.omit(Xage_test)\n",
    "Xage_test <- subset(Xage_test, feature %in% common_feature)\n",
    "Xage_test_sp <- sparseMatrix(i = Xage_test$id_num,\n",
    "                           j = Xage_test$feature,\n",
    "                           x = Xage_test$value)\n",
    "dim(Xage_test_sp)\n",
    "\n",
    "dXage <- xgb.DMatrix(Xage_sp, label = y_age, missing = -99999)\n",
    "dXage_test <- xgb.DMatrix(Xage_test_sp, missing = -99999)"
   ]
  },
  {
   "cell_type": "code",
   "execution_count": 56,
   "metadata": {},
   "outputs": [
    {
     "name": "stdout",
     "output_type": "stream",
     "text": [
      "Formal class 'dgCMatrix' [package \"Matrix\"] with 6 slots\n",
      "  ..@ i       : int [1:25886758] 0 7 9 10 11 17 21 22 23 25 ...\n",
      "  ..@ p       : int [1:3438] 0 56199 118162 123828 124119 125539 126143 126927 127005 127097 ...\n",
      "  ..@ Dim     : int [1:2] 158681 3437\n",
      "  ..@ Dimnames:List of 2\n",
      "  .. ..$ : NULL\n",
      "  .. ..$ : NULL\n",
      "  ..@ x       : num [1:25886758] 3 77 4 14 6 2 3 42 1 79 ...\n",
      "  ..@ factors : list()\n"
     ]
    }
   ],
   "source": [
    "str(Xage_sp)"
   ]
  },
  {
   "cell_type": "code",
   "execution_count": 53,
   "metadata": {
    "scrolled": false
   },
   "outputs": [
    {
     "name": "stdout",
     "output_type": "stream",
     "text": [
      "Formal class 'dgCMatrix' [package \"Matrix\"] with 6 slots\n",
      "  ..@ i       : int [1:17611085] 2 4 6 7 9 10 20 21 22 27 ...\n",
      "  ..@ p       : int [1:3438] 0 44903 91355 93266 93332 93626 93748 93948 93960 94050 ...\n",
      "  ..@ Dim     : int [1:2] 116866 3437\n",
      "  ..@ Dimnames:List of 2\n",
      "  .. ..$ : NULL\n",
      "  .. ..$ : NULL\n",
      "  ..@ x       : num [1:17611085] 15 5 171 1 1 1 10 1 1 27 ...\n",
      "  ..@ factors : list()\n"
     ]
    }
   ],
   "source": [
    "str(Xage_test_sp)\n"
   ]
  },
  {
   "cell_type": "code",
   "execution_count": 14,
   "metadata": {},
   "outputs": [],
   "source": [
    "age_x_all <- subset(df_all_feats, is.na(value)==F)\n",
    "\n",
    "age_x_all <- subset(age_x_all, feature %nin% c(\"age\"))\n",
    "age_x_all <- subset(age_x_all, feature %nin% c(\"age_cln\"))\n",
    "age_x_all <- subset(age_x_all, feature %nin% c(\"age_cln2\"))\n",
    "\n",
    "age_x_all$feature_name <- age_x_all$feature\n",
    "age_x_all$feature <- as.numeric(as.factor(age_x_all$feature))\n",
    "age_x <- subset(age_x_all, id %in% subset(df_all, is.na(age_cln2)==F)$id)\n",
    "age_x_test <- subset(age_x_all, id %in% subset(df_all, is.na(age_cln2)==T)$id)\n",
    "age_x_all <- rbind(age_x, age_x_test)\n",
    "\n",
    "age_x_all_feature <- age_x_all[!duplicated(age_x_all$feature), c(\"feature\", \"feature_name\")]\n",
    "age_x_all_feature <- age_x_all_feature[order(age_x_all_feature$feature),]\n",
    "\n",
    "age_x$id_num <- as.numeric(as.factor(age_x$id))\n",
    "age_x_test$id_num <- as.numeric(as.factor(age_x_test$id))"
   ]
  },
  {
   "cell_type": "code",
   "execution_count": 15,
   "metadata": {
    "scrolled": true
   },
   "outputs": [
    {
     "data": {
      "text/html": [
       "<ol class=list-inline>\n",
       "\t<li>158681</li>\n",
       "\t<li>3437</li>\n",
       "</ol>\n"
      ],
      "text/latex": [
       "\\begin{enumerate*}\n",
       "\\item 158681\n",
       "\\item 3437\n",
       "\\end{enumerate*}\n"
      ],
      "text/markdown": [
       "1. 158681\n",
       "2. 3437\n",
       "\n",
       "\n"
      ],
      "text/plain": [
       "[1] 158681   3437"
      ]
     },
     "metadata": {},
     "output_type": "display_data"
    },
    {
     "data": {
      "text/html": [
       "<ol class=list-inline>\n",
       "\t<li>116866</li>\n",
       "\t<li>3437</li>\n",
       "</ol>\n"
      ],
      "text/latex": [
       "\\begin{enumerate*}\n",
       "\\item 116866\n",
       "\\item 3437\n",
       "\\end{enumerate*}\n"
      ],
      "text/markdown": [
       "1. 116866\n",
       "2. 3437\n",
       "\n",
       "\n"
      ],
      "text/plain": [
       "[1] 116866   3437"
      ]
     },
     "metadata": {},
     "output_type": "display_data"
    }
   ],
   "source": [
    "age_x_id <- age_x %>% distinct(id_num, .keep_all= TRUE)\n",
    "age_x_id <- data.frame(id = age_x_id$id, id_num = age_x_id$id_num)\n",
    "age_x_id <- dplyr::left_join(age_x_id, df_all[c(\"id\", \"age_cln2\")], by = \"id\")\n",
    "age_x_id <- age_x_id %>%\n",
    "  dplyr::arrange(id_num)\n",
    "age_y <- age_x_id$age_cln2\n",
    "\n",
    "age_x_test_id <- age_x_test %>% distinct(id_num, .keep_all= TRUE)\n",
    "age_x_test_id <- data.frame(id = age_x_test_id$id, id_num = age_x_test_id$id_num)\n",
    "age_x_test_id <- age_x_test_id %>%\n",
    "  dplyr::arrange(id_num)\n",
    "age_y_test <- rep(NA, nrow(age_x_test_id))\n",
    "\n",
    "\n",
    "common_feature <- dplyr::intersect(unique(age_x$feature), unique(age_x_test$feature))\n",
    "\n",
    "age_x <- na.omit(age_x)\n",
    "age_x <- subset(age_x, feature %in% common_feature)\n",
    "age_x_sp <- sparseMatrix(i = age_x$id_num,\n",
    "                      j = age_x$feature,\n",
    "                      x = age_x$value)\n",
    "dim(age_x_sp)\n",
    "\n",
    "age_x_test <- na.omit(age_x_test)\n",
    "age_x_test <- subset(age_x_test, feature %in% common_feature)\n",
    "age_x_test_sp <- sparseMatrix(i = age_x_test$id_num,\n",
    "                           j = age_x_test$feature,\n",
    "                           x = age_x_test$value)\n",
    "dim(age_x_test_sp)\n",
    "\n",
    "dage_x <- xgb.DMatrix(age_x_sp, label = age_y, missing = -99999)\n",
    "dage_x_test <- xgb.DMatrix(age_x_test_sp, missing = -99999)"
   ]
  },
  {
   "cell_type": "code",
   "execution_count": 16,
   "metadata": {
    "scrolled": true
   },
   "outputs": [
    {
     "name": "stdout",
     "output_type": "stream",
     "text": [
      "[1]\ttrain-rmse:33.844414 \n",
      "[2]\ttrain-rmse:30.926428 \n",
      "[3]\ttrain-rmse:28.348259 \n",
      "[4]\ttrain-rmse:26.061132 \n",
      "[5]\ttrain-rmse:24.054253 \n",
      "[6]\ttrain-rmse:22.287609 \n",
      "[7]\ttrain-rmse:20.743185 \n",
      "[8]\ttrain-rmse:19.407734 \n",
      "[9]\ttrain-rmse:18.247290 \n",
      "[10]\ttrain-rmse:17.250404 \n",
      "[11]\ttrain-rmse:16.395561 \n",
      "[12]\ttrain-rmse:15.660428 \n",
      "[13]\ttrain-rmse:15.037786 \n",
      "[14]\ttrain-rmse:14.517586 \n",
      "[15]\ttrain-rmse:14.072237 \n",
      "[16]\ttrain-rmse:13.700367 \n",
      "[17]\ttrain-rmse:13.388674 \n",
      "[18]\ttrain-rmse:13.137529 \n",
      "[19]\ttrain-rmse:12.925071 \n",
      "[20]\ttrain-rmse:12.744998 \n",
      "[21]\ttrain-rmse:12.600475 \n",
      "[22]\ttrain-rmse:12.475808 \n",
      "[23]\ttrain-rmse:12.373174 \n",
      "[24]\ttrain-rmse:12.289108 \n",
      "[25]\ttrain-rmse:12.216737 \n",
      "[26]\ttrain-rmse:12.156615 \n",
      "[27]\ttrain-rmse:12.105117 \n",
      "[28]\ttrain-rmse:12.065570 \n",
      "[29]\ttrain-rmse:12.028770 \n",
      "[30]\ttrain-rmse:11.997495 \n",
      "[31]\ttrain-rmse:11.972548 \n",
      "[32]\ttrain-rmse:11.951260 \n",
      "[33]\ttrain-rmse:11.933535 \n",
      "[34]\ttrain-rmse:11.917153 \n",
      "[35]\ttrain-rmse:11.903411 \n",
      "[36]\ttrain-rmse:11.888631 \n",
      "[37]\ttrain-rmse:11.875985 \n",
      "[38]\ttrain-rmse:11.864495 \n",
      "[39]\ttrain-rmse:11.854660 \n",
      "[40]\ttrain-rmse:11.843987 \n",
      "[41]\ttrain-rmse:11.835467 \n",
      "[42]\ttrain-rmse:11.828274 \n",
      "[43]\ttrain-rmse:11.820223 \n",
      "[44]\ttrain-rmse:11.813576 \n",
      "[45]\ttrain-rmse:11.806082 \n",
      "[46]\ttrain-rmse:11.801450 \n",
      "[47]\ttrain-rmse:11.794934 \n",
      "[48]\ttrain-rmse:11.788409 \n",
      "[49]\ttrain-rmse:11.782853 \n",
      "[50]\ttrain-rmse:11.775320 \n",
      "[51]\ttrain-rmse:11.769295 \n",
      "[52]\ttrain-rmse:11.764081 \n",
      "[53]\ttrain-rmse:11.760373 \n",
      "[54]\ttrain-rmse:11.755127 \n",
      "[55]\ttrain-rmse:11.751022 \n",
      "[56]\ttrain-rmse:11.746932 \n",
      "[57]\ttrain-rmse:11.743505 \n",
      "[58]\ttrain-rmse:11.739559 \n",
      "[59]\ttrain-rmse:11.733467 \n",
      "[60]\ttrain-rmse:11.728187 \n",
      "[61]\ttrain-rmse:11.724409 \n",
      "[62]\ttrain-rmse:11.719472 \n",
      "[63]\ttrain-rmse:11.714651 \n",
      "[64]\ttrain-rmse:11.712082 \n",
      "[65]\ttrain-rmse:11.709005 \n",
      "[66]\ttrain-rmse:11.706050 \n",
      "[67]\ttrain-rmse:11.701412 \n",
      "[68]\ttrain-rmse:11.697195 \n",
      "[69]\ttrain-rmse:11.693992 \n",
      "[70]\ttrain-rmse:11.691938 \n",
      "[71]\ttrain-rmse:11.687875 \n",
      "[72]\ttrain-rmse:11.683311 \n",
      "[73]\ttrain-rmse:11.679052 \n",
      "[74]\ttrain-rmse:11.676113 \n",
      "[75]\ttrain-rmse:11.671927 \n",
      "[76]\ttrain-rmse:11.668426 \n",
      "[77]\ttrain-rmse:11.665411 \n",
      "[78]\ttrain-rmse:11.663264 \n",
      "[79]\ttrain-rmse:11.658849 \n",
      "[80]\ttrain-rmse:11.655984 \n",
      "[81]\ttrain-rmse:11.653405 \n",
      "[82]\ttrain-rmse:11.649219 \n",
      "[83]\ttrain-rmse:11.646259 \n",
      "[84]\ttrain-rmse:11.642737 \n",
      "[85]\ttrain-rmse:11.641100 \n",
      "[86]\ttrain-rmse:11.638556 \n",
      "[87]\ttrain-rmse:11.635851 \n",
      "[88]\ttrain-rmse:11.632800 \n",
      "[89]\ttrain-rmse:11.630222 \n",
      "[90]\ttrain-rmse:11.627033 \n",
      "[91]\ttrain-rmse:11.622609 \n",
      "[92]\ttrain-rmse:11.617682 \n",
      "[93]\ttrain-rmse:11.613564 \n",
      "[94]\ttrain-rmse:11.611427 \n",
      "[95]\ttrain-rmse:11.607596 \n",
      "[96]\ttrain-rmse:11.604348 \n",
      "[97]\ttrain-rmse:11.602737 \n",
      "[98]\ttrain-rmse:11.599487 \n",
      "[99]\ttrain-rmse:11.597170 \n",
      "[100]\ttrain-rmse:11.594216 \n",
      "[101]\ttrain-rmse:11.592557 \n",
      "[102]\ttrain-rmse:11.588413 \n",
      "[103]\ttrain-rmse:11.585538 \n",
      "[104]\ttrain-rmse:11.583386 \n",
      "[105]\ttrain-rmse:11.580458 \n",
      "[106]\ttrain-rmse:11.576970 \n",
      "[107]\ttrain-rmse:11.573895 \n",
      "[108]\ttrain-rmse:11.571181 \n",
      "[109]\ttrain-rmse:11.567764 \n",
      "[110]\ttrain-rmse:11.565237 \n",
      "[111]\ttrain-rmse:11.561520 \n",
      "[112]\ttrain-rmse:11.558352 \n",
      "[113]\ttrain-rmse:11.555401 \n",
      "[114]\ttrain-rmse:11.553863 \n",
      "[115]\ttrain-rmse:11.552539 \n",
      "[116]\ttrain-rmse:11.550968 \n",
      "[117]\ttrain-rmse:11.547731 \n",
      "[118]\ttrain-rmse:11.544443 \n",
      "[119]\ttrain-rmse:11.542238 \n",
      "[120]\ttrain-rmse:11.540189 \n",
      "[121]\ttrain-rmse:11.539109 \n",
      "[122]\ttrain-rmse:11.537178 \n",
      "[123]\ttrain-rmse:11.533852 \n",
      "[124]\ttrain-rmse:11.531854 \n",
      "[125]\ttrain-rmse:11.528850 \n",
      "[126]\ttrain-rmse:11.525931 \n",
      "[127]\ttrain-rmse:11.524529 \n",
      "[128]\ttrain-rmse:11.521579 \n",
      "[129]\ttrain-rmse:11.519210 \n",
      "[130]\ttrain-rmse:11.516994 \n",
      "[131]\ttrain-rmse:11.515246 \n",
      "[132]\ttrain-rmse:11.513098 \n",
      "[133]\ttrain-rmse:11.512074 \n",
      "[134]\ttrain-rmse:11.510456 \n",
      "[135]\ttrain-rmse:11.508264 \n",
      "[136]\ttrain-rmse:11.506775 \n",
      "[137]\ttrain-rmse:11.504749 \n",
      "[138]\ttrain-rmse:11.503868 \n",
      "[139]\ttrain-rmse:11.502143 \n",
      "[140]\ttrain-rmse:11.499655 \n",
      "[141]\ttrain-rmse:11.497160 \n",
      "[142]\ttrain-rmse:11.494629 \n",
      "[143]\ttrain-rmse:11.490535 \n",
      "[144]\ttrain-rmse:11.488008 \n",
      "[145]\ttrain-rmse:11.485619 \n",
      "[146]\ttrain-rmse:11.483524 \n",
      "[147]\ttrain-rmse:11.481423 \n",
      "[148]\ttrain-rmse:11.478691 \n",
      "[149]\ttrain-rmse:11.475768 \n",
      "[150]\ttrain-rmse:11.474562 \n",
      "[151]\ttrain-rmse:11.472413 \n",
      "[152]\ttrain-rmse:11.471011 \n",
      "[153]\ttrain-rmse:11.468917 \n",
      "[154]\ttrain-rmse:11.467308 \n",
      "[155]\ttrain-rmse:11.465595 \n",
      "[156]\ttrain-rmse:11.462539 \n",
      "[157]\ttrain-rmse:11.461090 \n",
      "[158]\ttrain-rmse:11.459544 \n",
      "[159]\ttrain-rmse:11.457717 \n",
      "[160]\ttrain-rmse:11.456095 \n",
      "[161]\ttrain-rmse:11.454829 \n",
      "[162]\ttrain-rmse:11.453650 \n",
      "[163]\ttrain-rmse:11.451777 \n",
      "[164]\ttrain-rmse:11.450723 \n",
      "[165]\ttrain-rmse:11.449750 \n",
      "[166]\ttrain-rmse:11.446084 \n",
      "[167]\ttrain-rmse:11.442744 \n",
      "[168]\ttrain-rmse:11.438787 \n",
      "[169]\ttrain-rmse:11.436549 \n",
      "[170]\ttrain-rmse:11.435265 \n",
      "[171]\ttrain-rmse:11.433839 \n",
      "[172]\ttrain-rmse:11.432649 \n",
      "[173]\ttrain-rmse:11.431122 \n",
      "[174]\ttrain-rmse:11.428600 \n",
      "[175]\ttrain-rmse:11.425729 \n",
      "[176]\ttrain-rmse:11.424349 \n",
      "[177]\ttrain-rmse:11.421638 \n",
      "[178]\ttrain-rmse:11.419823 \n",
      "[179]\ttrain-rmse:11.418397 \n",
      "[180]\ttrain-rmse:11.417104 \n",
      "[181]\ttrain-rmse:11.415543 \n",
      "[182]\ttrain-rmse:11.412763 \n",
      "[183]\ttrain-rmse:11.410766 \n",
      "[184]\ttrain-rmse:11.410141 \n",
      "[185]\ttrain-rmse:11.408067 \n",
      "[186]\ttrain-rmse:11.406495 \n",
      "[187]\ttrain-rmse:11.404771 \n",
      "[188]\ttrain-rmse:11.403790 \n",
      "[189]\ttrain-rmse:11.401152 \n",
      "[190]\ttrain-rmse:11.398813 \n",
      "[191]\ttrain-rmse:11.397319 \n",
      "[192]\ttrain-rmse:11.395849 \n",
      "[193]\ttrain-rmse:11.394731 \n",
      "[194]\ttrain-rmse:11.392644 \n",
      "[195]\ttrain-rmse:11.390725 \n",
      "[196]\ttrain-rmse:11.389648 \n",
      "[197]\ttrain-rmse:11.387857 \n",
      "[198]\ttrain-rmse:11.385992 \n",
      "[199]\ttrain-rmse:11.384503 \n",
      "[200]\ttrain-rmse:11.381871 \n"
     ]
    }
   ],
   "source": [
    "param <- list(\"objective\" = \"reg:linear\",\n",
    "                \"eval_metric\" = \"rmse\",\n",
    "                \"eta\" = 0.1,\n",
    "                \"max_depth\" = 6,\n",
    "                \"subsample\" = 0.7,\n",
    "                \"colsample_bytree\" = 0.3,\n",
    "                \"alpha\" = 1.0,\n",
    "                \"nthread\" = 24)\n",
    "  \n",
    "xgb <- xgboost(data = dage_x, \n",
    "                 param = param,\n",
    "                 nround = 200)"
   ]
  },
  {
   "cell_type": "code",
   "execution_count": 36,
   "metadata": {
    "scrolled": true
   },
   "outputs": [
    {
     "name": "stdout",
     "output_type": "stream",
     "text": [
      "      Feature         Gain        Cover    Frequency\n",
      "   1:    3294 4.039799e-02 1.138537e-02 0.0021244954\n",
      "   2:    3278 4.013628e-02 1.528630e-02 0.0029742936\n",
      "   3:    3407 2.348432e-02 3.981781e-03 0.0010622477\n",
      "   4:    3328 1.736438e-02 7.929362e-03 0.0015933716\n",
      "   5:    3329 1.424686e-02 3.347801e-03 0.0009560229\n",
      "  ---                                               \n",
      "1337:     443 9.732342e-07 9.003681e-08 0.0001062248\n",
      "1338:     107 6.255789e-07 3.751534e-08 0.0001062248\n",
      "1339:      49 6.195710e-07 2.250920e-08 0.0001062248\n",
      "1340:      51 5.111475e-07 2.250920e-08 0.0001062248\n",
      "1341:      68 3.438985e-07 3.751534e-08 0.0002124495\n"
     ]
    },
    {
     "ename": "ERROR",
     "evalue": "Error in png(tf, width, height, \"in\", pointsize, bg, res, antialias = antialias): unable to start png() device\n",
     "output_type": "error",
     "traceback": [
      "Error in png(tf, width, height, \"in\", pointsize, bg, res, antialias = antialias): unable to start png() device\nTraceback:\n"
     ]
    },
    {
     "data": {
      "text/plain": [
       "plot without title"
      ]
     },
     "metadata": {},
     "output_type": "display_data"
    }
   ],
   "source": [
    "importance_matrix <- xgb.importance(model = xgb)\n",
    "print(importance_matrix)\n",
    "impm <- dataframe(importance)\n",
    "xgb.plot.importance(importance_matrix = importance_matrix[0:15])"
   ]
  },
  {
   "cell_type": "code",
   "execution_count": null,
   "metadata": {
    "scrolled": true
   },
   "outputs": [],
   "source": [
    "(gg <- xgb.ggplot.importance(importance_matrix, measure = \"Frequency\", rel_to_first = TRUE))\n",
    "gg + ggplot2::ylab(\"Frequency\")"
   ]
  },
  {
   "cell_type": "code",
   "execution_count": null,
   "metadata": {},
   "outputs": [],
   "source": [
    "capabilities()"
   ]
  },
  {
   "cell_type": "code",
   "execution_count": null,
   "metadata": {},
   "outputs": [],
   "source": [
    "library(WVPlots)"
   ]
  },
  {
   "cell_type": "code",
   "execution_count": null,
   "metadata": {
    "scrolled": true
   },
   "outputs": [],
   "source": [
    "plot_fit_trajectory(xgb$evaluation_log)"
   ]
  },
  {
   "cell_type": "code",
   "execution_count": null,
   "metadata": {},
   "outputs": [],
   "source": []
  },
  {
   "cell_type": "code",
   "execution_count": 42,
   "metadata": {},
   "outputs": [],
   "source": [
    "age_x_stack <- data.frame()\n",
    "age_x_test_stack <- data.frame()\n",
    "age_y_df <- data.frame(age_pred = age_y)\n",
    "age_y_df <- mutate(age_y_df,\n",
    "                id = unique(age_x_id$id))\n",
    "age_y_df <- age_y_df[c(\"id\", \"age_pred\")]\n",
    "age_x_stack <- bind_rows(age_x_stack,\n",
    "                    age_y_df)"
   ]
  },
  {
   "cell_type": "code",
   "execution_count": 43,
   "metadata": {},
   "outputs": [],
   "source": [
    "age_y_test_ <- predict(xgb, dage_x_test)\n",
    "age_y_test_df <- data.frame(age_pred = age_y_test_)\n",
    "age_y_test_df <- mutate(age_y_test_df,\n",
    "                   id = unique(age_x_test_id$id))\n",
    "age_y_test_df <- age_y_test_df[c(\"id\", \"age_pred\")]\n",
    "age_x_test_stack <- bind_rows(age_x_test_stack,\n",
    "                         age_y_test_df)"
   ]
  },
  {
   "cell_type": "code",
   "execution_count": 45,
   "metadata": {},
   "outputs": [],
   "source": [
    "age_x_test_stack <- age_x_test_stack %>%\n",
    "  group_by(id) %>%\n",
    "  summarise_all(funs(mean))"
   ]
  },
  {
   "cell_type": "code",
   "execution_count": 46,
   "metadata": {},
   "outputs": [],
   "source": [
    "age_x_stack <- melt.data.table(as.data.table(age_x_stack))\n",
    "age_x_stack <- data.frame(age_x_stack)\n",
    "names(age_x_stack) <- c(\"id\", \"feature\", \"value\")"
   ]
  },
  {
   "cell_type": "code",
   "execution_count": 47,
   "metadata": {},
   "outputs": [],
   "source": [
    "age_x_test_stack <- melt.data.table(as.data.table(age_x_test_stack))\n",
    "age_x_test_stack <- data.frame(age_x_test_stack)\n",
    "names(age_x_test_stack) <- c(\"id\", \"feature\", \"value\")"
   ]
  },
  {
   "cell_type": "code",
   "execution_count": 50,
   "metadata": {},
   "outputs": [],
   "source": [
    "saveRDS(age_x_stack, paste0(\"cache/\",folder,\"/age_stack.RData\"))\n",
    "saveRDS(age_x_test_stack, paste0(\"cache/\",folder,\"/age_test_stack.RData\"))"
   ]
  }
 ],
 "metadata": {
  "kernelspec": {
   "display_name": "R",
   "language": "R",
   "name": "ir"
  },
  "language_info": {
   "codemirror_mode": "r",
   "file_extension": ".r",
   "mimetype": "text/x-r-source",
   "name": "R",
   "pygments_lexer": "r",
   "version": "3.5.1"
  }
 },
 "nbformat": 4,
 "nbformat_minor": 2
}
