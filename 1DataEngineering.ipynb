{
 "cells": [
  {
   "cell_type": "code",
   "execution_count": 1,
   "metadata": {
    "scrolled": true
   },
   "outputs": [
    {
     "name": "stderr",
     "output_type": "stream",
     "text": [
      "Loading required package: lattice\n",
      "Loading required package: ggplot2\n",
      "Loading required package: carData\n",
      "Loading required package: grid\n",
      "Loading required package: survival\n",
      "\n",
      "Attaching package: 'survival'\n",
      "\n",
      "The following object is masked from 'package:caret':\n",
      "\n",
      "    cluster\n",
      "\n",
      "Loading required package: Formula\n",
      "\n",
      "Attaching package: 'Hmisc'\n",
      "\n",
      "The following objects are masked from 'package:base':\n",
      "\n",
      "    format.pval, units\n",
      "\n",
      "\n",
      "Attaching package: 'plyr'\n",
      "\n",
      "The following objects are masked from 'package:Hmisc':\n",
      "\n",
      "    is.discrete, summarize\n",
      "\n",
      "The following object is masked from 'package:DMwR':\n",
      "\n",
      "    join\n",
      "\n",
      "\n",
      "Attaching package: 'dplyr'\n",
      "\n",
      "The following objects are masked from 'package:plyr':\n",
      "\n",
      "    arrange, count, desc, failwith, id, mutate, rename, summarise,\n",
      "    summarize\n",
      "\n",
      "The following objects are masked from 'package:Hmisc':\n",
      "\n",
      "    src, summarize\n",
      "\n",
      "The following object is masked from 'package:car':\n",
      "\n",
      "    recode\n",
      "\n",
      "The following object is masked from 'package:xgboost':\n",
      "\n",
      "    slice\n",
      "\n",
      "The following objects are masked from 'package:stats':\n",
      "\n",
      "    filter, lag\n",
      "\n",
      "The following objects are masked from 'package:base':\n",
      "\n",
      "    intersect, setdiff, setequal, union\n",
      "\n",
      "\n",
      "Attaching package: 'data.table'\n",
      "\n",
      "The following objects are masked from 'package:dplyr':\n",
      "\n",
      "    between, first, last\n",
      "\n",
      "\n",
      "Attaching package: 'DescTools'\n",
      "\n",
      "The following object is masked from 'package:data.table':\n",
      "\n",
      "    %like%\n",
      "\n",
      "The following objects are masked from 'package:Hmisc':\n",
      "\n",
      "    %nin%, Label, Mean, Quantile\n",
      "\n",
      "The following object is masked from 'package:car':\n",
      "\n",
      "    Recode\n",
      "\n",
      "The following objects are masked from 'package:caret':\n",
      "\n",
      "    MAE, RMSE\n",
      "\n",
      "\n",
      "Attaching package: 'Matrix'\n",
      "\n",
      "The following object is masked from 'package:tidyr':\n",
      "\n",
      "    expand\n",
      "\n",
      "Loading required package: foreach\n",
      "Loaded glmnet 2.0-16\n",
      "\n",
      "Parsed with column specification:\n",
      "cols(\n",
      "  id = col_character(),\n",
      "  date_account_created = col_date(format = \"\"),\n",
      "  timestamp_first_active = col_double(),\n",
      "  date_first_booking = col_date(format = \"\"),\n",
      "  gender = col_character(),\n",
      "  age = col_double(),\n",
      "  signup_method = col_character(),\n",
      "  signup_flow = col_double(),\n",
      "  language = col_character(),\n",
      "  affiliate_channel = col_character(),\n",
      "  affiliate_provider = col_character(),\n",
      "  first_affiliate_tracked = col_character(),\n",
      "  signup_app = col_character(),\n",
      "  first_device_type = col_character(),\n",
      "  first_browser = col_character(),\n",
      "  country_destination = col_character()\n",
      ")\n",
      "Parsed with column specification:\n",
      "cols(\n",
      "  id = col_character(),\n",
      "  date_account_created = col_date(format = \"\"),\n",
      "  timestamp_first_active = col_double(),\n",
      "  date_first_booking = col_logical(),\n",
      "  gender = col_character(),\n",
      "  age = col_double(),\n",
      "  signup_method = col_character(),\n",
      "  signup_flow = col_double(),\n",
      "  language = col_character(),\n",
      "  affiliate_channel = col_character(),\n",
      "  affiliate_provider = col_character(),\n",
      "  first_affiliate_tracked = col_character(),\n",
      "  signup_app = col_character(),\n",
      "  first_device_type = col_character(),\n",
      "  first_browser = col_character()\n",
      ")\n"
     ]
    },
    {
     "data": {
      "text/plain": [
       "      id            date_account_created timestamp_first_active\n",
       " Length:213451      Min.   :2010-01-01   Min.   :2.009e+13     \n",
       " Class :character   1st Qu.:2012-12-26   1st Qu.:2.012e+13     \n",
       " Mode  :character   Median :2013-09-11   Median :2.013e+13     \n",
       "                    Mean   :2013-06-25   Mean   :2.013e+13     \n",
       "                    3rd Qu.:2014-03-06   3rd Qu.:2.014e+13     \n",
       "                    Max.   :2014-06-30   Max.   :2.014e+13     \n",
       "                                                               \n",
       " date_first_booking      gender               age          signup_method     \n",
       " Min.   :2010-01-02   Length:213451      Min.   :   1.00   Length:213451     \n",
       " 1st Qu.:2012-12-02   Class :character   1st Qu.:  28.00   Class :character  \n",
       " Median :2013-09-11   Mode  :character   Median :  34.00   Mode  :character  \n",
       " Mean   :2013-07-04                      Mean   :  49.67                     \n",
       " 3rd Qu.:2014-04-04                      3rd Qu.:  43.00                     \n",
       " Max.   :2015-06-29                      Max.   :2014.00                     \n",
       " NA's   :124543                          NA's   :87990                       \n",
       "  signup_flow       language         affiliate_channel  affiliate_provider\n",
       " Min.   : 0.000   Length:213451      Length:213451      Length:213451     \n",
       " 1st Qu.: 0.000   Class :character   Class :character   Class :character  \n",
       " Median : 0.000   Mode  :character   Mode  :character   Mode  :character  \n",
       " Mean   : 3.267                                                           \n",
       " 3rd Qu.: 0.000                                                           \n",
       " Max.   :25.000                                                           \n",
       "                                                                          \n",
       " first_affiliate_tracked  signup_app        first_device_type \n",
       " Length:213451           Length:213451      Length:213451     \n",
       " Class :character        Class :character   Class :character  \n",
       " Mode  :character        Mode  :character   Mode  :character  \n",
       "                                                              \n",
       "                                                              \n",
       "                                                              \n",
       "                                                              \n",
       " first_browser      country_destination\n",
       " Length:213451      Length:213451      \n",
       " Class :character   Class :character   \n",
       " Mode  :character   Mode  :character   \n",
       "                                       \n",
       "                                       \n",
       "                                       \n",
       "                                       "
      ]
     },
     "metadata": {},
     "output_type": "display_data"
    }
   ],
   "source": [
    "library(xgboost)\n",
    "library(readr)\n",
    "library(stringr)\n",
    "library(caret)\n",
    "library(car)\n",
    "library(DMwR)\n",
    "library(Hmisc)\n",
    "library(plyr)\n",
    "library(dplyr)\n",
    "library(tidyr)\n",
    "library(data.table)\n",
    "library(DescTools)\n",
    "library(Matrix)\n",
    "library(glmnet)\n",
    "library(plotrix)\n",
    "\n",
    "options(warn=-1)\n",
    "\n",
    "set.seed(0)\n",
    "setwd(\"C:/Users/Jeane/MSDS/Proj2\")\n",
    "# load data\n",
    "df_train = read_csv(\"C:/Users/Jeane/MSDS/Proj2/airbnb/train_users_2.csv\")\n",
    "df_test = read_csv(\"C:/Users/Jeane/MSDS/Proj2/airbnb/test_users.csv\")\n",
    "age_gender_bkts <- fread(\"C:/Users/Jeane/MSDS/Proj2/airbnb/age_gender_bkts.csv\", data.table=F)\n",
    "countries <- fread(\"C:/Users/Jeane/MSDS/Proj2/airbnb/countries.csv\", data.table=F)\n",
    "sample_submission_NDF <- fread(\"C:/Users/Jeane/MSDS/Proj2/airbnb/sample_submission_NDF.csv\", data.table=F)\n",
    "sessions <- fread(\"C:/Users/Jeane/MSDS/Proj2/airbnb/sessions.csv\", data.table=F)\n",
    "summary(df_train)"
   ]
  },
  {
   "cell_type": "code",
   "execution_count": 2,
   "metadata": {
    "scrolled": true
   },
   "outputs": [
    {
     "name": "stdout",
     "output_type": "stream",
     "text": [
      "Classes 'tbl_df', 'tbl' and 'data.frame':\t62096 obs. of  16 variables:\n",
      " $ id                     : chr  \"5uwns89zht\" \"jtl0dijy2j\" \"xx0ulgorjt\" \"6c6puo6ix0\" ...\n",
      " $ date_account_created   : Date, format: \"2014-07-01\" \"2014-07-01\" ...\n",
      " $ timestamp_first_active : num  2.01e+13 2.01e+13 2.01e+13 2.01e+13 2.01e+13 ...\n",
      " $ date_first_booking     : logi  NA NA NA NA NA NA ...\n",
      " $ gender                 : chr  \"FEMALE\" \"-unknown-\" \"-unknown-\" \"-unknown-\" ...\n",
      " $ age                    : num  35 NA NA NA NA 28 48 NA NA NA ...\n",
      " $ signup_method          : chr  \"facebook\" \"basic\" \"basic\" \"basic\" ...\n",
      " $ signup_flow            : num  0 0 0 0 0 0 25 0 0 0 ...\n",
      " $ language               : chr  \"en\" \"en\" \"en\" \"en\" ...\n",
      " $ affiliate_channel      : chr  \"direct\" \"direct\" \"direct\" \"direct\" ...\n",
      " $ affiliate_provider     : chr  \"direct\" \"direct\" \"direct\" \"direct\" ...\n",
      " $ first_affiliate_tracked: chr  \"untracked\" \"untracked\" \"linked\" \"linked\" ...\n",
      " $ signup_app             : chr  \"Moweb\" \"Moweb\" \"Web\" \"Web\" ...\n",
      " $ first_device_type      : chr  \"iPhone\" \"iPhone\" \"Windows Desktop\" \"Windows Desktop\" ...\n",
      " $ first_browser          : chr  \"Mobile Safari\" \"Mobile Safari\" \"Chrome\" \"IE\" ...\n",
      " $ country_destination    : logi  NA NA NA NA NA NA ...\n",
      " - attr(*, \"spec\")=\n",
      "  .. cols(\n",
      "  ..   id = col_character(),\n",
      "  ..   date_account_created = col_date(format = \"\"),\n",
      "  ..   timestamp_first_active = col_double(),\n",
      "  ..   date_first_booking = col_logical(),\n",
      "  ..   gender = col_character(),\n",
      "  ..   age = col_double(),\n",
      "  ..   signup_method = col_character(),\n",
      "  ..   signup_flow = col_double(),\n",
      "  ..   language = col_character(),\n",
      "  ..   affiliate_channel = col_character(),\n",
      "  ..   affiliate_provider = col_character(),\n",
      "  ..   first_affiliate_tracked = col_character(),\n",
      "  ..   signup_app = col_character(),\n",
      "  ..   first_device_type = col_character(),\n",
      "  ..   first_browser = col_character()\n",
      "  .. )\n"
     ]
    }
   ],
   "source": [
    "labels = df_train[, c('id', 'country_destination')]\n",
    "df_test$country_destination = NA\n",
    "str(df_test)"
   ]
  },
  {
   "cell_type": "code",
   "execution_count": 11,
   "metadata": {
    "scrolled": true
   },
   "outputs": [
    {
     "name": "stdout",
     "output_type": "stream",
     "text": [
      "Classes 'tbl_df', 'tbl' and 'data.frame':\t213451 obs. of  2 variables:\n",
      " $ id                 : chr  \"gxn3p5htnn\" \"820tgsjxq7\" \"4ft3gnwmtx\" \"bjjt8pjhuk\" ...\n",
      " $ country_destination: chr  \"NDF\" \"NDF\" \"US\" \"other\" ...\n"
     ]
    }
   ],
   "source": [
    "str(labels)"
   ]
  },
  {
   "cell_type": "code",
   "execution_count": 17,
   "metadata": {},
   "outputs": [
    {
     "name": "stdout",
     "output_type": "stream",
     "text": [
      "[1] 213451     17\n",
      "[1] 62096    17\n",
      "[1] 275547     17\n"
     ]
    }
   ],
   "source": [
    "# combine train and test data\n",
    "df_train$dataset <- \"train\"\n",
    "df_test$dataset <- \"test\"\n",
    "df_all = rbind(df_train, df_test)\n",
    "print(dim(df_train))\n",
    "print(dim(df_test))\n",
    "print(dim(df_all))"
   ]
  },
  {
   "cell_type": "code",
   "execution_count": 106,
   "metadata": {
    "scrolled": false
   },
   "outputs": [
    {
     "name": "stdout",
     "output_type": "stream",
     "text": [
      "   Min. 1st Qu.  Median    Mean 3rd Qu.    Max.    NA's \n",
      "   1.00   28.00   33.00   47.15   42.00 2014.00  116866 \n"
     ]
    },
    {
     "data": {
      "image/png": "[encoded data removed]",
      "text/plain": [
       "Plot with title \"age data\""
      ]
     },
     "metadata": {},
     "output_type": "display_data"
    }
   ],
   "source": [
    "par(bty=\"n\")\n",
    "plot(df_all$age, main=\"age data\",\n",
    "     ylab = \"Age given (raw data)\", xlab=\"User ID\", col=blues9)\n",
    "\n",
    "print(summary(df_all$age))\n"
   ]
  },
  {
   "cell_type": "code",
   "execution_count": 28,
   "metadata": {},
   "outputs": [
    {
     "name": "stdout",
     "output_type": "stream",
     "text": [
      "  age_bucket country_destination gender population_in_thousands year\n",
      "1       100+                  AU   male                       1 2015\n",
      "2      95-99                  AU   male                       9 2015\n",
      "3      90-94                  AU   male                      47 2015\n",
      "4      85-89                  AU   male                     118 2015\n",
      "5      80-84                  AU   male                     199 2015\n",
      "6      75-79                  AU   male                     298 2015\n",
      "    age_bucket country_destination gender population_in_thousands year\n",
      "415       100+                  US   male                      13 2015\n",
      "416      95-99                  US   male                     115 2015\n",
      "417      90-94                  US   male                     541 2015\n",
      "418      15-19                  US female                   10570 2015\n",
      "419      85-89                  US   male                    1441 2015\n",
      "420      80-84                  US   male                    2442 2015\n"
     ]
    }
   ],
   "source": [
    "#what does the kaggle age/gender brackets look like\n",
    "print(head(age_gender_bkts))\n",
    "print(tail(age_gender_bkts))"
   ]
  },
  {
   "cell_type": "markdown",
   "metadata": {},
   "source": [
    "## Cleaning the age data"
   ]
  },
  {
   "cell_type": "code",
   "execution_count": 45,
   "metadata": {
    "scrolled": false
   },
   "outputs": [
    {
     "data": {
      "image/png": "[encoded data removed]",
      "text/plain": [
       "Plot with title \"Original age Data\""
      ]
     },
     "metadata": {},
     "output_type": "display_data"
    },
    {
     "data": {
      "image/png": "[encoded data removed]",
      "text/plain": [
       "Plot with title \"Cleaned age Data\""
      ]
     },
     "metadata": {},
     "output_type": "display_data"
    }
   ],
   "source": [
    "df_all <- df_all %>%\n",
    "  dplyr::mutate(\n",
    "    age_cln = ifelse(age >= 1920, 2015 - age, age),\n",
    "    age_cln2 = ifelse(age_cln < 14 | age_cln > 100, -1, age_cln),\n",
    "    age_bucket = cut(age, breaks = c(min(age_cln, na.rm=TRUE),\n",
    "                                     4, 9, 14, 19, 24,\n",
    "                                     29, 34, 39, 44, 49, 54,\n",
    "                                     59, 64, 69, 74, 79, 84,\n",
    "                                     89, 94, 99, max(age_cln, na.rm=TRUE)\n",
    "    )),\n",
    "    age_bucket = mapvalues(age_bucket,\n",
    "                           from=c(\"(1,4]\", \"(4,9]\", \"(9,14]\", \"(14,19]\",\n",
    "                                  \"(19,24]\", \"(24,29]\", \"(29,34]\", \"(34,39]\",\n",
    "                                  \"(39,44]\", \"(44,49]\", \"(49,54]\", \"(54,59]\",\n",
    "                                  \"(59,64]\", \"(64,69]\", \"(69,74]\", \"(74,79]\",\n",
    "                                  \"(79,84]\", \"(84,89]\", \"(89,94]\", \"(94,99]\", \"(99,150]\"),\n",
    "                           to=c(\"0-4\", \"5-9\", \"10-14\", \"15-19\",\n",
    "                                \"20-24\", \"25-29\", \"30-34\", \"35-39\",\n",
    "                                \"40-44\", \"45-49\", \"50-54\", \"55-59\",\n",
    "                                \"60-64\", \"65-69\", \"70-74\", \"75-79\",\n",
    "                                \"80-84\", \"85-89\", \"90-94\", \"95-99\", \"100+\"))\n",
    "  )\n",
    "hist(df_all$age, main=\"Original age Data\", col=\"red\")\n",
    "plot(df_all$age_bucket, main=\"Cleaned age Data\", \n",
    "     ylab=\"Frequency\",\n",
    "     xlab=\"Age Bracket\",\n",
    "    col=\"blue\",\n",
    "    las=2, cex.lab=1, cex.axis=1, font=1,col.axis=\"black\")"
   ]
  },
  {
   "cell_type": "code",
   "execution_count": 167,
   "metadata": {},
   "outputs": [],
   "source": [
    "age_gender_bkts <- age_gender_bkts %>%\n",
    "  dplyr::left_join(., countries, by = \"country_destination\")"
   ]
  },
  {
   "cell_type": "code",
   "execution_count": 168,
   "metadata": {},
   "outputs": [],
   "source": [
    "age_gender_bkts <- age_gender_bkts[c(\"age_bucket\", \"country_destination\",\n",
    "                                     \"gender\", \"population_in_thousands\",\n",
    "                                     \"year\", \"destination_language\")]"
   ]
  },
  {
   "cell_type": "code",
   "execution_count": 169,
   "metadata": {},
   "outputs": [],
   "source": [
    "age_gender_bkts <- dplyr::mutate(age_gender_bkts,\n",
    "                                 country_language = paste0(country_destination,\n",
    "                                                           \"_\", destination_language))"
   ]
  },
  {
   "cell_type": "code",
   "execution_count": 176,
   "metadata": {},
   "outputs": [],
   "source": [
    "age_gender_bkts_reshape <- data.frame()\n",
    "for(i in unique(age_gender_bkts$country_language)){\n",
    "  # i <- \"AU_eng\"\n",
    "  age_gender_bkts_ <- subset(age_gender_bkts, country_language == i)\n",
    "  age_gender_bkts_$country_language <- NULL\n",
    "  age_gender_bkts_ <- reshape(age_gender_bkts_,\n",
    "                              direction='wide',\n",
    "                              idvar=c('destination_language', 'age_bucket',\n",
    "                                      'gender', 'year'),\n",
    "                              timevar='country_destination')\n",
    "  age_gender_bkts_reshape <- bind_rows(\n",
    "    age_gender_bkts_reshape,\n",
    "    age_gender_bkts_\n",
    "  )\n",
    "}"
   ]
  },
  {
   "cell_type": "code",
   "execution_count": 179,
   "metadata": {},
   "outputs": [],
   "source": [
    "age_gender_bkts_reshape$year <- NULL\n",
    "age_gender_bkts_reshape <- age_gender_bkts_reshape %>%\n",
    "  dplyr::mutate(.,\n",
    "                gender = toupper(gender),\n",
    "                language = str_sub(destination_language, 1, 2)\n",
    "  ) %>%\n",
    "  dplyr::select(-destination_language) %>%\n",
    "  dplyr::group_by(age_bucket, gender, language) %>%\n",
    "  dplyr::summarise_all(funs(Sum))"
   ]
  },
  {
   "cell_type": "code",
   "execution_count": 180,
   "metadata": {},
   "outputs": [],
   "source": [
    "df_all_age_gender_bkts_feats <- dplyr::left_join(df_all[c(\"id\", \"age_bucket\", \"gender\", \"language\")],\n",
    "                                                 age_gender_bkts_reshape,\n",
    "                                                 by = c(\"age_bucket\", \"gender\", \"language\"))"
   ]
  },
  {
   "cell_type": "code",
   "execution_count": 181,
   "metadata": {},
   "outputs": [
    {
     "name": "stdout",
     "output_type": "stream",
     "text": [
      "[1] \"age_gender_bkts feature\"\n",
      "[1] 10\n"
     ]
    }
   ],
   "source": [
    "df_all_age_gender_bkts_feats$age_bucket <- NULL\n",
    "df_all_age_gender_bkts_feats$gender <- NULL\n",
    "df_all_age_gender_bkts_feats$language <- NULL\n",
    "df_all_age_gender_bkts_feats <- melt.data.table(as.data.table(df_all_age_gender_bkts_feats))\n",
    "df_all_age_gender_bkts_feats <- data.frame(df_all_age_gender_bkts_feats)\n",
    "names(df_all_age_gender_bkts_feats) <- c(\"id\", \"feature\", \"value\")\n",
    "print(\"age_gender_bkts feature\")\n",
    "print(n_distinct(df_all_age_gender_bkts_feats$feature))"
   ]
  },
  {
   "cell_type": "code",
   "execution_count": 184,
   "metadata": {},
   "outputs": [
    {
     "data": {
      "text/plain": [
       "      id                                  feature            value        \n",
       " Length:2755470     population_in_thousands.AU: 275547   Min.   :    0    \n",
       " Class :character   population_in_thousands.CA: 275547   1st Qu.:    0    \n",
       " Mode  :character   population_in_thousands.DE: 275547   Median :    0    \n",
       "                    population_in_thousands.ES: 275547   Mean   : 1451    \n",
       "                    population_in_thousands.FR: 275547   3rd Qu.: 1220    \n",
       "                    population_in_thousands.GB: 275547   Max.   :11601    \n",
       "                    (Other)                   :1102188   NA's   :1437580  "
      ]
     },
     "metadata": {},
     "output_type": "display_data"
    },
    {
     "data": {
      "text/html": [
       "<table>\n",
       "<thead><tr><th scope=col>id</th><th scope=col>feature</th><th scope=col>value</th></tr></thead>\n",
       "<tbody>\n",
       "\t<tr><td>gxn3p5htnn                </td><td>population_in_thousands.AU</td><td> NA                       </td></tr>\n",
       "\t<tr><td>820tgsjxq7                </td><td>population_in_thousands.AU</td><td>797                       </td></tr>\n",
       "\t<tr><td>4ft3gnwmtx                </td><td>population_in_thousands.AU</td><td>739                       </td></tr>\n",
       "\t<tr><td>bjjt8pjhuk                </td><td>population_in_thousands.AU</td><td>838                       </td></tr>\n",
       "\t<tr><td>87mebub9p4                </td><td>population_in_thousands.AU</td><td> NA                       </td></tr>\n",
       "\t<tr><td>osr2jwljor                </td><td>population_in_thousands.AU</td><td> NA                       </td></tr>\n",
       "</tbody>\n",
       "</table>\n"
      ],
      "text/latex": [
       "\\begin{tabular}{r|lll}\n",
       " id & feature & value\\\\\n",
       "\\hline\n",
       "\t gxn3p5htnn                     & population\\_in\\_thousands.AU &  NA                           \\\\\n",
       "\t 820tgsjxq7                     & population\\_in\\_thousands.AU & 797                           \\\\\n",
       "\t 4ft3gnwmtx                     & population\\_in\\_thousands.AU & 739                           \\\\\n",
       "\t bjjt8pjhuk                     & population\\_in\\_thousands.AU & 838                           \\\\\n",
       "\t 87mebub9p4                     & population\\_in\\_thousands.AU &  NA                           \\\\\n",
       "\t osr2jwljor                     & population\\_in\\_thousands.AU &  NA                           \\\\\n",
       "\\end{tabular}\n"
      ],
      "text/markdown": [
       "\n",
       "id | feature | value | \n",
       "|---|---|---|---|---|---|\n",
       "| gxn3p5htnn                 | population_in_thousands.AU |  NA                        | \n",
       "| 820tgsjxq7                 | population_in_thousands.AU | 797                        | \n",
       "| 4ft3gnwmtx                 | population_in_thousands.AU | 739                        | \n",
       "| bjjt8pjhuk                 | population_in_thousands.AU | 838                        | \n",
       "| 87mebub9p4                 | population_in_thousands.AU |  NA                        | \n",
       "| osr2jwljor                 | population_in_thousands.AU |  NA                        | \n",
       "\n",
       "\n"
      ],
      "text/plain": [
       "  id         feature                    value\n",
       "1 gxn3p5htnn population_in_thousands.AU  NA  \n",
       "2 820tgsjxq7 population_in_thousands.AU 797  \n",
       "3 4ft3gnwmtx population_in_thousands.AU 739  \n",
       "4 bjjt8pjhuk population_in_thousands.AU 838  \n",
       "5 87mebub9p4 population_in_thousands.AU  NA  \n",
       "6 osr2jwljor population_in_thousands.AU  NA  "
      ]
     },
     "metadata": {},
     "output_type": "display_data"
    },
    {
     "data": {
      "text/html": [
       "<table>\n",
       "<thead><tr><th></th><th scope=col>id</th><th scope=col>feature</th><th scope=col>value</th></tr></thead>\n",
       "<tbody>\n",
       "\t<tr><th scope=row>2755465</th><td>8yvhec201j                </td><td>population_in_thousands.US</td><td>   NA                     </td></tr>\n",
       "\t<tr><th scope=row>2755466</th><td>cv0na2lf5a                </td><td>population_in_thousands.US</td><td>   NA                     </td></tr>\n",
       "\t<tr><th scope=row>2755467</th><td>zp8xfonng8                </td><td>population_in_thousands.US</td><td>   NA                     </td></tr>\n",
       "\t<tr><th scope=row>2755468</th><td>fa6260ziny                </td><td>population_in_thousands.US</td><td>   NA                     </td></tr>\n",
       "\t<tr><th scope=row>2755469</th><td>87k0fy4ugm                </td><td>population_in_thousands.US</td><td>   NA                     </td></tr>\n",
       "\t<tr><th scope=row>2755470</th><td>9uqfg8txu3                </td><td>population_in_thousands.US</td><td>10659                     </td></tr>\n",
       "</tbody>\n",
       "</table>\n"
      ],
      "text/latex": [
       "\\begin{tabular}{r|lll}\n",
       "  & id & feature & value\\\\\n",
       "\\hline\n",
       "\t2755465 & 8yvhec201j                     & population\\_in\\_thousands.US &    NA                         \\\\\n",
       "\t2755466 & cv0na2lf5a                     & population\\_in\\_thousands.US &    NA                         \\\\\n",
       "\t2755467 & zp8xfonng8                     & population\\_in\\_thousands.US &    NA                         \\\\\n",
       "\t2755468 & fa6260ziny                     & population\\_in\\_thousands.US &    NA                         \\\\\n",
       "\t2755469 & 87k0fy4ugm                     & population\\_in\\_thousands.US &    NA                         \\\\\n",
       "\t2755470 & 9uqfg8txu3                     & population\\_in\\_thousands.US & 10659                         \\\\\n",
       "\\end{tabular}\n"
      ],
      "text/markdown": [
       "\n",
       "| <!--/--> | id | feature | value | \n",
       "|---|---|---|---|---|---|\n",
       "| 2755465 | 8yvhec201j                 | population_in_thousands.US |    NA                      | \n",
       "| 2755466 | cv0na2lf5a                 | population_in_thousands.US |    NA                      | \n",
       "| 2755467 | zp8xfonng8                 | population_in_thousands.US |    NA                      | \n",
       "| 2755468 | fa6260ziny                 | population_in_thousands.US |    NA                      | \n",
       "| 2755469 | 87k0fy4ugm                 | population_in_thousands.US |    NA                      | \n",
       "| 2755470 | 9uqfg8txu3                 | population_in_thousands.US | 10659                      | \n",
       "\n",
       "\n"
      ],
      "text/plain": [
       "        id         feature                    value\n",
       "2755465 8yvhec201j population_in_thousands.US    NA\n",
       "2755466 cv0na2lf5a population_in_thousands.US    NA\n",
       "2755467 zp8xfonng8 population_in_thousands.US    NA\n",
       "2755468 fa6260ziny population_in_thousands.US    NA\n",
       "2755469 87k0fy4ugm population_in_thousands.US    NA\n",
       "2755470 9uqfg8txu3 population_in_thousands.US 10659"
      ]
     },
     "metadata": {},
     "output_type": "display_data"
    }
   ],
   "source": [
    "summary(df_all_age_gender_bkts_feats)\n",
    "head(df_all_age_gender_bkts_feats)\n",
    "tail(df_all_age_gender_bkts_feats)"
   ]
  },
  {
   "cell_type": "code",
   "execution_count": null,
   "metadata": {},
   "outputs": [],
   "source": []
  },
  {
   "cell_type": "markdown",
   "metadata": {},
   "source": [
    "## Examine dates associated with users"
   ]
  },
  {
   "cell_type": "code",
   "execution_count": 50,
   "metadata": {},
   "outputs": [
    {
     "name": "stdout",
     "output_type": "stream",
     "text": [
      " Date[1:275547], format: NA NA \"2010-08-02\" \"2012-09-08\" \"2010-02-18\" \"2010-01-02\" ...\n",
      " Date[1:275547], format: \"2010-06-28\" \"2011-05-25\" \"2010-09-28\" \"2011-12-05\" \"2010-09-14\" ...\n",
      " num [1:275547] 2.01e+13 2.01e+13 2.01e+13 2.01e+13 2.01e+13 ...\n"
     ]
    }
   ],
   "source": [
    "#format of dates\n",
    "str(df_all$date_first_booking)\n",
    "str(df_all$date_account_created)\n",
    "str(df_all$timestamp_first_active)\n"
   ]
  },
  {
   "cell_type": "code",
   "execution_count": 48,
   "metadata": {},
   "outputs": [],
   "source": [
    "# Disect information about account dates\n",
    "# calculate differences between creation, first active, and booking\n",
    "df_all <- df_all %>%\n",
    "  separate(date_account_created, into = c(\"dac_year\", \"dac_month\", \"dac_day\"), sep = \"-\", remove=FALSE) %>%\n",
    "  dplyr::mutate(\n",
    "    dac_yearmonth = paste0(dac_year, dac_month),\n",
    "    dac_yearmonthday = as.numeric(paste0(dac_year, dac_month, dac_day)),\n",
    "    dac_week = as.numeric(format(date_account_created+3, \"%U\")),\n",
    "    dac_yearmonthweek = as.numeric(paste0(dac_year, dac_month, formatC(dac_week, width=2, flag=\"0\"))),\n",
    "    tfa_year = str_sub(timestamp_first_active, 1, 4),\n",
    "    tfa_month = str_sub(timestamp_first_active, 5, 6),\n",
    "    tfa_day = str_sub(timestamp_first_active, 7, 8),\n",
    "    tfa_yearmonth = str_sub(timestamp_first_active, 1, 6),\n",
    "    tfa_yearmonthday = as.numeric(str_sub(timestamp_first_active, 1, 8)),\n",
    "    tfa_date = as.Date(paste(tfa_year, tfa_month, tfa_day, sep=\"-\")),\n",
    "    tfa_week = as.numeric(format(tfa_date+3, \"%U\")),\n",
    "    tfa_yearmonthweek = as.numeric(paste0(tfa_year, tfa_month, formatC(tfa_week, width=2, flag=\"0\"))),\n",
    "    dac_lag = as.numeric(date_account_created - tfa_date),\n",
    "    dfb_dac_lag = as.numeric(date_first_booking - date_account_created),\n",
    "    dfb_dac_lag_cut = as.character(cut2(dfb_dac_lag, c(0, 1))),\n",
    "    dfb_dac_lag_flg = as.numeric(as.factor(ifelse(is.na(dfb_dac_lag_cut)==T, \"NA\", dfb_dac_lag_cut))) - 1,\n",
    "    dfb_tfa_lag = as.numeric(date_first_booking - tfa_date),\n",
    "    dfb_tfa_lag_cut = as.character(cut2(dfb_tfa_lag, c(0, 1))),\n",
    "    dfb_tfa_lag_flg = as.numeric(as.factor(ifelse(is.na(dfb_tfa_lag_cut)==T, \"NA\", dfb_tfa_lag_cut))) - 1\n",
    "  )"
   ]
  },
  {
   "cell_type": "code",
   "execution_count": 83,
   "metadata": {},
   "outputs": [
    {
     "name": "stdout",
     "output_type": "stream",
     "text": [
      "   Min. 1st Qu.  Median    Mean 3rd Qu.    Max.    NA's \n",
      "-349.00    1.00    3.00   44.36   29.00  365.00  186639 \n"
     ]
    },
    {
     "data": {},
     "metadata": {},
     "output_type": "display_data"
    },
    {
     "data": {
      "image/png": "[encoded data removed]",
      "text/plain": [
       "plot without title"
      ]
     },
     "metadata": {},
     "output_type": "display_data"
    }
   ],
   "source": [
    "print(summary(df_all$dfb_dac_lag))\n",
    "ggplot(df_all,aes(x = dfb_dac_lag)) + \n",
    "geom_histogram(bins=20,\n",
    "              col=\"red\",\n",
    "              fill=\"purple\",\n",
    "              alpha = .5) + \n",
    "scale_y_log10() +\n",
    "labs(title=\"Days Between Account Creation and First Booking (log scale)\",\n",
    "     y=\"Count (*log scale)\",\n",
    "     x=\"Difference in Days\") +\n",
    "xlim(c(-400,400))\n",
    "\n"
   ]
  },
  {
   "cell_type": "markdown",
   "metadata": {},
   "source": [
    "## Examine information in \"Countries\" data\n",
    "##### summary statistics of destination countries in this dataset and their locations"
   ]
  },
  {
   "cell_type": "code",
   "execution_count": 85,
   "metadata": {},
   "outputs": [
    {
     "name": "stdout",
     "output_type": "stream",
     "text": [
      "'data.frame':\t10 obs. of  7 variables:\n",
      " $ country_destination          : chr  \"AU\" \"CA\" \"DE\" \"ES\" ...\n",
      " $ lat_destination              : num  -26.9 62.4 51.2 39.9 46.2 ...\n",
      " $ lng_destination              : num  133.28 -96.82 10.45 -2.49 2.21 ...\n",
      " $ distance_km                  : num  15298 2828 7880 7731 7683 ...\n",
      " $ destination_km2              : num  7741220 9984670 357022 505370 643801 ...\n",
      " $ destination_language         : chr  \"eng\" \"eng\" \"deu\" \"spa\" ...\n",
      " $ language_levenshtein_distance: num  0 0 72.6 92.2 92.1 ...\n"
     ]
    }
   ],
   "source": [
    "str(countries)"
   ]
  },
  {
   "cell_type": "code",
   "execution_count": 86,
   "metadata": {},
   "outputs": [],
   "source": [
    "countries <- dplyr::mutate(countries,\n",
    "                           language = str_sub(destination_language, 1, 2))\n",
    "df_all <- df_all %>%\n",
    "  dplyr::mutate(country_destination = country_destination) %>%\n",
    "  dplyr::left_join(., countries[c(\"language\", \"country_destination\", \"distance_km\", \"destination_km2\", \"language_levenshtein_distance\")],\n",
    "                   by = c(\"language\", \"country_destination\"))\n",
    "countries$language <- NULL"
   ]
  },
  {
   "cell_type": "code",
   "execution_count": 94,
   "metadata": {
    "scrolled": true
   },
   "outputs": [
    {
     "data": {
      "text/html": [
       "<ol class=list-inline>\n",
       "\t<li>275547</li>\n",
       "\t<li>45</li>\n",
       "</ol>\n"
      ],
      "text/latex": [
       "\\begin{enumerate*}\n",
       "\\item 275547\n",
       "\\item 45\n",
       "\\end{enumerate*}\n"
      ],
      "text/markdown": [
       "1. 275547\n",
       "2. 45\n",
       "\n",
       "\n"
      ],
      "text/plain": [
       "[1] 275547     45"
      ]
     },
     "metadata": {},
     "output_type": "display_data"
    },
    {
     "name": "stdout",
     "output_type": "stream",
     "text": [
      "Classes 'tbl_df', 'tbl' and 'data.frame':\t275547 obs. of  45 variables:\n",
      " $ id                           : chr  \"gxn3p5htnn\" \"820tgsjxq7\" \"4ft3gnwmtx\" \"bjjt8pjhuk\" ...\n",
      " $ date_account_created         : Date, format: \"2010-06-28\" \"2011-05-25\" ...\n",
      " $ dac_year                     : chr  \"2010\" \"2011\" \"2010\" \"2011\" ...\n",
      " $ dac_month                    : chr  \"06\" \"05\" \"09\" \"12\" ...\n",
      " $ dac_day                      : chr  \"28\" \"25\" \"28\" \"05\" ...\n",
      " $ timestamp_first_active       : num  2.01e+13 2.01e+13 2.01e+13 2.01e+13 2.01e+13 ...\n",
      " $ date_first_booking           : Date, format: NA NA ...\n",
      " $ gender                       : chr  \"-unknown-\" \"MALE\" \"FEMALE\" \"FEMALE\" ...\n",
      " $ age                          : num  NA 38 56 42 41 NA 46 47 50 46 ...\n",
      " $ signup_method                : chr  \"facebook\" \"facebook\" \"basic\" \"facebook\" ...\n",
      " $ signup_flow                  : num  0 0 3 0 0 0 0 0 0 0 ...\n",
      " $ language                     : chr  \"en\" \"en\" \"en\" \"en\" ...\n",
      " $ affiliate_channel            : chr  \"direct\" \"seo\" \"direct\" \"direct\" ...\n",
      " $ affiliate_provider           : chr  \"direct\" \"google\" \"direct\" \"direct\" ...\n",
      " $ first_affiliate_tracked      : chr  \"untracked\" \"untracked\" \"untracked\" \"untracked\" ...\n",
      " $ signup_app                   : chr  \"Web\" \"Web\" \"Web\" \"Web\" ...\n",
      " $ first_device_type            : chr  \"Mac Desktop\" \"Mac Desktop\" \"Windows Desktop\" \"Mac Desktop\" ...\n",
      " $ first_browser                : chr  \"Chrome\" \"Chrome\" \"IE\" \"Firefox\" ...\n",
      " $ country_destination          : chr  \"NDF\" \"NDF\" \"US\" \"other\" ...\n",
      " $ dataset                      : chr  \"train\" \"train\" \"train\" \"train\" ...\n",
      " $ age_cln                      : num  NA 38 56 42 41 NA 46 47 50 46 ...\n",
      " $ age_cln2                     : num  NA 38 56 42 41 NA 46 47 50 46 ...\n",
      " $ age_bucket                   : Factor w/ 21 levels \"0-4\",\"5-9\",\"10-14\",..: NA 8 12 9 9 NA 10 10 11 10 ...\n",
      " $ dac_yearmonth                : chr  \"201006\" \"201105\" \"201009\" \"201112\" ...\n",
      " $ dac_yearmonthday             : num  20100628 20110525 20100928 20111205 20100914 ...\n",
      " $ dac_week                     : num  26 21 39 49 37 1 1 1 1 1 ...\n",
      " $ dac_yearmonthweek            : num  20100626 20110521 20100939 20111249 20100937 ...\n",
      " $ tfa_year                     : chr  \"2009\" \"2009\" \"2009\" \"2009\" ...\n",
      " $ tfa_month                    : chr  \"03\" \"05\" \"06\" \"10\" ...\n",
      " $ tfa_day                      : chr  \"19\" \"23\" \"09\" \"31\" ...\n",
      " $ tfa_yearmonth                : chr  \"200903\" \"200905\" \"200906\" \"200910\" ...\n",
      " $ tfa_yearmonthday             : num  20090319 20090523 20090609 20091031 20091208 ...\n",
      " $ tfa_date                     : Date, format: \"2009-03-19\" \"2009-05-23\" ...\n",
      " $ tfa_week                     : num  12 21 23 44 49 1 1 1 1 1 ...\n",
      " $ tfa_yearmonthweek            : num  20090312 20090521 20090623 20091044 20091249 ...\n",
      " $ dac_lag                      : num  466 732 476 765 280 0 0 0 0 0 ...\n",
      " $ dfb_dac_lag                  : num  NA NA -57 278 -208 1 3 10 206 0 ...\n",
      " $ dfb_dac_lag_cut              : chr  NA NA \"[-349,   0)\" \"[   1, 365]\" ...\n",
      " $ dfb_dac_lag_flg              : num  3 3 1 2 1 2 2 2 2 0 ...\n",
      " $ dfb_tfa_lag                  : num  NA NA 419 1043 72 ...\n",
      " $ dfb_tfa_lag_cut              : chr  NA NA \"[   1,1369]\" \"[   1,1369]\" ...\n",
      " $ dfb_tfa_lag_flg              : num  2 2 1 1 1 1 1 1 1 0 ...\n",
      " $ distance_km                  : num  NA NA 0 NA 0 0 0 0 0 0 ...\n",
      " $ destination_km2              : num  NA NA 9826675 NA 9826675 ...\n",
      " $ language_levenshtein_distance: num  NA NA 0 NA 0 0 0 0 0 0 ...\n"
     ]
    }
   ],
   "source": [
    "dim(df_all)\n",
    "\n",
    "str(df_all)"
   ]
  },
  {
   "cell_type": "markdown",
   "metadata": {},
   "source": [
    "## We have now increased the features from 17 to 45"
   ]
  },
  {
   "cell_type": "code",
   "execution_count": 148,
   "metadata": {},
   "outputs": [],
   "source": [
    "countries <- dplyr::mutate(countries,\n",
    "                           country_language = paste0(country_destination, \"_\", destination_language))"
   ]
  },
  {
   "cell_type": "code",
   "execution_count": 149,
   "metadata": {},
   "outputs": [],
   "source": [
    "countries_reshape <- data.frame()\n",
    "for(i in unique(countries$country_language)){\n",
    "  # i <- \"AU_eng\"\n",
    "  countries_ <- subset(countries, country_language == i)\n",
    "  countries_$country_language <- NULL\n",
    "  countries_ <- reshape(countries_,\n",
    "                        direction='wide',\n",
    "                        idvar='destination_language',\n",
    "                        timevar='country_destination')\n",
    "  countries_reshape <- bind_rows(\n",
    "    countries_reshape,\n",
    "    countries_\n",
    "  )\n",
    "}"
   ]
  },
  {
   "cell_type": "code",
   "execution_count": 154,
   "metadata": {},
   "outputs": [],
   "source": [
    "Sum <- function(x) sum(x, na.rm=TRUE)"
   ]
  },
  {
   "cell_type": "code",
   "execution_count": 159,
   "metadata": {},
   "outputs": [],
   "source": [
    "countries_reshape <- countries_reshape %>%\n",
    "  dplyr::group_by(destination_language) %>%\n",
    "  dplyr::summarise_all(funs(Sum))\n"
   ]
  },
  {
   "cell_type": "code",
   "execution_count": 160,
   "metadata": {},
   "outputs": [],
   "source": [
    "countries_reshape <- dplyr::mutate(countries_reshape,\n",
    "                                   destination_language = str_sub(destination_language, 1, 2))"
   ]
  },
  {
   "cell_type": "code",
   "execution_count": 161,
   "metadata": {},
   "outputs": [],
   "source": [
    "df_all_countries_feats <- dplyr::left_join(df_all[c(\"id\", \"language\")],\n",
    "                                           countries_reshape,\n",
    "                                           by = c(\"language\" = \"destination_language\"))"
   ]
  },
  {
   "cell_type": "code",
   "execution_count": 162,
   "metadata": {},
   "outputs": [
    {
     "name": "stdout",
     "output_type": "stream",
     "text": [
      "[1] \"countries feature\"\n",
      "[1] 50\n"
     ]
    }
   ],
   "source": [
    "df_all_countries_feats$language <- NULL\n",
    "df_all_countries_feats <- melt.data.table(as.data.table(df_all_countries_feats))\n",
    "df_all_countries_feats <- data.frame(df_all_countries_feats)\n",
    "names(df_all_countries_feats) <- c(\"id\", \"feature\", \"value\")\n",
    "print(\"countries feature\")\n",
    "print(n_distinct(df_all_countries_feats$feature))"
   ]
  },
  {
   "cell_type": "code",
   "execution_count": 165,
   "metadata": {},
   "outputs": [
    {
     "data": {
      "text/plain": [
       "      id                                        feature        \n",
       " Length:13777350    lat_destination.AU              :  275547  \n",
       " Class :character   lng_destination.AU              :  275547  \n",
       " Mode  :character   distance_km.AU                  :  275547  \n",
       "                    destination_km2.AU              :  275547  \n",
       "                    language_levenshtein_distance.AU:  275547  \n",
       "                    lat_destination.CA              :  275547  \n",
       "                    (Other)                         :12124068  \n",
       "     value        \n",
       " Min.   :    -97  \n",
       " 1st Qu.:      0  \n",
       " Median :      0  \n",
       " Mean   : 549808  \n",
       " 3rd Qu.:      0  \n",
       " Max.   :9984670  \n",
       " NA's   :337850   "
      ]
     },
     "metadata": {},
     "output_type": "display_data"
    },
    {
     "data": {
      "text/html": [
       "<table>\n",
       "<thead><tr><th scope=col>id</th><th scope=col>feature</th><th scope=col>value</th></tr></thead>\n",
       "<tbody>\n",
       "\t<tr><td>gxn3p5htnn        </td><td>lat_destination.AU</td><td>-26.85339         </td></tr>\n",
       "\t<tr><td>820tgsjxq7        </td><td>lat_destination.AU</td><td>-26.85339         </td></tr>\n",
       "\t<tr><td>4ft3gnwmtx        </td><td>lat_destination.AU</td><td>-26.85339         </td></tr>\n",
       "\t<tr><td>bjjt8pjhuk        </td><td>lat_destination.AU</td><td>-26.85339         </td></tr>\n",
       "\t<tr><td>87mebub9p4        </td><td>lat_destination.AU</td><td>-26.85339         </td></tr>\n",
       "\t<tr><td>osr2jwljor        </td><td>lat_destination.AU</td><td>-26.85339         </td></tr>\n",
       "</tbody>\n",
       "</table>\n"
      ],
      "text/latex": [
       "\\begin{tabular}{r|lll}\n",
       " id & feature & value\\\\\n",
       "\\hline\n",
       "\t gxn3p5htnn           & lat\\_destination.AU & -26.85339           \\\\\n",
       "\t 820tgsjxq7           & lat\\_destination.AU & -26.85339           \\\\\n",
       "\t 4ft3gnwmtx           & lat\\_destination.AU & -26.85339           \\\\\n",
       "\t bjjt8pjhuk           & lat\\_destination.AU & -26.85339           \\\\\n",
       "\t 87mebub9p4           & lat\\_destination.AU & -26.85339           \\\\\n",
       "\t osr2jwljor           & lat\\_destination.AU & -26.85339           \\\\\n",
       "\\end{tabular}\n"
      ],
      "text/markdown": [
       "\n",
       "id | feature | value | \n",
       "|---|---|---|---|---|---|\n",
       "| gxn3p5htnn         | lat_destination.AU | -26.85339          | \n",
       "| 820tgsjxq7         | lat_destination.AU | -26.85339          | \n",
       "| 4ft3gnwmtx         | lat_destination.AU | -26.85339          | \n",
       "| bjjt8pjhuk         | lat_destination.AU | -26.85339          | \n",
       "| 87mebub9p4         | lat_destination.AU | -26.85339          | \n",
       "| osr2jwljor         | lat_destination.AU | -26.85339          | \n",
       "\n",
       "\n"
      ],
      "text/plain": [
       "  id         feature            value    \n",
       "1 gxn3p5htnn lat_destination.AU -26.85339\n",
       "2 820tgsjxq7 lat_destination.AU -26.85339\n",
       "3 4ft3gnwmtx lat_destination.AU -26.85339\n",
       "4 bjjt8pjhuk lat_destination.AU -26.85339\n",
       "5 87mebub9p4 lat_destination.AU -26.85339\n",
       "6 osr2jwljor lat_destination.AU -26.85339"
      ]
     },
     "metadata": {},
     "output_type": "display_data"
    },
    {
     "data": {
      "text/html": [
       "<table>\n",
       "<thead><tr><th></th><th scope=col>id</th><th scope=col>feature</th><th scope=col>value</th></tr></thead>\n",
       "<tbody>\n",
       "\t<tr><th scope=row>13777345</th><td>8yvhec201j                      </td><td>language_levenshtein_distance.US</td><td> 0                              </td></tr>\n",
       "\t<tr><th scope=row>13777346</th><td>cv0na2lf5a                      </td><td>language_levenshtein_distance.US</td><td> 0                              </td></tr>\n",
       "\t<tr><th scope=row>13777347</th><td>zp8xfonng8                      </td><td>language_levenshtein_distance.US</td><td>NA                              </td></tr>\n",
       "\t<tr><th scope=row>13777348</th><td>fa6260ziny                      </td><td>language_levenshtein_distance.US</td><td> 0                              </td></tr>\n",
       "\t<tr><th scope=row>13777349</th><td>87k0fy4ugm                      </td><td>language_levenshtein_distance.US</td><td> 0                              </td></tr>\n",
       "\t<tr><th scope=row>13777350</th><td>9uqfg8txu3                      </td><td>language_levenshtein_distance.US</td><td> 0                              </td></tr>\n",
       "</tbody>\n",
       "</table>\n"
      ],
      "text/latex": [
       "\\begin{tabular}{r|lll}\n",
       "  & id & feature & value\\\\\n",
       "\\hline\n",
       "\t13777345 & 8yvhec201j                           & language\\_levenshtein\\_distance.US &  0                                  \\\\\n",
       "\t13777346 & cv0na2lf5a                           & language\\_levenshtein\\_distance.US &  0                                  \\\\\n",
       "\t13777347 & zp8xfonng8                           & language\\_levenshtein\\_distance.US & NA                                  \\\\\n",
       "\t13777348 & fa6260ziny                           & language\\_levenshtein\\_distance.US &  0                                  \\\\\n",
       "\t13777349 & 87k0fy4ugm                           & language\\_levenshtein\\_distance.US &  0                                  \\\\\n",
       "\t13777350 & 9uqfg8txu3                           & language\\_levenshtein\\_distance.US &  0                                  \\\\\n",
       "\\end{tabular}\n"
      ],
      "text/markdown": [
       "\n",
       "| <!--/--> | id | feature | value | \n",
       "|---|---|---|---|---|---|\n",
       "| 13777345 | 8yvhec201j                       | language_levenshtein_distance.US |  0                               | \n",
       "| 13777346 | cv0na2lf5a                       | language_levenshtein_distance.US |  0                               | \n",
       "| 13777347 | zp8xfonng8                       | language_levenshtein_distance.US | NA                               | \n",
       "| 13777348 | fa6260ziny                       | language_levenshtein_distance.US |  0                               | \n",
       "| 13777349 | 87k0fy4ugm                       | language_levenshtein_distance.US |  0                               | \n",
       "| 13777350 | 9uqfg8txu3                       | language_levenshtein_distance.US |  0                               | \n",
       "\n",
       "\n"
      ],
      "text/plain": [
       "         id         feature                          value\n",
       "13777345 8yvhec201j language_levenshtein_distance.US  0   \n",
       "13777346 cv0na2lf5a language_levenshtein_distance.US  0   \n",
       "13777347 zp8xfonng8 language_levenshtein_distance.US NA   \n",
       "13777348 fa6260ziny language_levenshtein_distance.US  0   \n",
       "13777349 87k0fy4ugm language_levenshtein_distance.US  0   \n",
       "13777350 9uqfg8txu3 language_levenshtein_distance.US  0   "
      ]
     },
     "metadata": {},
     "output_type": "display_data"
    }
   ],
   "source": [
    "summary(df_all_countries_feats)\n",
    "head(df_all_countries_feats)\n",
    "tail(df_all_countries_feats)"
   ]
  },
  {
   "cell_type": "markdown",
   "metadata": {},
   "source": [
    "# Now Disect Sessions information"
   ]
  },
  {
   "cell_type": "code",
   "execution_count": 107,
   "metadata": {},
   "outputs": [
    {
     "name": "stdout",
     "output_type": "stream",
     "text": [
      "'data.frame':\t10567737 obs. of  6 variables:\n",
      " $ user_id      : chr  \"d1mm9tcy42\" \"d1mm9tcy42\" \"d1mm9tcy42\" \"d1mm9tcy42\" ...\n",
      " $ action       : chr  \"lookup\" \"search_results\" \"lookup\" \"search_results\" ...\n",
      " $ action_type  : chr  \"\" \"click\" \"\" \"click\" ...\n",
      " $ action_detail: chr  \"\" \"view_search_results\" \"\" \"view_search_results\" ...\n",
      " $ device_type  : chr  \"Windows Desktop\" \"Windows Desktop\" \"Windows Desktop\" \"Windows Desktop\" ...\n",
      " $ secs_elapsed : num  319 67753 301 22141 435 ...\n"
     ]
    }
   ],
   "source": [
    "str(sessions)"
   ]
  },
  {
   "cell_type": "code",
   "execution_count": 108,
   "metadata": {},
   "outputs": [
    {
     "data": {},
     "metadata": {},
     "output_type": "display_data"
    },
    {
     "data": {},
     "metadata": {},
     "output_type": "display_data"
    },
    {
     "data": {},
     "metadata": {},
     "output_type": "display_data"
    }
   ],
   "source": [
    "sessions$flg <- 1\n",
    "sessions <- data.table(sessions)\n",
    "sessions[, seq := sequence(.N), by = c(\"user_id\")]\n",
    "sessions[, seq_rev := rev(sequence(.N)), by = c(\"user_id\")]\n",
    "sessions[, action2 := paste(action, action_type, action_detail, device_type, sep=\"_\"),]\n"
   ]
  },
  {
   "cell_type": "code",
   "execution_count": 109,
   "metadata": {},
   "outputs": [
    {
     "name": "stdout",
     "output_type": "stream",
     "text": [
      "Classes 'data.table' and 'data.frame':\t10567737 obs. of  10 variables:\n",
      " $ user_id      : chr  \"d1mm9tcy42\" \"d1mm9tcy42\" \"d1mm9tcy42\" \"d1mm9tcy42\" ...\n",
      " $ action       : chr  \"lookup\" \"search_results\" \"lookup\" \"search_results\" ...\n",
      " $ action_type  : chr  \"\" \"click\" \"\" \"click\" ...\n",
      " $ action_detail: chr  \"\" \"view_search_results\" \"\" \"view_search_results\" ...\n",
      " $ device_type  : chr  \"Windows Desktop\" \"Windows Desktop\" \"Windows Desktop\" \"Windows Desktop\" ...\n",
      " $ secs_elapsed : num  319 67753 301 22141 435 ...\n",
      " $ flg          : num  1 1 1 1 1 1 1 1 1 1 ...\n",
      " $ seq          : int  1 2 3 4 5 6 7 8 9 10 ...\n",
      " $ seq_rev      : int  127 126 125 124 123 122 121 120 119 118 ...\n",
      " $ action2      : chr  \"lookup___Windows Desktop\" \"search_results_click_view_search_results_Windows Desktop\" \"lookup___Windows Desktop\" \"search_results_click_view_search_results_Windows Desktop\" ...\n",
      " - attr(*, \".internal.selfref\")=<externalptr> \n"
     ]
    }
   ],
   "source": [
    "str(sessions)"
   ]
  },
  {
   "cell_type": "markdown",
   "metadata": {},
   "source": [
    "#### Engineering sessions logs for user ID's\n",
    "- Use melt.data.table function to melt multiple session information columns \n",
    "- Use saveRDS to save the reshaped objects\n",
    "- Credit: Found fixes and tips on stackoverflow and github\n",
    "### Looks like a lot of code, but using copy & paste along with find & replace makes it go fast"
   ]
  },
  {
   "cell_type": "code",
   "execution_count": 111,
   "metadata": {},
   "outputs": [
    {
     "data": {
      "text/html": [
       "'C:/Users/Jeane/MSDS/Proj2'"
      ],
      "text/latex": [
       "'C:/Users/Jeane/MSDS/Proj2'"
      ],
      "text/markdown": [
       "'C:/Users/Jeane/MSDS/Proj2'"
      ],
      "text/plain": [
       "[1] \"C:/Users/Jeane/MSDS/Proj2\""
      ]
     },
     "metadata": {},
     "output_type": "display_data"
    }
   ],
   "source": [
    "getwd()"
   ]
  },
  {
   "cell_type": "code",
   "execution_count": null,
   "metadata": {
    "scrolled": true
   },
   "outputs": [],
   "source": [
    "#create a cache directory to save melted R datafiles\n",
    "dir.create(\"cache\")\n"
   ]
  },
  {
   "cell_type": "code",
   "execution_count": 114,
   "metadata": {},
   "outputs": [],
   "source": [
    "#Use find and replace on copies of the same block of code\n",
    "#all the different categories to sum and find mind mean\n",
    "first_execution <- 1\n",
    "\n",
    "if(first_execution == 1){\n",
    "  sessions_action_se_sum <- sessions[,list(secs_elapsed_sum = sum(secs_elapsed, na.rm=T)),\n",
    "                                     by=list(user_id, action)]\n",
    "  sessions_action_se_sum <- melt.data.table(sessions_action_se_sum)\n",
    "  sessions_action_se_sum$variable <- NULL\n",
    "  sessions_action_se_sum <- data.frame(sessions_action_se_sum)\n",
    "  names(sessions_action_se_sum) <- c(\"id\", \"feature\", \"value\")\n",
    "  sessions_action_se_sum$feature <- paste(\"action_se_sum\", sessions_action_se_sum$feature, sep=\"_\")\n",
    "  n_distinct(sessions_action_se_sum$feature)\n",
    "  saveRDS(sessions_action_se_sum, \"cache/sessions_action_se_sum.RData\")\n",
    "  \n",
    "  \n",
    "  sessions_action_type_se_sum <- sessions[,list(secs_elapsed_sum = sum(secs_elapsed, na.rm=T)),\n",
    "                                          by=list(user_id, action_type)]\n",
    "  sessions_action_type_se_sum <- melt.data.table(sessions_action_type_se_sum)\n",
    "  sessions_action_type_se_sum$variable <- NULL\n",
    "  sessions_action_type_se_sum <- data.frame(sessions_action_type_se_sum)\n",
    "  names(sessions_action_type_se_sum) <- c(\"id\", \"feature\", \"value\")\n",
    "  sessions_action_type_se_sum$feature <- paste(\"action_type_se_sum\", sessions_action_type_se_sum$feature, sep=\"_\")\n",
    "  n_distinct(sessions_action_type_se_sum$feature)\n",
    "  saveRDS(sessions_action_type_se_sum, \"cache/sessions_action_type_se_sum.RData\")\n",
    "  \n",
    "  \n",
    "  sessions_action_detail_se_sum <- sessions[,list(secs_elapsed_sum = sum(secs_elapsed, na.rm=T)),\n",
    "                                            by=list(user_id, action_detail)]\n",
    "  sessions_action_detail_se_sum <- melt.data.table(sessions_action_detail_se_sum)\n",
    "  sessions_action_detail_se_sum$variable <- NULL\n",
    "  sessions_action_detail_se_sum <- data.frame(sessions_action_detail_se_sum)\n",
    "  names(sessions_action_detail_se_sum) <- c(\"id\", \"feature\", \"value\")\n",
    "  sessions_action_detail_se_sum$feature <- paste(\"action_detail_se_sum\", sessions_action_detail_se_sum$feature, sep=\"_\")\n",
    "  n_distinct(sessions_action_detail_se_sum$feature)\n",
    "  saveRDS(sessions_action_detail_se_sum, \"cache/sessions_action_detail_se_sum.RData\")\n",
    "  \n",
    "  \n",
    "  sessions_device_type_se_sum <- sessions[,list(secs_elapsed_sum = sum(secs_elapsed, na.rm=T)),\n",
    "                                          by=list(user_id, device_type)]\n",
    "  sessions_device_type_se_sum <- melt.data.table(sessions_device_type_se_sum)\n",
    "  sessions_device_type_se_sum$variable <- NULL\n",
    "  sessions_device_type_se_sum <- data.frame(sessions_device_type_se_sum)\n",
    "  names(sessions_device_type_se_sum) <- c(\"id\", \"feature\", \"value\")\n",
    "  sessions_device_type_se_sum$feature <- paste(\"device_type_se_sum\", sessions_device_type_se_sum$feature, sep=\"_\")\n",
    "  n_distinct(sessions_device_type_se_sum$feature)\n",
    "  saveRDS(sessions_device_type_se_sum, \"cache/sessions_device_type_se_sum.RData\")\n",
    "  \n",
    "  \n",
    "  sessions_action_flg_sum <- sessions[,list(flg_sum = sum(flg, na.rm=T)),\n",
    "                                      by=list(user_id, action)]\n",
    "  sessions_action_flg_sum <- melt.data.table(sessions_action_flg_sum)\n",
    "  sessions_action_flg_sum$variable <- NULL\n",
    "  sessions_action_flg_sum <- data.frame(sessions_action_flg_sum)\n",
    "  names(sessions_action_flg_sum) <- c(\"id\", \"feature\", \"value\")\n",
    "  sessions_action_flg_sum$feature <- paste(\"action_flg_sum\", sessions_action_flg_sum$feature, sep=\"_\")\n",
    "  n_distinct(sessions_action_flg_sum$feature)\n",
    "  saveRDS(sessions_action_flg_sum, \"cache/sessions_action_flg_sum.RData\")\n",
    "  \n",
    "  \n",
    "  sessions_action_type_flg_sum <- sessions[,list(flg_sum = sum(flg, na.rm=T)),\n",
    "                                           by=list(user_id, action_type)]\n",
    "  sessions_action_type_flg_sum <- melt.data.table(sessions_action_type_flg_sum)\n",
    "  sessions_action_type_flg_sum$variable <- NULL\n",
    "  sessions_action_type_flg_sum <- data.frame(sessions_action_type_flg_sum)\n",
    "  names(sessions_action_type_flg_sum) <- c(\"id\", \"feature\", \"value\")\n",
    "  sessions_action_type_flg_sum$feature <- paste(\"action_type_flg_sum\", sessions_action_type_flg_sum$feature, sep=\"_\")\n",
    "  n_distinct(sessions_action_type_flg_sum$feature)\n",
    "  saveRDS(sessions_action_type_flg_sum, \"cache/sessions_action_type_flg_sum.RData\")\n",
    "  \n",
    "  \n",
    "  sessions_action_detail_flg_sum <- sessions[,list(flg_sum = sum(flg, na.rm=T)),\n",
    "                                             by=list(user_id, action_detail)]\n",
    "  sessions_action_detail_flg_sum <- melt.data.table(sessions_action_detail_flg_sum)\n",
    "  sessions_action_detail_flg_sum$variable <- NULL\n",
    "  sessions_action_detail_flg_sum <- data.frame(sessions_action_detail_flg_sum)\n",
    "  names(sessions_action_detail_flg_sum) <- c(\"id\", \"feature\", \"value\")\n",
    "  sessions_action_detail_flg_sum$feature <- paste(\"action_detail_flg_sum\", sessions_action_detail_flg_sum$feature, sep=\"_\")\n",
    "  n_distinct(sessions_action_detail_flg_sum$feature)\n",
    "  saveRDS(sessions_action_detail_flg_sum, \"cache/sessions_action_detail_flg_sum.RData\")\n",
    "  \n",
    "  \n",
    "  sessions_device_type_flg_sum <- sessions[,list(flg_sum = sum(flg, na.rm=T)),\n",
    "                                           by=list(user_id, device_type)]\n",
    "  sessions_device_type_flg_sum <- melt.data.table(sessions_device_type_flg_sum)\n",
    "  sessions_device_type_flg_sum$variable <- NULL\n",
    "  sessions_device_type_flg_sum <- data.frame(sessions_device_type_flg_sum)\n",
    "  names(sessions_device_type_flg_sum) <- c(\"id\", \"feature\", \"value\")\n",
    "  sessions_device_type_flg_sum$feature <- paste(\"device_type_flg_sum\", sessions_device_type_flg_sum$feature, sep=\"_\")\n",
    "  n_distinct(sessions_device_type_flg_sum$feature)\n",
    "  saveRDS(sessions_device_type_flg_sum, \"cache/sessions_device_type_flg_sum.RData\")\n",
    "  \n",
    "  \n",
    "  sessions_action_se_mean <- sessions[,list(secs_elapsed_mean = mean(secs_elapsed, na.rm=T)),\n",
    "                                      by=list(user_id, action)]\n",
    "  sessions_action_se_mean <- melt.data.table(sessions_action_se_mean)\n",
    "  sessions_action_se_mean$variable <- NULL\n",
    "  sessions_action_se_mean <- data.frame(sessions_action_se_mean)\n",
    "  names(sessions_action_se_mean) <- c(\"id\", \"feature\", \"value\")\n",
    "  sessions_action_se_mean$feature <- paste(\"action_se_mean\", sessions_action_se_mean$feature, sep=\"_\")\n",
    "  n_distinct(sessions_action_se_mean$feature)\n",
    "  saveRDS(sessions_action_se_mean, \"cache/sessions_action_se_mean.RData\")\n",
    "  \n",
    "  \n",
    "  sessions_action_type_se_mean <- sessions[,list(secs_elapsed_mean = mean(secs_elapsed, na.rm=T)),\n",
    "                                           by=list(user_id, action_type)]\n",
    "  sessions_action_type_se_mean <- melt.data.table(sessions_action_type_se_mean)\n",
    "  sessions_action_type_se_mean$variable <- NULL\n",
    "  sessions_action_type_se_mean <- data.frame(sessions_action_type_se_mean)\n",
    "  names(sessions_action_type_se_mean) <- c(\"id\", \"feature\", \"value\")\n",
    "  sessions_action_type_se_mean$feature <- paste(\"action_type_se_mean\", sessions_action_type_se_mean$feature, sep=\"_\")\n",
    "  n_distinct(sessions_action_type_se_mean$feature)\n",
    "  saveRDS(sessions_action_type_se_mean, \"cache/sessions_action_type_se_mean.RData\")\n",
    "  \n",
    "  \n",
    "  sessions_action_detail_se_mean <- sessions[,list(secs_elapsed_mean = mean(secs_elapsed, na.rm=T)),\n",
    "                                             by=list(user_id, action_detail)]\n",
    "  sessions_action_detail_se_mean <- melt.data.table(sessions_action_detail_se_mean)\n",
    "  sessions_action_detail_se_mean$variable <- NULL\n",
    "  sessions_action_detail_se_mean <- data.frame(sessions_action_detail_se_mean)\n",
    "  names(sessions_action_detail_se_mean) <- c(\"id\", \"feature\", \"value\")\n",
    "  sessions_action_detail_se_mean$feature <- paste(\"action_detail_se_mean\", sessions_action_detail_se_mean$feature, sep=\"_\")\n",
    "  n_distinct(sessions_action_detail_se_mean$feature)\n",
    "  saveRDS(sessions_action_detail_se_mean, \"cache/sessions_action_detail_se_mean.RData\")\n",
    "  \n",
    "  \n",
    "  sessions_device_type_se_mean <- sessions[,list(secs_elapsed_mean = mean(secs_elapsed, na.rm=T)),\n",
    "                                           by=list(user_id, device_type)]\n",
    "  sessions_device_type_se_mean <- melt.data.table(sessions_device_type_se_mean)\n",
    "  sessions_device_type_se_mean$variable <- NULL\n",
    "  sessions_device_type_se_mean <- data.frame(sessions_device_type_se_mean)\n",
    "  names(sessions_device_type_se_mean) <- c(\"id\", \"feature\", \"value\")\n",
    "  sessions_device_type_se_mean$feature <- paste(\"device_type_se_mean\", sessions_device_type_se_mean$feature, sep=\"_\")\n",
    "  n_distinct(sessions_device_type_se_mean$feature)\n",
    "  saveRDS(sessions_device_type_se_mean, \"cache/sessions_device_type_se_mean.RData\")\n",
    "  \n",
    "  \n",
    "  sessions_action_se_sd <- sessions[,list(secs_elapsed_sd = sd(secs_elapsed, na.rm=T)),\n",
    "                                    by=list(user_id, action)]\n",
    "  sessions_action_se_sd <- melt.data.table(sessions_action_se_sd)\n",
    "  sessions_action_se_sd$variable <- NULL\n",
    "  sessions_action_se_sd <- data.frame(sessions_action_se_sd)\n",
    "  names(sessions_action_se_sd) <- c(\"id\", \"feature\", \"value\")\n",
    "  sessions_action_se_sd$feature <- paste(\"action_se_sd\", sessions_action_se_sd$feature, sep=\"_\")\n",
    "  n_distinct(sessions_action_se_sd$feature)\n",
    "  saveRDS(sessions_action_se_sd, \"cache/sessions_action_se_sd.RData\")\n",
    "  \n",
    "  \n",
    "  sessions_action_type_se_sd <- sessions[,list(secs_elapsed_sd = sd(secs_elapsed, na.rm=T)),\n",
    "                                         by=list(user_id, action_type)]\n",
    "  sessions_action_type_se_sd <- melt.data.table(sessions_action_type_se_sd)\n",
    "  sessions_action_type_se_sd$variable <- NULL\n",
    "  sessions_action_type_se_sd <- data.frame(sessions_action_type_se_sd)\n",
    "  names(sessions_action_type_se_sd) <- c(\"id\", \"feature\", \"value\")\n",
    "  sessions_action_type_se_sd$feature <- paste(\"action_type_se_sd\", sessions_action_type_se_sd$feature, sep=\"_\")\n",
    "  n_distinct(sessions_action_type_se_sd$feature)\n",
    "  saveRDS(sessions_action_type_se_sd, \"cache/sessions_action_type_se_sd.RData\")\n",
    "  \n",
    "  \n",
    "  sessions_action_detail_se_sd <- sessions[,list(secs_elapsed_sd = sd(secs_elapsed, na.rm=T)),\n",
    "                                           by=list(user_id, action_detail)]\n",
    "  sessions_action_detail_se_sd <- melt.data.table(sessions_action_detail_se_sd)\n",
    "  sessions_action_detail_se_sd$variable <- NULL\n",
    "  sessions_action_detail_se_sd <- data.frame(sessions_action_detail_se_sd)\n",
    "  names(sessions_action_detail_se_sd) <- c(\"id\", \"feature\", \"value\")\n",
    "  sessions_action_detail_se_sd$feature <- paste(\"action_detail_se_sd\", sessions_action_detail_se_sd$feature, sep=\"_\")\n",
    "  n_distinct(sessions_action_detail_se_sd$feature)\n",
    "  saveRDS(sessions_action_detail_se_sd, \"cache/sessions_action_detail_se_sd.RData\")\n",
    "  \n",
    "  \n",
    "  sessions_device_type_se_sd <- sessions[,list(secs_elapsed_sd = sd(secs_elapsed, na.rm=T)),\n",
    "                                         by=list(user_id, device_type)]\n",
    "  sessions_device_type_se_sd <- melt.data.table(sessions_device_type_se_sd)\n",
    "  sessions_device_type_se_sd$variable <- NULL\n",
    "  sessions_device_type_se_sd <- data.frame(sessions_device_type_se_sd)\n",
    "  names(sessions_device_type_se_sd) <- c(\"id\", \"feature\", \"value\")\n",
    "  sessions_device_type_se_sd$feature <- paste(\"device_type_se_sd\", sessions_device_type_se_sd$feature, sep=\"_\")\n",
    "  n_distinct(sessions_device_type_se_sd$feature)\n",
    "  saveRDS(sessions_device_type_se_sd, \"cache/sessions_device_type_se_sd.RData\")\n",
    "  \n",
    "  \n",
    "  sessions_action_se_wrmean <- sessions[,list(secs_elapsed_wrmean = weighted.mean(secs_elapsed, w = 1/seq_rev)),\n",
    "                                        by=list(user_id, action)]\n",
    "  sessions_action_se_wrmean <- melt.data.table(sessions_action_se_wrmean)\n",
    "  sessions_action_se_wrmean$variable <- NULL\n",
    "  sessions_action_se_wrmean <- data.frame(sessions_action_se_wrmean)\n",
    "  names(sessions_action_se_wrmean) <- c(\"id\", \"feature\", \"value\")\n",
    "  sessions_action_se_wrmean$feature <- paste(\"action_se_wrmean\", sessions_action_se_wrmean$feature, sep=\"_\")\n",
    "  n_distinct(sessions_action_se_wrmean$feature)\n",
    "  saveRDS(sessions_action_se_wrmean, \"cache/sessions_action_se_wrmean.RData\")\n",
    "  \n",
    "  \n",
    "  sessions_action_type_se_wrmean <- sessions[,list(secs_elapsed_wrmean = weighted.mean(secs_elapsed, w = 1/seq_rev)),\n",
    "                                             by=list(user_id, action_type)]\n",
    "  sessions_action_type_se_wrmean <- melt.data.table(sessions_action_type_se_wrmean)\n",
    "  sessions_action_type_se_wrmean$variable <- NULL\n",
    "  sessions_action_type_se_wrmean <- data.frame(sessions_action_type_se_wrmean)\n",
    "  names(sessions_action_type_se_wrmean) <- c(\"id\", \"feature\", \"value\")\n",
    "  sessions_action_type_se_wrmean$feature <- paste(\"action_type_se_wrmean\", sessions_action_type_se_wrmean$feature, sep=\"_\")\n",
    "  n_distinct(sessions_action_type_se_wrmean$feature)\n",
    "  saveRDS(sessions_action_type_se_wrmean, \"cache/sessions_action_type_se_wrmean.RData\")\n",
    "  \n",
    "  \n",
    "  sessions_action_detail_se_wrmean <- sessions[,list(secs_elapsed_wrmean = weighted.mean(secs_elapsed, w = 1/seq_rev)),\n",
    "                                               by=list(user_id, action_detail)]\n",
    "  sessions_action_detail_se_wrmean <- melt.data.table(sessions_action_detail_se_wrmean)\n",
    "  sessions_action_detail_se_wrmean$variable <- NULL\n",
    "  sessions_action_detail_se_wrmean <- data.frame(sessions_action_detail_se_wrmean)\n",
    "  names(sessions_action_detail_se_wrmean) <- c(\"id\", \"feature\", \"value\")\n",
    "  sessions_action_detail_se_wrmean$feature <- paste(\"action_detail_se_wrmean\", sessions_action_detail_se_wrmean$feature, sep=\"_\")\n",
    "  n_distinct(sessions_action_detail_se_wrmean$feature)\n",
    "  saveRDS(sessions_action_detail_se_wrmean, \"cache/sessions_action_detail_se_wrmean.RData\")\n",
    "  \n",
    "  \n",
    "  sessions_device_type_se_wrmean <- sessions[,list(secs_elapsed_wrmean = weighted.mean(secs_elapsed, w = 1/seq_rev)),\n",
    "                                             by=list(user_id, device_type)]\n",
    "  sessions_device_type_se_wrmean <- melt.data.table(sessions_device_type_se_wrmean)\n",
    "  sessions_device_type_se_wrmean$variable <- NULL\n",
    "  sessions_device_type_se_wrmean <- data.frame(sessions_device_type_se_wrmean)\n",
    "  names(sessions_device_type_se_wrmean) <- c(\"id\", \"feature\", \"value\")\n",
    "  sessions_device_type_se_wrmean$feature <- paste(\"device_type_se_wrmean\", sessions_device_type_se_wrmean$feature, sep=\"_\")\n",
    "  n_distinct(sessions_device_type_se_wrmean$feature)\n",
    "  saveRDS(sessions_device_type_se_wrmean, \"cache/sessions_device_type_se_wrmean.RData\")\n",
    "  \n",
    "  \n",
    "  sessions_action_se_wmean <- sessions[,list(secs_elapsed_wmean = weighted.mean(secs_elapsed, w = 1/seq)),\n",
    "                                       by=list(user_id, action)]\n",
    "  sessions_action_se_wmean <- melt.data.table(sessions_action_se_wmean)\n",
    "  sessions_action_se_wmean$variable <- NULL\n",
    "  sessions_action_se_wmean <- data.frame(sessions_action_se_wmean)\n",
    "  names(sessions_action_se_wmean) <- c(\"id\", \"feature\", \"value\")\n",
    "  sessions_action_se_wmean$feature <- paste(\"action_se_wmean\", sessions_action_se_wmean$feature, sep=\"_\")\n",
    "  n_distinct(sessions_action_se_wmean$feature)\n",
    "  saveRDS(sessions_action_se_wmean, \"cache/sessions_action_se_wmean.RData\")\n",
    "  \n",
    "  \n",
    "  sessions_action_type_se_wmean <- sessions[,list(secs_elapsed_wmean = weighted.mean(secs_elapsed, w = 1/seq)),\n",
    "                                            by=list(user_id, action_type)]\n",
    "  sessions_action_type_se_wmean <- melt.data.table(sessions_action_type_se_wmean)\n",
    "  sessions_action_type_se_wmean$variable <- NULL\n",
    "  sessions_action_type_se_wmean <- data.frame(sessions_action_type_se_wmean)\n",
    "  names(sessions_action_type_se_wmean) <- c(\"id\", \"feature\", \"value\")\n",
    "  sessions_action_type_se_wmean$feature <- paste(\"action_type_se_wmean\", sessions_action_type_se_wmean$feature, sep=\"_\")\n",
    "  n_distinct(sessions_action_type_se_wmean$feature)\n",
    "  saveRDS(sessions_action_type_se_wmean, \"cache/sessions_action_type_se_wmean.RData\")\n",
    "  \n",
    "  \n",
    "  sessions_action_detail_se_wmean <- sessions[,list(secs_elapsed_wmean = weighted.mean(secs_elapsed, w = 1/seq)),\n",
    "                                              by=list(user_id, action_detail)]\n",
    "  sessions_action_detail_se_wmean <- melt.data.table(sessions_action_detail_se_wmean)\n",
    "  sessions_action_detail_se_wmean$variable <- NULL\n",
    "  sessions_action_detail_se_wmean <- data.frame(sessions_action_detail_se_wmean)\n",
    "  names(sessions_action_detail_se_wmean) <- c(\"id\", \"feature\", \"value\")\n",
    "  sessions_action_detail_se_wmean$feature <- paste(\"action_detail_se_wmean\", sessions_action_detail_se_wmean$feature, sep=\"_\")\n",
    "  n_distinct(sessions_action_detail_se_wmean$feature)\n",
    "  saveRDS(sessions_action_detail_se_wmean, \"cache/sessions_action_detail_se_wmean.RData\")\n",
    "  \n",
    "  \n",
    "  sessions_device_type_se_wmean <- sessions[,list(secs_elapsed_wmean = weighted.mean(secs_elapsed, w = 1/seq)),\n",
    "                                            by=list(user_id, device_type)]\n",
    "  sessions_device_type_se_wmean <- melt.data.table(sessions_device_type_se_wmean)\n",
    "  sessions_device_type_se_wmean$variable <- NULL\n",
    "  sessions_device_type_se_wmean <- data.frame(sessions_device_type_se_wmean)\n",
    "  names(sessions_device_type_se_wmean) <- c(\"id\", \"feature\", \"value\")\n",
    "  sessions_device_type_se_wmean$feature <- paste(\"device_type_se_wmean\", sessions_device_type_se_wmean$feature, sep=\"_\")\n",
    "  n_distinct(sessions_device_type_se_wmean$feature)\n",
    "  saveRDS(sessions_device_type_se_wmean, \"cache/sessions_device_type_se_wmean.RData\")\n",
    "}"
   ]
  },
  {
   "cell_type": "code",
   "execution_count": 119,
   "metadata": {},
   "outputs": [
    {
     "data": {
      "text/html": [
       "<ol class=list-inline>\n",
       "\t<li>'sessions_action_detail_flg_sum.RData'</li>\n",
       "\t<li>'sessions_action_detail_se_mean.RData'</li>\n",
       "\t<li>'sessions_action_detail_se_sd.RData'</li>\n",
       "\t<li>'sessions_action_detail_se_sum.RData'</li>\n",
       "\t<li>'sessions_action_detail_se_wmean.RData'</li>\n",
       "\t<li>'sessions_action_detail_se_wrmean.RData'</li>\n",
       "\t<li>'sessions_action_flg_sum.RData'</li>\n",
       "\t<li>'sessions_action_se_mean.RData'</li>\n",
       "\t<li>'sessions_action_se_sd.RData'</li>\n",
       "\t<li>'sessions_action_se_sum.RData'</li>\n",
       "\t<li>'sessions_action_se_wmean.RData'</li>\n",
       "\t<li>'sessions_action_se_wrmean.RData'</li>\n",
       "\t<li>'sessions_action_type_flg_sum.RData'</li>\n",
       "\t<li>'sessions_action_type_se_mean.RData'</li>\n",
       "\t<li>'sessions_action_type_se_sd.RData'</li>\n",
       "\t<li>'sessions_action_type_se_sum.RData'</li>\n",
       "\t<li>'sessions_action_type_se_wmean.RData'</li>\n",
       "\t<li>'sessions_action_type_se_wrmean.RData'</li>\n",
       "\t<li>'sessions_device_type_flg_sum.RData'</li>\n",
       "\t<li>'sessions_device_type_se_mean.RData'</li>\n",
       "\t<li>'sessions_device_type_se_sd.RData'</li>\n",
       "\t<li>'sessions_device_type_se_sum.RData'</li>\n",
       "\t<li>'sessions_device_type_se_wmean.RData'</li>\n",
       "\t<li>'sessions_device_type_se_wrmean.RData'</li>\n",
       "</ol>\n"
      ],
      "text/latex": [
       "\\begin{enumerate*}\n",
       "\\item 'sessions\\_action\\_detail\\_flg\\_sum.RData'\n",
       "\\item 'sessions\\_action\\_detail\\_se\\_mean.RData'\n",
       "\\item 'sessions\\_action\\_detail\\_se\\_sd.RData'\n",
       "\\item 'sessions\\_action\\_detail\\_se\\_sum.RData'\n",
       "\\item 'sessions\\_action\\_detail\\_se\\_wmean.RData'\n",
       "\\item 'sessions\\_action\\_detail\\_se\\_wrmean.RData'\n",
       "\\item 'sessions\\_action\\_flg\\_sum.RData'\n",
       "\\item 'sessions\\_action\\_se\\_mean.RData'\n",
       "\\item 'sessions\\_action\\_se\\_sd.RData'\n",
       "\\item 'sessions\\_action\\_se\\_sum.RData'\n",
       "\\item 'sessions\\_action\\_se\\_wmean.RData'\n",
       "\\item 'sessions\\_action\\_se\\_wrmean.RData'\n",
       "\\item 'sessions\\_action\\_type\\_flg\\_sum.RData'\n",
       "\\item 'sessions\\_action\\_type\\_se\\_mean.RData'\n",
       "\\item 'sessions\\_action\\_type\\_se\\_sd.RData'\n",
       "\\item 'sessions\\_action\\_type\\_se\\_sum.RData'\n",
       "\\item 'sessions\\_action\\_type\\_se\\_wmean.RData'\n",
       "\\item 'sessions\\_action\\_type\\_se\\_wrmean.RData'\n",
       "\\item 'sessions\\_device\\_type\\_flg\\_sum.RData'\n",
       "\\item 'sessions\\_device\\_type\\_se\\_mean.RData'\n",
       "\\item 'sessions\\_device\\_type\\_se\\_sd.RData'\n",
       "\\item 'sessions\\_device\\_type\\_se\\_sum.RData'\n",
       "\\item 'sessions\\_device\\_type\\_se\\_wmean.RData'\n",
       "\\item 'sessions\\_device\\_type\\_se\\_wrmean.RData'\n",
       "\\end{enumerate*}\n"
      ],
      "text/markdown": [
       "1. 'sessions_action_detail_flg_sum.RData'\n",
       "2. 'sessions_action_detail_se_mean.RData'\n",
       "3. 'sessions_action_detail_se_sd.RData'\n",
       "4. 'sessions_action_detail_se_sum.RData'\n",
       "5. 'sessions_action_detail_se_wmean.RData'\n",
       "6. 'sessions_action_detail_se_wrmean.RData'\n",
       "7. 'sessions_action_flg_sum.RData'\n",
       "8. 'sessions_action_se_mean.RData'\n",
       "9. 'sessions_action_se_sd.RData'\n",
       "10. 'sessions_action_se_sum.RData'\n",
       "11. 'sessions_action_se_wmean.RData'\n",
       "12. 'sessions_action_se_wrmean.RData'\n",
       "13. 'sessions_action_type_flg_sum.RData'\n",
       "14. 'sessions_action_type_se_mean.RData'\n",
       "15. 'sessions_action_type_se_sd.RData'\n",
       "16. 'sessions_action_type_se_sum.RData'\n",
       "17. 'sessions_action_type_se_wmean.RData'\n",
       "18. 'sessions_action_type_se_wrmean.RData'\n",
       "19. 'sessions_device_type_flg_sum.RData'\n",
       "20. 'sessions_device_type_se_mean.RData'\n",
       "21. 'sessions_device_type_se_sd.RData'\n",
       "22. 'sessions_device_type_se_sum.RData'\n",
       "23. 'sessions_device_type_se_wmean.RData'\n",
       "24. 'sessions_device_type_se_wrmean.RData'\n",
       "\n",
       "\n"
      ],
      "text/plain": [
       " [1] \"sessions_action_detail_flg_sum.RData\"  \n",
       " [2] \"sessions_action_detail_se_mean.RData\"  \n",
       " [3] \"sessions_action_detail_se_sd.RData\"    \n",
       " [4] \"sessions_action_detail_se_sum.RData\"   \n",
       " [5] \"sessions_action_detail_se_wmean.RData\" \n",
       " [6] \"sessions_action_detail_se_wrmean.RData\"\n",
       " [7] \"sessions_action_flg_sum.RData\"         \n",
       " [8] \"sessions_action_se_mean.RData\"         \n",
       " [9] \"sessions_action_se_sd.RData\"           \n",
       "[10] \"sessions_action_se_sum.RData\"          \n",
       "[11] \"sessions_action_se_wmean.RData\"        \n",
       "[12] \"sessions_action_se_wrmean.RData\"       \n",
       "[13] \"sessions_action_type_flg_sum.RData\"    \n",
       "[14] \"sessions_action_type_se_mean.RData\"    \n",
       "[15] \"sessions_action_type_se_sd.RData\"      \n",
       "[16] \"sessions_action_type_se_sum.RData\"     \n",
       "[17] \"sessions_action_type_se_wmean.RData\"   \n",
       "[18] \"sessions_action_type_se_wrmean.RData\"  \n",
       "[19] \"sessions_device_type_flg_sum.RData\"    \n",
       "[20] \"sessions_device_type_se_mean.RData\"    \n",
       "[21] \"sessions_device_type_se_sd.RData\"      \n",
       "[22] \"sessions_device_type_se_sum.RData\"     \n",
       "[23] \"sessions_device_type_se_wmean.RData\"   \n",
       "[24] \"sessions_device_type_se_wrmean.RData\"  "
      ]
     },
     "metadata": {},
     "output_type": "display_data"
    }
   ],
   "source": [
    "list.files(\"cache/\")"
   ]
  },
  {
   "cell_type": "code",
   "execution_count": 127,
   "metadata": {},
   "outputs": [
    {
     "name": "stdout",
     "output_type": "stream",
     "text": [
      "[1] \"Original sessions\"\n"
     ]
    },
    {
     "data": {
      "text/html": [
       "<table>\n",
       "<thead><tr><th scope=col>user_id</th><th scope=col>action</th><th scope=col>action_type</th><th scope=col>action_detail</th><th scope=col>device_type</th><th scope=col>secs_elapsed</th><th scope=col>flg</th><th scope=col>seq</th><th scope=col>seq_rev</th><th scope=col>action2</th></tr></thead>\n",
       "<tbody>\n",
       "\t<tr><td>d1mm9tcy42                                              </td><td>lookup                                                  </td><td>                                                        </td><td>                                                        </td><td>Windows Desktop                                         </td><td>  319                                                   </td><td>1                                                       </td><td>1                                                       </td><td>127                                                     </td><td>lookup___Windows Desktop                                </td></tr>\n",
       "\t<tr><td>d1mm9tcy42                                              </td><td>search_results                                          </td><td>click                                                   </td><td>view_search_results                                     </td><td>Windows Desktop                                         </td><td>67753                                                   </td><td>1                                                       </td><td>2                                                       </td><td>126                                                     </td><td>search_results_click_view_search_results_Windows Desktop</td></tr>\n",
       "\t<tr><td>d1mm9tcy42                                              </td><td>lookup                                                  </td><td>                                                        </td><td>                                                        </td><td>Windows Desktop                                         </td><td>  301                                                   </td><td>1                                                       </td><td>3                                                       </td><td>125                                                     </td><td>lookup___Windows Desktop                                </td></tr>\n",
       "\t<tr><td>d1mm9tcy42                                              </td><td>search_results                                          </td><td>click                                                   </td><td>view_search_results                                     </td><td>Windows Desktop                                         </td><td>22141                                                   </td><td>1                                                       </td><td>4                                                       </td><td>124                                                     </td><td>search_results_click_view_search_results_Windows Desktop</td></tr>\n",
       "\t<tr><td>d1mm9tcy42                                              </td><td>lookup                                                  </td><td>                                                        </td><td>                                                        </td><td>Windows Desktop                                         </td><td>  435                                                   </td><td>1                                                       </td><td>5                                                       </td><td>123                                                     </td><td>lookup___Windows Desktop                                </td></tr>\n",
       "\t<tr><td>d1mm9tcy42                                              </td><td>search_results                                          </td><td>click                                                   </td><td>view_search_results                                     </td><td>Windows Desktop                                         </td><td> 7703                                                   </td><td>1                                                       </td><td>6                                                       </td><td>122                                                     </td><td>search_results_click_view_search_results_Windows Desktop</td></tr>\n",
       "</tbody>\n",
       "</table>\n"
      ],
      "text/latex": [
       "\\begin{tabular}{r|llllllllll}\n",
       " user\\_id & action & action\\_type & action\\_detail & device\\_type & secs\\_elapsed & flg & seq & seq\\_rev & action2\\\\\n",
       "\\hline\n",
       "\t d1mm9tcy42                                                     & lookup                                                         &                                                                &                                                                & Windows Desktop                                                &   319                                                          & 1                                                              & 1                                                              & 127                                                            & lookup\\_\\_\\_Windows Desktop                                \\\\\n",
       "\t d1mm9tcy42                                                           & search\\_results                                                     & click                                                                & view\\_search\\_results                                              & Windows Desktop                                                      & 67753                                                                & 1                                                                    & 2                                                                    & 126                                                                  & search\\_results\\_click\\_view\\_search\\_results\\_Windows Desktop\\\\\n",
       "\t d1mm9tcy42                                                     & lookup                                                         &                                                                &                                                                & Windows Desktop                                                &   301                                                          & 1                                                              & 3                                                              & 125                                                            & lookup\\_\\_\\_Windows Desktop                                \\\\\n",
       "\t d1mm9tcy42                                                           & search\\_results                                                     & click                                                                & view\\_search\\_results                                              & Windows Desktop                                                      & 22141                                                                & 1                                                                    & 4                                                                    & 124                                                                  & search\\_results\\_click\\_view\\_search\\_results\\_Windows Desktop\\\\\n",
       "\t d1mm9tcy42                                                     & lookup                                                         &                                                                &                                                                & Windows Desktop                                                &   435                                                          & 1                                                              & 5                                                              & 123                                                            & lookup\\_\\_\\_Windows Desktop                                \\\\\n",
       "\t d1mm9tcy42                                                           & search\\_results                                                     & click                                                                & view\\_search\\_results                                              & Windows Desktop                                                      &  7703                                                                & 1                                                                    & 6                                                                    & 122                                                                  & search\\_results\\_click\\_view\\_search\\_results\\_Windows Desktop\\\\\n",
       "\\end{tabular}\n"
      ],
      "text/markdown": [
       "\n",
       "user_id | action | action_type | action_detail | device_type | secs_elapsed | flg | seq | seq_rev | action2 | \n",
       "|---|---|---|---|---|---|\n",
       "| d1mm9tcy42                                               | lookup                                                   |                                                          |                                                          | Windows Desktop                                          |   319                                                    | 1                                                        | 1                                                        | 127                                                      | lookup___Windows Desktop                                 | \n",
       "| d1mm9tcy42                                               | search_results                                           | click                                                    | view_search_results                                      | Windows Desktop                                          | 67753                                                    | 1                                                        | 2                                                        | 126                                                      | search_results_click_view_search_results_Windows Desktop | \n",
       "| d1mm9tcy42                                               | lookup                                                   |                                                          |                                                          | Windows Desktop                                          |   301                                                    | 1                                                        | 3                                                        | 125                                                      | lookup___Windows Desktop                                 | \n",
       "| d1mm9tcy42                                               | search_results                                           | click                                                    | view_search_results                                      | Windows Desktop                                          | 22141                                                    | 1                                                        | 4                                                        | 124                                                      | search_results_click_view_search_results_Windows Desktop | \n",
       "| d1mm9tcy42                                               | lookup                                                   |                                                          |                                                          | Windows Desktop                                          |   435                                                    | 1                                                        | 5                                                        | 123                                                      | lookup___Windows Desktop                                 | \n",
       "| d1mm9tcy42                                               | search_results                                           | click                                                    | view_search_results                                      | Windows Desktop                                          |  7703                                                    | 1                                                        | 6                                                        | 122                                                      | search_results_click_view_search_results_Windows Desktop | \n",
       "\n",
       "\n"
      ],
      "text/plain": [
       "  user_id    action         action_type action_detail       device_type    \n",
       "1 d1mm9tcy42 lookup                                         Windows Desktop\n",
       "2 d1mm9tcy42 search_results click       view_search_results Windows Desktop\n",
       "3 d1mm9tcy42 lookup                                         Windows Desktop\n",
       "4 d1mm9tcy42 search_results click       view_search_results Windows Desktop\n",
       "5 d1mm9tcy42 lookup                                         Windows Desktop\n",
       "6 d1mm9tcy42 search_results click       view_search_results Windows Desktop\n",
       "  secs_elapsed flg seq seq_rev\n",
       "1   319        1   1   127    \n",
       "2 67753        1   2   126    \n",
       "3   301        1   3   125    \n",
       "4 22141        1   4   124    \n",
       "5   435        1   5   123    \n",
       "6  7703        1   6   122    \n",
       "  action2                                                 \n",
       "1 lookup___Windows Desktop                                \n",
       "2 search_results_click_view_search_results_Windows Desktop\n",
       "3 lookup___Windows Desktop                                \n",
       "4 search_results_click_view_search_results_Windows Desktop\n",
       "5 lookup___Windows Desktop                                \n",
       "6 search_results_click_view_search_results_Windows Desktop"
      ]
     },
     "metadata": {},
     "output_type": "display_data"
    },
    {
     "name": "stdout",
     "output_type": "stream",
     "text": [
      "[1] \"action time sums\"\n"
     ]
    },
    {
     "data": {
      "text/html": [
       "<table>\n",
       "<thead><tr><th scope=col>id</th><th scope=col>feature</th><th scope=col>value</th></tr></thead>\n",
       "<tbody>\n",
       "\t<tr><td>d1mm9tcy42                         </td><td>action_se_sum_lookup               </td><td>  12805                            </td></tr>\n",
       "\t<tr><td>d1mm9tcy42                         </td><td>action_se_sum_search_results       </td><td> 263459                            </td></tr>\n",
       "\t<tr><td>d1mm9tcy42                         </td><td>action_se_sum_personalize          </td><td>  21192                            </td></tr>\n",
       "\t<tr><td>d1mm9tcy42                         </td><td>action_se_sum_index                </td><td>1411512                            </td></tr>\n",
       "\t<tr><td>d1mm9tcy42                         </td><td>action_se_sum_similar_listings     </td><td>   2495                            </td></tr>\n",
       "\t<tr><td>d1mm9tcy42                         </td><td>action_se_sum_ajax_refresh_subtotal</td><td> 441739                            </td></tr>\n",
       "</tbody>\n",
       "</table>\n"
      ],
      "text/latex": [
       "\\begin{tabular}{r|lll}\n",
       " id & feature & value\\\\\n",
       "\\hline\n",
       "\t d1mm9tcy42                                & action\\_se\\_sum\\_lookup                &   12805                                  \\\\\n",
       "\t d1mm9tcy42                                  & action\\_se\\_sum\\_search\\_results        &  263459                                    \\\\\n",
       "\t d1mm9tcy42                                & action\\_se\\_sum\\_personalize           &   21192                                  \\\\\n",
       "\t d1mm9tcy42                                & action\\_se\\_sum\\_index                 & 1411512                                  \\\\\n",
       "\t d1mm9tcy42                                  & action\\_se\\_sum\\_similar\\_listings      &    2495                                    \\\\\n",
       "\t d1mm9tcy42                                    & action\\_se\\_sum\\_ajax\\_refresh\\_subtotal &  441739                                      \\\\\n",
       "\\end{tabular}\n"
      ],
      "text/markdown": [
       "\n",
       "id | feature | value | \n",
       "|---|---|---|---|---|---|\n",
       "| d1mm9tcy42                          | action_se_sum_lookup                |   12805                             | \n",
       "| d1mm9tcy42                          | action_se_sum_search_results        |  263459                             | \n",
       "| d1mm9tcy42                          | action_se_sum_personalize           |   21192                             | \n",
       "| d1mm9tcy42                          | action_se_sum_index                 | 1411512                             | \n",
       "| d1mm9tcy42                          | action_se_sum_similar_listings      |    2495                             | \n",
       "| d1mm9tcy42                          | action_se_sum_ajax_refresh_subtotal |  441739                             | \n",
       "\n",
       "\n"
      ],
      "text/plain": [
       "  id         feature                             value  \n",
       "1 d1mm9tcy42 action_se_sum_lookup                  12805\n",
       "2 d1mm9tcy42 action_se_sum_search_results         263459\n",
       "3 d1mm9tcy42 action_se_sum_personalize             21192\n",
       "4 d1mm9tcy42 action_se_sum_index                 1411512\n",
       "5 d1mm9tcy42 action_se_sum_similar_listings         2495\n",
       "6 d1mm9tcy42 action_se_sum_ajax_refresh_subtotal  441739"
      ]
     },
     "metadata": {},
     "output_type": "display_data"
    },
    {
     "name": "stdout",
     "output_type": "stream",
     "text": [
      "[1] \"action time means\"\n"
     ]
    },
    {
     "data": {
      "text/html": [
       "<table>\n",
       "<thead><tr><th scope=col>id</th><th scope=col>feature</th><th scope=col>value</th></tr></thead>\n",
       "<tbody>\n",
       "\t<tr><td>d1mm9tcy42                          </td><td>action_se_mean_lookup               </td><td>   556.7391                         </td></tr>\n",
       "\t<tr><td>d1mm9tcy42                          </td><td>action_se_mean_search_results       </td><td> 21954.9167                         </td></tr>\n",
       "\t<tr><td>d1mm9tcy42                          </td><td>action_se_mean_personalize          </td><td>   847.6800                         </td></tr>\n",
       "\t<tr><td>d1mm9tcy42                          </td><td>action_se_mean_index                </td><td>128319.2727                         </td></tr>\n",
       "\t<tr><td>d1mm9tcy42                          </td><td>action_se_mean_similar_listings     </td><td>   277.2222                         </td></tr>\n",
       "\t<tr><td>d1mm9tcy42                          </td><td>action_se_mean_ajax_refresh_subtotal</td><td> 55217.3750                         </td></tr>\n",
       "</tbody>\n",
       "</table>\n"
      ],
      "text/latex": [
       "\\begin{tabular}{r|lll}\n",
       " id & feature & value\\\\\n",
       "\\hline\n",
       "\t d1mm9tcy42                                 & action\\_se\\_mean\\_lookup                &    556.7391                               \\\\\n",
       "\t d1mm9tcy42                                   & action\\_se\\_mean\\_search\\_results        &  21954.9167                                 \\\\\n",
       "\t d1mm9tcy42                                 & action\\_se\\_mean\\_personalize           &    847.6800                               \\\\\n",
       "\t d1mm9tcy42                                 & action\\_se\\_mean\\_index                 & 128319.2727                               \\\\\n",
       "\t d1mm9tcy42                                   & action\\_se\\_mean\\_similar\\_listings      &    277.2222                                 \\\\\n",
       "\t d1mm9tcy42                                     & action\\_se\\_mean\\_ajax\\_refresh\\_subtotal &  55217.3750                                   \\\\\n",
       "\\end{tabular}\n"
      ],
      "text/markdown": [
       "\n",
       "id | feature | value | \n",
       "|---|---|---|---|---|---|\n",
       "| d1mm9tcy42                           | action_se_mean_lookup                |    556.7391                          | \n",
       "| d1mm9tcy42                           | action_se_mean_search_results        |  21954.9167                          | \n",
       "| d1mm9tcy42                           | action_se_mean_personalize           |    847.6800                          | \n",
       "| d1mm9tcy42                           | action_se_mean_index                 | 128319.2727                          | \n",
       "| d1mm9tcy42                           | action_se_mean_similar_listings      |    277.2222                          | \n",
       "| d1mm9tcy42                           | action_se_mean_ajax_refresh_subtotal |  55217.3750                          | \n",
       "\n",
       "\n"
      ],
      "text/plain": [
       "  id         feature                              value      \n",
       "1 d1mm9tcy42 action_se_mean_lookup                   556.7391\n",
       "2 d1mm9tcy42 action_se_mean_search_results         21954.9167\n",
       "3 d1mm9tcy42 action_se_mean_personalize              847.6800\n",
       "4 d1mm9tcy42 action_se_mean_index                 128319.2727\n",
       "5 d1mm9tcy42 action_se_mean_similar_listings         277.2222\n",
       "6 d1mm9tcy42 action_se_mean_ajax_refresh_subtotal  55217.3750"
      ]
     },
     "metadata": {},
     "output_type": "display_data"
    }
   ],
   "source": [
    "print('Original sessions')\n",
    "head(sessions)\n",
    "print('action time sums')\n",
    "head(sessions_action_se_sum)\n",
    "print('action time means')\n",
    "head(sessions_action_se_mean)"
   ]
  },
  {
   "cell_type": "markdown",
   "metadata": {},
   "source": []
  },
  {
   "cell_type": "markdown",
   "metadata": {},
   "source": [
    "### Identify categorical and numeric features"
   ]
  },
  {
   "cell_type": "code",
   "execution_count": 5,
   "metadata": {},
   "outputs": [],
   "source": [
    "#NUMERIC FEATURES\n",
    "num_f <- c(\n",
    "  \"tfa_year\",\n",
    "  \"tfa_month\",\n",
    "  \"tfa_yearmonth\",\n",
    "  \"tfa_yearmonthday\",\n",
    "  \"tfa_yearmonthweek\",\n",
    "  \"tfa_day\",\n",
    "   \"tfa_week\",\n",
    "   \"dac_lag\",\n",
    "   \"dfb_dac_lag\",\n",
    "   \"dfb_tfa_lag\",\n",
    "    #\"age_cln\",\n",
    "  \"age_cln2\",\n",
    "  \"dac_year\",\n",
    "  \"dac_month\",\n",
    "  \"dac_yearmonth\",\n",
    "  \"dac_yearmonthday\",\n",
    "  \"dac_yearmonthweek\",\n",
    "  \"dac_day\",\n",
    "  \"dac_week\"\n",
    ")"
   ]
  },
  {
   "cell_type": "code",
   "execution_count": 6,
   "metadata": {},
   "outputs": [],
   "source": [
    "df_all_num_f <- list()\n",
    "i <- 1\n",
    "for(feat in num_f){\n",
    "  df_all_num_f_ <- df_all[c(\"id\", feat)]\n",
    "  df_all_num_f_$feature <- feat\n",
    "  df_all_num_f_$value <- as.numeric(df_all_num_f_[[feat]])\n",
    "  df_all_num_f_ <- df_all_num_f_[c(\"id\", \"feature\", \"value\")]\n",
    "  df_all_num_f[[i]] <- df_all_num_f_\n",
    "  i <- i + 1\n",
    "}"
   ]
  },
  {
   "cell_type": "code",
   "execution_count": 7,
   "metadata": {},
   "outputs": [
    {
     "name": "stdout",
     "output_type": "stream",
     "text": [
      "Classes 'tbl_df', 'tbl' and 'data.frame':\t4959846 obs. of  3 variables:\n",
      " $ id     : chr  \"gxn3p5htnn\" \"820tgsjxq7\" \"4ft3gnwmtx\" \"bjjt8pjhuk\" ...\n",
      " $ feature: chr  \"tfa_year\" \"tfa_year\" \"tfa_year\" \"tfa_year\" ...\n",
      " $ value  : num  2009 2009 2009 2009 2009 ...\n",
      "NULL\n",
      "[1] \"numeric feature\"\n",
      "[1] 18\n"
     ]
    }
   ],
   "source": [
    "df_all_num_f <- bind_rows(df_all_num_f)\n",
    "print(str(df_all_num_f))\n",
    "print(\"numeric feature\")\n",
    "print(n_distinct(df_all_num_f$feature))"
   ]
  },
  {
   "cell_type": "code",
   "execution_count": 8,
   "metadata": {
    "scrolled": false
   },
   "outputs": [
    {
     "data": {
      "text/plain": [
       "      id              feature              value         \n",
       " Length:4959846     Length:4959846     Min.   :    -349  \n",
       " Class :character   Class :character   1st Qu.:      10  \n",
       " Mode  :character   Mode  :character   Median :      89  \n",
       "                                       Mean   : 4989721  \n",
       "                                       3rd Qu.:  201409  \n",
       "                                       Max.   :20140939  \n",
       "                                       NA's   :490144    "
      ]
     },
     "metadata": {},
     "output_type": "display_data"
    },
    {
     "data": {
      "text/html": [
       "<table>\n",
       "<thead><tr><th scope=col>id</th><th scope=col>feature</th><th scope=col>value</th></tr></thead>\n",
       "<tbody>\n",
       "\t<tr><td>gxn3p5htnn</td><td>tfa_year  </td><td>2009      </td></tr>\n",
       "\t<tr><td>820tgsjxq7</td><td>tfa_year  </td><td>2009      </td></tr>\n",
       "\t<tr><td>4ft3gnwmtx</td><td>tfa_year  </td><td>2009      </td></tr>\n",
       "\t<tr><td>bjjt8pjhuk</td><td>tfa_year  </td><td>2009      </td></tr>\n",
       "\t<tr><td>87mebub9p4</td><td>tfa_year  </td><td>2009      </td></tr>\n",
       "\t<tr><td>osr2jwljor</td><td>tfa_year  </td><td>2010      </td></tr>\n",
       "</tbody>\n",
       "</table>\n"
      ],
      "text/latex": [
       "\\begin{tabular}{r|lll}\n",
       " id & feature & value\\\\\n",
       "\\hline\n",
       "\t gxn3p5htnn & tfa\\_year & 2009      \\\\\n",
       "\t 820tgsjxq7 & tfa\\_year & 2009      \\\\\n",
       "\t 4ft3gnwmtx & tfa\\_year & 2009      \\\\\n",
       "\t bjjt8pjhuk & tfa\\_year & 2009      \\\\\n",
       "\t 87mebub9p4 & tfa\\_year & 2009      \\\\\n",
       "\t osr2jwljor & tfa\\_year & 2010      \\\\\n",
       "\\end{tabular}\n"
      ],
      "text/markdown": [
       "\n",
       "id | feature | value | \n",
       "|---|---|---|---|---|---|\n",
       "| gxn3p5htnn | tfa_year   | 2009       | \n",
       "| 820tgsjxq7 | tfa_year   | 2009       | \n",
       "| 4ft3gnwmtx | tfa_year   | 2009       | \n",
       "| bjjt8pjhuk | tfa_year   | 2009       | \n",
       "| 87mebub9p4 | tfa_year   | 2009       | \n",
       "| osr2jwljor | tfa_year   | 2010       | \n",
       "\n",
       "\n"
      ],
      "text/plain": [
       "  id         feature  value\n",
       "1 gxn3p5htnn tfa_year 2009 \n",
       "2 820tgsjxq7 tfa_year 2009 \n",
       "3 4ft3gnwmtx tfa_year 2009 \n",
       "4 bjjt8pjhuk tfa_year 2009 \n",
       "5 87mebub9p4 tfa_year 2009 \n",
       "6 osr2jwljor tfa_year 2010 "
      ]
     },
     "metadata": {},
     "output_type": "display_data"
    },
    {
     "data": {
      "text/html": [
       "<table>\n",
       "<thead><tr><th scope=col>id</th><th scope=col>feature</th><th scope=col>value</th></tr></thead>\n",
       "<tbody>\n",
       "\t<tr><td>8yvhec201j</td><td>dac_week  </td><td>39        </td></tr>\n",
       "\t<tr><td>cv0na2lf5a</td><td>dac_week  </td><td>39        </td></tr>\n",
       "\t<tr><td>zp8xfonng8</td><td>dac_week  </td><td>39        </td></tr>\n",
       "\t<tr><td>fa6260ziny</td><td>dac_week  </td><td>39        </td></tr>\n",
       "\t<tr><td>87k0fy4ugm</td><td>dac_week  </td><td>39        </td></tr>\n",
       "\t<tr><td>9uqfg8txu3</td><td>dac_week  </td><td>39        </td></tr>\n",
       "</tbody>\n",
       "</table>\n"
      ],
      "text/latex": [
       "\\begin{tabular}{r|lll}\n",
       " id & feature & value\\\\\n",
       "\\hline\n",
       "\t 8yvhec201j & dac\\_week & 39        \\\\\n",
       "\t cv0na2lf5a & dac\\_week & 39        \\\\\n",
       "\t zp8xfonng8 & dac\\_week & 39        \\\\\n",
       "\t fa6260ziny & dac\\_week & 39        \\\\\n",
       "\t 87k0fy4ugm & dac\\_week & 39        \\\\\n",
       "\t 9uqfg8txu3 & dac\\_week & 39        \\\\\n",
       "\\end{tabular}\n"
      ],
      "text/markdown": [
       "\n",
       "id | feature | value | \n",
       "|---|---|---|---|---|---|\n",
       "| 8yvhec201j | dac_week   | 39         | \n",
       "| cv0na2lf5a | dac_week   | 39         | \n",
       "| zp8xfonng8 | dac_week   | 39         | \n",
       "| fa6260ziny | dac_week   | 39         | \n",
       "| 87k0fy4ugm | dac_week   | 39         | \n",
       "| 9uqfg8txu3 | dac_week   | 39         | \n",
       "\n",
       "\n"
      ],
      "text/plain": [
       "  id         feature  value\n",
       "1 8yvhec201j dac_week 39   \n",
       "2 cv0na2lf5a dac_week 39   \n",
       "3 zp8xfonng8 dac_week 39   \n",
       "4 fa6260ziny dac_week 39   \n",
       "5 87k0fy4ugm dac_week 39   \n",
       "6 9uqfg8txu3 dac_week 39   "
      ]
     },
     "metadata": {},
     "output_type": "display_data"
    }
   ],
   "source": [
    "summary(df_all_num_f)\n",
    "head(df_all_num_f)\n",
    "tail(df_all_num_f)"
   ]
  },
  {
   "cell_type": "code",
   "execution_count": 9,
   "metadata": {},
   "outputs": [],
   "source": [
    "#CATEGORICAL FEAT - one hot encoding\n",
    "cat_f = c('gender',              \n",
    "          'first_affiliate_tracked',\n",
    "          'signup_app',\n",
    "          'first_device_type',\n",
    "          'first_browser',\n",
    "          'signup_method', \n",
    "          'signup_flow',\n",
    "          'language',\n",
    "          'affiliate_channel',\n",
    "          'affiliate_provider')\n",
    "df_all_cat_f <- list()"
   ]
  },
  {
   "cell_type": "code",
   "execution_count": 10,
   "metadata": {},
   "outputs": [],
   "source": [
    "#Combined \"feature_category\" and then value 1 to identify\n",
    "i <- 1\n",
    "n_feats <- 0\n",
    "for(feat in cat_f){\n",
    "  df_all_cat_f_ <- df_all[c(\"id\", feat)]\n",
    "  df_all_cat_f_$feature <- paste(feat, df_all_cat_f_[[feat]], sep=\"_\")\n",
    "  df_all_cat_f_$value <- 1\n",
    "  df_all_cat_f_ <- df_all_cat_f_[c(\"id\", \"feature\", \"value\")]\n",
    "  df_all_cat_f[[i]] <- df_all_cat_f_\n",
    "  i <- i + 1\n",
    "  n_feats_ <- n_distinct(df_all_cat_f_$feature)\n",
    "  n_feats <- n_feats + n_feats_\n",
    "}\n",
    "df_all_cat_f <- bind_rows(df_all_cat_f)"
   ]
  },
  {
   "cell_type": "code",
   "execution_count": 11,
   "metadata": {},
   "outputs": [
    {
     "name": "stdout",
     "output_type": "stream",
     "text": [
      "[1] \"categorical feature\"\n",
      "[1] 154\n",
      "[1] 18\n"
     ]
    },
    {
     "data": {
      "text/html": [
       "<table>\n",
       "<thead><tr><th scope=col>id</th><th scope=col>feature</th><th scope=col>value</th></tr></thead>\n",
       "<tbody>\n",
       "\t<tr><td>gxn3p5htnn      </td><td>gender_-unknown-</td><td>1               </td></tr>\n",
       "\t<tr><td>820tgsjxq7      </td><td>gender_MALE     </td><td>1               </td></tr>\n",
       "\t<tr><td>4ft3gnwmtx      </td><td>gender_FEMALE   </td><td>1               </td></tr>\n",
       "\t<tr><td>bjjt8pjhuk      </td><td>gender_FEMALE   </td><td>1               </td></tr>\n",
       "\t<tr><td>87mebub9p4      </td><td>gender_-unknown-</td><td>1               </td></tr>\n",
       "\t<tr><td>osr2jwljor      </td><td>gender_-unknown-</td><td>1               </td></tr>\n",
       "</tbody>\n",
       "</table>\n"
      ],
      "text/latex": [
       "\\begin{tabular}{r|lll}\n",
       " id & feature & value\\\\\n",
       "\\hline\n",
       "\t gxn3p5htnn         & gender\\_-unknown- & 1                 \\\\\n",
       "\t 820tgsjxq7         & gender\\_MALE      & 1                 \\\\\n",
       "\t 4ft3gnwmtx         & gender\\_FEMALE    & 1                 \\\\\n",
       "\t bjjt8pjhuk         & gender\\_FEMALE    & 1                 \\\\\n",
       "\t 87mebub9p4         & gender\\_-unknown- & 1                 \\\\\n",
       "\t osr2jwljor         & gender\\_-unknown- & 1                 \\\\\n",
       "\\end{tabular}\n"
      ],
      "text/markdown": [
       "\n",
       "id | feature | value | \n",
       "|---|---|---|---|---|---|\n",
       "| gxn3p5htnn       | gender_-unknown- | 1                | \n",
       "| 820tgsjxq7       | gender_MALE      | 1                | \n",
       "| 4ft3gnwmtx       | gender_FEMALE    | 1                | \n",
       "| bjjt8pjhuk       | gender_FEMALE    | 1                | \n",
       "| 87mebub9p4       | gender_-unknown- | 1                | \n",
       "| osr2jwljor       | gender_-unknown- | 1                | \n",
       "\n",
       "\n"
      ],
      "text/plain": [
       "  id         feature          value\n",
       "1 gxn3p5htnn gender_-unknown- 1    \n",
       "2 820tgsjxq7 gender_MALE      1    \n",
       "3 4ft3gnwmtx gender_FEMALE    1    \n",
       "4 bjjt8pjhuk gender_FEMALE    1    \n",
       "5 87mebub9p4 gender_-unknown- 1    \n",
       "6 osr2jwljor gender_-unknown- 1    "
      ]
     },
     "metadata": {},
     "output_type": "display_data"
    },
    {
     "data": {
      "text/html": [
       "<table>\n",
       "<thead><tr><th scope=col>id</th><th scope=col>feature</th><th scope=col>value</th></tr></thead>\n",
       "<tbody>\n",
       "\t<tr><td>8yvhec201j               </td><td>affiliate_provider_yahoo </td><td>1                        </td></tr>\n",
       "\t<tr><td>cv0na2lf5a               </td><td>affiliate_provider_direct</td><td>1                        </td></tr>\n",
       "\t<tr><td>zp8xfonng8               </td><td>affiliate_provider_direct</td><td>1                        </td></tr>\n",
       "\t<tr><td>fa6260ziny               </td><td>affiliate_provider_direct</td><td>1                        </td></tr>\n",
       "\t<tr><td>87k0fy4ugm               </td><td>affiliate_provider_google</td><td>1                        </td></tr>\n",
       "\t<tr><td>9uqfg8txu3               </td><td>affiliate_provider_other </td><td>1                        </td></tr>\n",
       "</tbody>\n",
       "</table>\n"
      ],
      "text/latex": [
       "\\begin{tabular}{r|lll}\n",
       " id & feature & value\\\\\n",
       "\\hline\n",
       "\t 8yvhec201j                    & affiliate\\_provider\\_yahoo  & 1                            \\\\\n",
       "\t cv0na2lf5a                    & affiliate\\_provider\\_direct & 1                            \\\\\n",
       "\t zp8xfonng8                    & affiliate\\_provider\\_direct & 1                            \\\\\n",
       "\t fa6260ziny                    & affiliate\\_provider\\_direct & 1                            \\\\\n",
       "\t 87k0fy4ugm                    & affiliate\\_provider\\_google & 1                            \\\\\n",
       "\t 9uqfg8txu3                    & affiliate\\_provider\\_other  & 1                            \\\\\n",
       "\\end{tabular}\n"
      ],
      "text/markdown": [
       "\n",
       "id | feature | value | \n",
       "|---|---|---|---|---|---|\n",
       "| 8yvhec201j                | affiliate_provider_yahoo  | 1                         | \n",
       "| cv0na2lf5a                | affiliate_provider_direct | 1                         | \n",
       "| zp8xfonng8                | affiliate_provider_direct | 1                         | \n",
       "| fa6260ziny                | affiliate_provider_direct | 1                         | \n",
       "| 87k0fy4ugm                | affiliate_provider_google | 1                         | \n",
       "| 9uqfg8txu3                | affiliate_provider_other  | 1                         | \n",
       "\n",
       "\n"
      ],
      "text/plain": [
       "  id         feature                   value\n",
       "1 8yvhec201j affiliate_provider_yahoo  1    \n",
       "2 cv0na2lf5a affiliate_provider_direct 1    \n",
       "3 zp8xfonng8 affiliate_provider_direct 1    \n",
       "4 fa6260ziny affiliate_provider_direct 1    \n",
       "5 87k0fy4ugm affiliate_provider_google 1    \n",
       "6 9uqfg8txu3 affiliate_provider_other  1    "
      ]
     },
     "metadata": {},
     "output_type": "display_data"
    }
   ],
   "source": [
    "print(\"categorical feature\")\n",
    "print(n_feats)\n",
    "print(n_feats_)\n",
    "head(df_all_cat_f)\n",
    "tail(df_all_cat_f)"
   ]
  },
  {
   "cell_type": "markdown",
   "metadata": {},
   "source": [
    "### Train/Test/Validate"
   ]
  },
  {
   "cell_type": "code",
   "execution_count": 12,
   "metadata": {},
   "outputs": [
    {
     "name": "stdout",
     "output_type": "stream",
     "text": [
      "[1] \"feature number\"\n",
      "[1] 268\n"
     ]
    }
   ],
   "source": [
    "df_all_feats <- \n",
    "  bind_rows(\n",
    "    df_all_num_f,\n",
    "    df_all_cat_f,\n",
    "    #sessions_action_se_sum,\n",
    "    sessions_action_type_se_sum,\n",
    "    #sessions_action_detail_se_sum,\n",
    "    #sessions_device_type_se_sum,\n",
    "    #sessions_action_flg_sum,\n",
    "    sessions_action_type_flg_sum,\n",
    "    #sessions_action_detail_flg_sum,\n",
    "    sessions_device_type_flg_sum,\n",
    "    #sessions_action_se_mean,\n",
    "    #sessions_action_type_se_mean,\n",
    "    #sessions_action_detail_se_mean,\n",
    "    #sessions_device_type_se_mean,\n",
    "    #sessions_action_se_sd,\n",
    "    #sessions_action_type_se_sd,\n",
    "    #sessions_action_detail_se_sd,\n",
    "    #sessions_device_type_se_sd,\n",
    "    #sessions_action_se_wrmean,\n",
    "    #sessions_action_type_se_wrmean,\n",
    "    #sessions_action_detail_se_wrmean,\n",
    "    #sessions_device_type_se_wrmean,\n",
    "    #sessions_action_se_wmean,\n",
    "    #sessions_action_type_se_wmean,\n",
    "    #sessions_action_detail_se_wmean,\n",
    "    #sessions_device_type_se_wmean,\n",
    "    df_all_countries_feats,\n",
    "    df_all_age_gender_bkts_feats\n",
    "  )\n",
    "print(\"feature number\")\n",
    "print(n_distinct(df_all_feats$feature))\n",
    "\n"
   ]
  },
  {
   "cell_type": "code",
   "execution_count": 13,
   "metadata": {
    "scrolled": true
   },
   "outputs": [
    {
     "name": "stdout",
     "output_type": "stream",
     "text": [
      "Classes 'tbl_df', 'tbl' and 'data.frame':\t25971335 obs. of  3 variables:\n",
      " $ id     : chr  \"gxn3p5htnn\" \"820tgsjxq7\" \"4ft3gnwmtx\" \"bjjt8pjhuk\" ...\n",
      " $ feature: chr  \"tfa_year\" \"tfa_year\" \"tfa_year\" \"tfa_year\" ...\n",
      " $ value  : num  2009 2009 2009 2009 2009 ...\n"
     ]
    },
    {
     "data": {
      "text/html": [
       "<table>\n",
       "<thead><tr><th scope=col>id</th><th scope=col>feature</th><th scope=col>value</th></tr></thead>\n",
       "<tbody>\n",
       "\t<tr><td>gxn3p5htnn</td><td>tfa_year  </td><td>2009      </td></tr>\n",
       "\t<tr><td>820tgsjxq7</td><td>tfa_year  </td><td>2009      </td></tr>\n",
       "\t<tr><td>4ft3gnwmtx</td><td>tfa_year  </td><td>2009      </td></tr>\n",
       "\t<tr><td>bjjt8pjhuk</td><td>tfa_year  </td><td>2009      </td></tr>\n",
       "\t<tr><td>87mebub9p4</td><td>tfa_year  </td><td>2009      </td></tr>\n",
       "\t<tr><td>osr2jwljor</td><td>tfa_year  </td><td>2010      </td></tr>\n",
       "</tbody>\n",
       "</table>\n"
      ],
      "text/latex": [
       "\\begin{tabular}{r|lll}\n",
       " id & feature & value\\\\\n",
       "\\hline\n",
       "\t gxn3p5htnn & tfa\\_year & 2009      \\\\\n",
       "\t 820tgsjxq7 & tfa\\_year & 2009      \\\\\n",
       "\t 4ft3gnwmtx & tfa\\_year & 2009      \\\\\n",
       "\t bjjt8pjhuk & tfa\\_year & 2009      \\\\\n",
       "\t 87mebub9p4 & tfa\\_year & 2009      \\\\\n",
       "\t osr2jwljor & tfa\\_year & 2010      \\\\\n",
       "\\end{tabular}\n"
      ],
      "text/markdown": [
       "\n",
       "id | feature | value | \n",
       "|---|---|---|---|---|---|\n",
       "| gxn3p5htnn | tfa_year   | 2009       | \n",
       "| 820tgsjxq7 | tfa_year   | 2009       | \n",
       "| 4ft3gnwmtx | tfa_year   | 2009       | \n",
       "| bjjt8pjhuk | tfa_year   | 2009       | \n",
       "| 87mebub9p4 | tfa_year   | 2009       | \n",
       "| osr2jwljor | tfa_year   | 2010       | \n",
       "\n",
       "\n"
      ],
      "text/plain": [
       "  id         feature  value\n",
       "1 gxn3p5htnn tfa_year 2009 \n",
       "2 820tgsjxq7 tfa_year 2009 \n",
       "3 4ft3gnwmtx tfa_year 2009 \n",
       "4 bjjt8pjhuk tfa_year 2009 \n",
       "5 87mebub9p4 tfa_year 2009 \n",
       "6 osr2jwljor tfa_year 2010 "
      ]
     },
     "metadata": {},
     "output_type": "display_data"
    },
    {
     "data": {
      "text/html": [
       "<table>\n",
       "<thead><tr><th scope=col>id</th><th scope=col>feature</th><th scope=col>value</th></tr></thead>\n",
       "<tbody>\n",
       "\t<tr><td>8yvhec201j                </td><td>population_in_thousands.US</td><td>   NA                     </td></tr>\n",
       "\t<tr><td>cv0na2lf5a                </td><td>population_in_thousands.US</td><td>   NA                     </td></tr>\n",
       "\t<tr><td>zp8xfonng8                </td><td>population_in_thousands.US</td><td>   NA                     </td></tr>\n",
       "\t<tr><td>fa6260ziny                </td><td>population_in_thousands.US</td><td>   NA                     </td></tr>\n",
       "\t<tr><td>87k0fy4ugm                </td><td>population_in_thousands.US</td><td>   NA                     </td></tr>\n",
       "\t<tr><td>9uqfg8txu3                </td><td>population_in_thousands.US</td><td>10659                     </td></tr>\n",
       "</tbody>\n",
       "</table>\n"
      ],
      "text/latex": [
       "\\begin{tabular}{r|lll}\n",
       " id & feature & value\\\\\n",
       "\\hline\n",
       "\t 8yvhec201j                     & population\\_in\\_thousands.US &    NA                         \\\\\n",
       "\t cv0na2lf5a                     & population\\_in\\_thousands.US &    NA                         \\\\\n",
       "\t zp8xfonng8                     & population\\_in\\_thousands.US &    NA                         \\\\\n",
       "\t fa6260ziny                     & population\\_in\\_thousands.US &    NA                         \\\\\n",
       "\t 87k0fy4ugm                     & population\\_in\\_thousands.US &    NA                         \\\\\n",
       "\t 9uqfg8txu3                     & population\\_in\\_thousands.US & 10659                         \\\\\n",
       "\\end{tabular}\n"
      ],
      "text/markdown": [
       "\n",
       "id | feature | value | \n",
       "|---|---|---|---|---|---|\n",
       "| 8yvhec201j                 | population_in_thousands.US |    NA                      | \n",
       "| cv0na2lf5a                 | population_in_thousands.US |    NA                      | \n",
       "| zp8xfonng8                 | population_in_thousands.US |    NA                      | \n",
       "| fa6260ziny                 | population_in_thousands.US |    NA                      | \n",
       "| 87k0fy4ugm                 | population_in_thousands.US |    NA                      | \n",
       "| 9uqfg8txu3                 | population_in_thousands.US | 10659                      | \n",
       "\n",
       "\n"
      ],
      "text/plain": [
       "  id         feature                    value\n",
       "1 8yvhec201j population_in_thousands.US    NA\n",
       "2 cv0na2lf5a population_in_thousands.US    NA\n",
       "3 zp8xfonng8 population_in_thousands.US    NA\n",
       "4 fa6260ziny population_in_thousands.US    NA\n",
       "5 87k0fy4ugm population_in_thousands.US    NA\n",
       "6 9uqfg8txu3 population_in_thousands.US 10659"
      ]
     },
     "metadata": {},
     "output_type": "display_data"
    },
    {
     "data": {
      "text/plain": [
       "      id              feature              value          \n",
       " Length:25971335    Length:25971335    Min.   :     -349  \n",
       " Class :character   Class :character   1st Qu.:        0  \n",
       " Mode  :character   Mode  :character   Median :        1  \n",
       "                                       Mean   :  1261131  \n",
       "                                       3rd Qu.:       62  \n",
       "                                       Max.   :190779602  \n",
       "                                       NA's   :2265574    "
      ]
     },
     "metadata": {},
     "output_type": "display_data"
    }
   ],
   "source": [
    "str(df_all_feats)\n",
    "head(df_all_feats)\n",
    "tail(df_all_feats)\n",
    "summary(df_all_feats)"
   ]
  },
  {
   "cell_type": "code",
   "execution_count": 14,
   "metadata": {},
   "outputs": [],
   "source": [
    "saveRDS(df_all_feats, (\"cache/df_all_feats.RData\"))"
   ]
  },
  {
   "cell_type": "markdown",
   "metadata": {},
   "source": [
    "saveRDS(labels, (\"cache/labels.RData\"))\n",
    "saveRDS(sample_submission_NDF, (\"cache/sample_submission_NDF.RData\"))\n",
    "saveRDS(df_all, (\"cache/df_all.RData\"))\n"
   ]
  },
  {
   "cell_type": "markdown",
   "metadata": {},
   "source": [
    "# we see there are still 5382783 NA's in the data\n",
    "### Save the workspace and move forward to cleaning some of the NA's out of the data"
   ]
  },
  {
   "cell_type": "code",
   "execution_count": null,
   "metadata": {},
   "outputs": [],
   "source": []
  },
  {
   "cell_type": "markdown",
   "metadata": {},
   "source": [
    "save.image(file = \"dataengineering_wrkspc.RData\")"
   ]
  },
  {
   "cell_type": "markdown",
   "metadata": {},
   "source": [
    "load(\"dataengineering_wrkspc.RData\")"
   ]
  }
 ],
 "metadata": {
  "kernelspec": {
   "display_name": "R",
   "language": "R",
   "name": "ir"
  },
  "language_info": {
   "codemirror_mode": "r",
   "file_extension": ".r",
   "mimetype": "text/x-r-source",
   "name": "R",
   "pygments_lexer": "r",
   "version": "3.5.1"
  }
 },
 "nbformat": 4,
 "nbformat_minor": 2
}
